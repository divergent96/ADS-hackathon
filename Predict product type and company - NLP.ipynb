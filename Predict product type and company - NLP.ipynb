{
 "cells": [
  {
   "cell_type": "markdown",
   "metadata": {
    "id": "jPa6xdyuYyVn"
   },
   "source": [
    "# STarter code"
   ]
  },
  {
   "cell_type": "markdown",
   "metadata": {
    "id": "Z-ImR6hgySNl"
   },
   "source": [
    "Load GDrive for data"
   ]
  },
  {
   "cell_type": "code",
   "execution_count": 1,
   "metadata": {
    "colab": {
     "base_uri": "https://localhost:8080/"
    },
    "id": "m7xnF6ydyX30",
    "outputId": "7af4407b-9387-4c6f-b802-0104c28d04fa"
   },
   "outputs": [
    {
     "name": "stdout",
     "output_type": "stream",
     "text": [
      "Drive already mounted at /content/drive; to attempt to forcibly remount, call drive.mount(\"/content/drive\", force_remount=True).\n"
     ]
    }
   ],
   "source": [
    "from google.colab import drive\n",
    "drive.mount('/content/drive')"
   ]
  },
  {
   "cell_type": "markdown",
   "metadata": {
    "id": "4sA7VA95yMDO"
   },
   "source": [
    "## Importing required libraries"
   ]
  },
  {
   "cell_type": "code",
   "execution_count": 2,
   "metadata": {
    "colab": {
     "base_uri": "https://localhost:8080/"
    },
    "id": "TSmaMgQ_x8Po",
    "outputId": "99caa15f-e07b-43bd-f848-f67825464e7c"
   },
   "outputs": [
    {
     "name": "stdout",
     "output_type": "stream",
     "text": [
      "[nltk_data] Downloading package punkt to /root/nltk_data...\n",
      "[nltk_data]   Package punkt is already up-to-date!\n",
      "[nltk_data] Downloading package stopwords to /root/nltk_data...\n",
      "[nltk_data]   Package stopwords is already up-to-date!\n"
     ]
    }
   ],
   "source": [
    "# Asssign a randomness seed for our models\n",
    "\n",
    "SEED = 20\n",
    "\n",
    "# Importing basic libraries\n",
    "from zipfile import ZipFile\n",
    "import os, sys\n",
    "import gc\n",
    "import time\n",
    "import datetime\n",
    "import pandas as pd\n",
    "import numpy as np\n",
    "import matplotlib.pyplot as plt\n",
    "import seaborn as sns\n",
    "import json \n",
    "from string import punctuation\n",
    "import pickle as pkl\n",
    "\n",
    "%matplotlib inline\n",
    "\n",
    "# Import NLTK\n",
    "import nltk\n",
    "nltk.download('punkt')\n",
    "nltk.download('stopwords')\n",
    "\n",
    "from nltk.corpus import stopwords\n",
    "from nltk.stem import PorterStemmer\n",
    "\n",
    "# Preprocessing\n",
    "from sklearn.feature_extraction.text import TfidfVectorizer, CountVectorizer\n",
    "from sklearn.model_selection import train_test_split, cross_val_score\n",
    "from sklearn.preprocessing import StandardScaler\n",
    "\n",
    "from sklearn.decomposition import PCA\n",
    "from sklearn.metrics import f1_score\n",
    "\n",
    "from wordcloud import WordCloud\n",
    "# Import models\n",
    "\n",
    "import lightgbm as lgb\n",
    "from sklearn.cluster import KMeans\n",
    "from sklearn.linear_model import LogisticRegression\n",
    "from sklearn.ensemble import RandomForestClassifier, AdaBoostClassifier\n",
    "from sklearn.naive_bayes import GaussianNB\n",
    "\n",
    "# Model selection\n",
    "from sklearn.model_selection import RandomizedSearchCV\n",
    "\n",
    "# Others\n",
    "\n",
    "from tqdm import tqdm_notebook #Loads progressbars for various loops\n",
    "\n",
    "from typing import List\n",
    "import warnings\n",
    "\n",
    "warnings.filterwarnings('ignore')\n",
    "\n",
    "#####################\n",
    "#Useful pandas settings\n",
    "\n",
    "pd.set_option('display.max_rows', 400)\n",
    "pd.set_option('display.max_columns', 160)\n",
    "pd.set_option('display.max_colwidth', 40)\n",
    "warnings.filterwarnings(\"ignore\")"
   ]
  },
  {
   "cell_type": "markdown",
   "metadata": {
    "id": "mBniekO4yPCk"
   },
   "source": [
    "## Some useful custom functions"
   ]
  },
  {
   "cell_type": "code",
   "execution_count": 3,
   "metadata": {
    "id": "jTpPBfcVyRbh"
   },
   "outputs": [],
   "source": [
    "################################################################################################\n",
    "\n",
    "# Downcasting function for pandas dataframes\n",
    "\n",
    "def downcast_dtypes(df):\n",
    "  '''\n",
    "      Changes column types in the dataframe:             \n",
    "          `float64` type to lowest possible float without data loss\n",
    "          `int64`   type to lowest possible int wihtout data loss\n",
    "  '''\n",
    "  \n",
    "  # Select columns to downcast\n",
    "  float_cols = [col for col in df if df[col].dtype == \"float64\"]\n",
    "  int_cols =   [col for col in df if df[col].dtype == \"int64\"]\n",
    "  \n",
    "  # Downcast columns using to numeric function\n",
    "  df[float_cols] = df[float_cols].apply(pd.to_numeric, downcast='float')\n",
    "  df[int_cols] = df[int_cols].apply(pd.to_numeric, downcast='integer')\n",
    "\n",
    "  # remove variables from memory to avoid issues\n",
    "  \n",
    "  del float_cols\n",
    "  del int_cols\n",
    "  \n",
    "  return df\n",
    "\n",
    "################################################################################################\n",
    "# Check duplication at given level of dataframe\n",
    "\n",
    "def check_dups(df, cols):\n",
    "\n",
    "  orig_count_rows = df.shape[0]\n",
    "\n",
    "  temp = df.groupby(cols).size().reset_index(name = 'counts')\n",
    "\n",
    "  dedup_count_rows = temp.shape[0]\n",
    "\n",
    "  if orig_count_rows == dedup_count_rows:\n",
    "    print(\"No duplicates. Dataframe is unique at given level\")\n",
    "    print(\"# of unique entries: n=\",orig_count_rows)\n",
    "  else:\n",
    "    print(\"Duplicates found. Dataframe is not unique at given level\")\n",
    "    print(\"# of entries in original dataset: n=\", orig_count_rows)\n",
    "    print(\"# of unique entries expected in deduped dataset: n=\", dedup_count_rows)\n",
    "    print(\"# of addational entries: n=\", orig_count_rows - dedup_count_rows)\n",
    "\n",
    "  del orig_count_rows, temp, dedup_count_rows\n",
    "\n",
    "#####################################################################################\n",
    "# Plotting classification features\n",
    "def fancy_plot(df):\n",
    "  column_names = list(df.columns.values)\n",
    "  frauds = df[df['Class'] == 1]\n",
    "  no_frauds = df[df['Class'] == 0]\n",
    "\n",
    "  plt.figure()\n",
    "  fig, ax = plt.subplots(8,4,figsize=(16,28))\n",
    "  i = 0\n",
    "  for feature in column_names:\n",
    "      i += 1\n",
    "      plt.subplot(8,4,i)\n",
    "      sns.kdeplot(frauds[feature])\n",
    "      sns.kdeplot(no_frauds[feature])\n",
    "      plt.xlabel(feature, fontsize=10)\n",
    "      locs, labels = plt.xticks()\n",
    "      plt.tick_params(axis='both', which='major', labelsize=12)\n",
    "  plt.show();\n",
    "\n",
    "####################################################################################\n",
    "\n",
    "########################################\n",
    "#Custom function to apply functions to dataframe with missing values\n",
    "\n",
    "def apply_func_to_df(df, func, target_col, new_col_name):\n",
    "  df.loc[~df[target_col].isnull(),new_col_name] = df.loc[~df[target_col].isnull(),target_col].apply(func)\n",
    "\n",
    "\n",
    "####################################################################################\n",
    "#text cleaning and stemming function. Modified to cater to text provided\n",
    "\n",
    "def clean_text(raw,return_type = 'token'):\n",
    "\n",
    "  tokens = nltk.word_tokenize(raw)\n",
    "\n",
    "  \n",
    "  alph_num_tokens = [word for word in tokens if word.isalnum()]\n",
    "  non_alph_num_tokens = [word for word in tokens if not word.isalnum()]\n",
    "  \n",
    "  non_alph_num_tokens = [word.split('-') for word in non_alph_num_tokens]\n",
    "  non_alph_num_tokens = nltk.flatten(non_alph_num_tokens)\n",
    "  non_alph_num_tokens = [word.split('.') for word in non_alph_num_tokens]\n",
    "  non_alph_num_tokens = nltk.flatten(non_alph_num_tokens)\n",
    "\n",
    "  alph_num_tokens.extend(non_alph_num_tokens)\n",
    "  \n",
    "  tokens = nltk.flatten(alph_num_tokens)\n",
    "\n",
    "  tokens = [porter.stem(word.lower()) for word in tokens]\n",
    "  tokens = [word for word in tokens if word not in stopwords_en]\n",
    "  tokens = [word for word in tokens if word.isalnum()]\n",
    "\n",
    "  return tokens\n",
    "\n",
    "#####################################################\n",
    "# Generate word clouds\n",
    "\n",
    "def generate_wordclouds(X, in_X_tfidf, k, in_word_positions):\n",
    "  # compute the total tfidf for each term in the cluster\n",
    "  in_tfidf = in_X_tfidf[in_y_pred == in_cluster_id]\n",
    "  # numpy.matrix\n",
    "  tfidf_sum = np.sum(in_tfidf, axis=0)\n",
    "  # numpy.array of shape (1, X.shape[1])\n",
    "  tfidf_sum = np.asarray(tfidf_sum).reshape(-1)\n",
    "  top_indices = tfidf_sum.argsort()[-top_count:]\n",
    "  term_weights = {in_word_positions[in_idx]: tfidf_sum[in_idx] for in_idx in top_indices}\n",
    "  wc = WordCloud(width=1200, height=800, background_color=\"white\")\n",
    "  wordcloud = wc.generate_from_frequencies(term_weights)\n",
    "  fig, ax = plt.subplots(figsize=(10, 6), dpi=100)\n",
    "  ax.imshow(wordcloud, interpolation='bilinear')\n",
    "  ax.axis(\"off\")\n",
    "  fig.suptitle(f\"Cluster {in_cluster_id}\")\n",
    "  plt.show()\n",
    "\n"
   ]
  },
  {
   "cell_type": "code",
   "execution_count": 4,
   "metadata": {
    "id": "6ge662KFyfsz"
   },
   "outputs": [],
   "source": [
    "\n",
    "base_path = '/content/drive/MyDrive/#Data Science/2021 ZS Hackathon/data/'\n",
    "\n",
    "extracted_data_path = '/content/dataset/'\n",
    "train_path = extracted_data_path + \"train/\"\n",
    "test_path = extracted_data_path + \"test/\"\n",
    "\n",
    "train_prod_info_path = train_path + 'product_info/'\n",
    "test_prod_info_path = test_path + 'product_info/'\n",
    "\n",
    "save_path = base_path + 'processed/'"
   ]
  },
  {
   "cell_type": "markdown",
   "metadata": {
    "id": "rbwvQ31ry3WU"
   },
   "source": [
    "# Checkpoint 0\n",
    "\n",
    "1. Import datasets\n",
    "2. Cleanup (deduplication, joining similar datasets, etc.)\n",
    "3. EDA on individual datasets (sales, discount and footfall)\n",
    "4. Save cleaned datasets as feather file and restart kernel"
   ]
  },
  {
   "cell_type": "markdown",
   "metadata": {
    "id": "Er5Xjfj70BCC"
   },
   "source": [
    "### Extract zip file in working dir\n",
    "\n",
    "Extract data and start importingcsv files for each industry"
   ]
  },
  {
   "cell_type": "code",
   "execution_count": null,
   "metadata": {
    "colab": {
     "base_uri": "https://localhost:8080/"
    },
    "id": "eCIeUIZuy8RW",
    "outputId": "f811b12c-d4d9-4524-b45d-7c0c95cdbd84"
   },
   "outputs": [
    {
     "name": "stdout",
     "output_type": "stream",
     "text": [
      "Done!\n"
     ]
    }
   ],
   "source": [
    "zip_location = base_path + \"dataset.zip\"\n",
    "\n",
    "with ZipFile(zip_location, 'r') as zip:\n",
    "    # extracting all the files\n",
    "    zip.extractall()\n",
    "    print('Done!')"
   ]
  },
  {
   "cell_type": "code",
   "execution_count": null,
   "metadata": {
    "id": "3pUDpg0g0KmD"
   },
   "outputs": [],
   "source": [
    "train_path = extracted_data_path + \"train/\""
   ]
  },
  {
   "cell_type": "markdown",
   "metadata": {
    "id": "jwqTszJ7mxh6"
   },
   "source": [
    "### Import the base CSV files"
   ]
  },
  {
   "cell_type": "code",
   "execution_count": null,
   "metadata": {
    "id": "H2ZE1I_nZBCz"
   },
   "outputs": [],
   "source": [
    "automobile_industry = pd.read_csv(train_path + 'automobile_industry.csv', parse_dates=['Start_date'])\n",
    "computer_industry = pd.read_csv(train_path + 'computer_industry.csv', parse_dates=['Start_date'])\n",
    "health_industry = pd.read_csv(train_path + 'health_industry.csv', parse_dates=['Start_date'])\n",
    "manufacturing_industry = pd.read_csv(train_path + 'manufacturing_industry.csv', parse_dates=['Start_date'])\n",
    "power_industry = pd.read_csv(train_path + 'power_industry.csv', parse_dates=['Start_date'])\n",
    "\n",
    "test_data = pd.read_csv(test_path + 'test.csv', parse_dates=['Start_date'])"
   ]
  },
  {
   "cell_type": "markdown",
   "metadata": {
    "id": "mlR7PKx0x9iI"
   },
   "source": [
    "## Create masterlist of csv with industry as column"
   ]
  },
  {
   "cell_type": "code",
   "execution_count": null,
   "metadata": {
    "colab": {
     "base_uri": "https://localhost:8080/"
    },
    "id": "Qje55o7IqcDG",
    "outputId": "642b30b5-fff1-493f-fcc8-32e462e4ae80"
   },
   "outputs": [
    {
     "data": {
      "text/html": [
       "<div>\n",
       "<style scoped>\n",
       "    .dataframe tbody tr th:only-of-type {\n",
       "        vertical-align: middle;\n",
       "    }\n",
       "\n",
       "    .dataframe tbody tr th {\n",
       "        vertical-align: top;\n",
       "    }\n",
       "\n",
       "    .dataframe thead th {\n",
       "        text-align: right;\n",
       "    }\n",
       "</style>\n",
       "<table border=\"1\" class=\"dataframe\">\n",
       "  <thead>\n",
       "    <tr style=\"text-align: right;\">\n",
       "      <th></th>\n",
       "      <th>ID</th>\n",
       "      <th>Symbol</th>\n",
       "      <th>Start_date</th>\n",
       "      <th>market_cap</th>\n",
       "      <th>Sector</th>\n",
       "      <th>Country</th>\n",
       "      <th>CEO</th>\n",
       "      <th>No.of employee</th>\n",
       "      <th>Revenue (Cr)</th>\n",
       "      <th>Net-valuation (Cr)</th>\n",
       "      <th>Share_price (RS)</th>\n",
       "      <th>Company_background</th>\n",
       "      <th>Type</th>\n",
       "      <th>Product</th>\n",
       "      <th>industry</th>\n",
       "    </tr>\n",
       "  </thead>\n",
       "  <tbody>\n",
       "    <tr>\n",
       "      <th>0</th>\n",
       "      <td>PROJ0x5377</td>\n",
       "      <td>NaN</td>\n",
       "      <td>NaT</td>\n",
       "      <td>?</td>\n",
       "      <td>Private_sector</td>\n",
       "      <td>Guatemala</td>\n",
       "      <td>Pamela Terrano</td>\n",
       "      <td>NaN</td>\n",
       "      <td>15.226766068690289</td>\n",
       "      <td>2284.014910</td>\n",
       "      <td>325.200000</td>\n",
       "      <td>The LCV concept was created as a co...</td>\n",
       "      <td>Light Vehicles</td>\n",
       "      <td>Bike</td>\n",
       "      <td>Automobile Industry</td>\n",
       "    </tr>\n",
       "    <tr>\n",
       "      <th>1</th>\n",
       "      <td>PROJ0x24dc</td>\n",
       "      <td>NaN</td>\n",
       "      <td>NaT</td>\n",
       "      <td>small-cap</td>\n",
       "      <td>Private_sector</td>\n",
       "      <td>NaN</td>\n",
       "      <td>?</td>\n",
       "      <td>NaN</td>\n",
       "      <td>-999.0</td>\n",
       "      <td>-11230.811693</td>\n",
       "      <td>75.350000</td>\n",
       "      <td>Data movement is typically from one ...</td>\n",
       "      <td>Light Vehicles</td>\n",
       "      <td>AI</td>\n",
       "      <td>Automobile Industry</td>\n",
       "    </tr>\n",
       "    <tr>\n",
       "      <th>2</th>\n",
       "      <td>PROJ0x78e</td>\n",
       "      <td>NaN</td>\n",
       "      <td>NaT</td>\n",
       "      <td>large-cap</td>\n",
       "      <td>Public_sector</td>\n",
       "      <td>NaN</td>\n",
       "      <td>?</td>\n",
       "      <td>NaN</td>\n",
       "      <td>24.27911260914369</td>\n",
       "      <td>7283.733783</td>\n",
       "      <td>653.650000</td>\n",
       "      <td>1% share in Daimler AG.Dongfeng Moto...</td>\n",
       "      <td>Heavy Vehicles</td>\n",
       "      <td>JCP</td>\n",
       "      <td>Automobile Industry</td>\n",
       "    </tr>\n",
       "    <tr>\n",
       "      <th>3</th>\n",
       "      <td>PROJ0x403b</td>\n",
       "      <td>NaN</td>\n",
       "      <td>NaT</td>\n",
       "      <td>small-cap</td>\n",
       "      <td>Private_sector</td>\n",
       "      <td>NaN</td>\n",
       "      <td>?</td>\n",
       "      <td>17373.0</td>\n",
       "      <td>1.4027782279531942</td>\n",
       "      <td>35.069456</td>\n",
       "      <td>-22.246569</td>\n",
       "      <td>Software patents, like other types o...</td>\n",
       "      <td>Light Vehicles</td>\n",
       "      <td>AI</td>\n",
       "      <td>Automobile Industry</td>\n",
       "    </tr>\n",
       "    <tr>\n",
       "      <th>4</th>\n",
       "      <td>PROJ0x8700</td>\n",
       "      <td>NaN</td>\n",
       "      <td>NaT</td>\n",
       "      <td>mid-cap</td>\n",
       "      <td>?</td>\n",
       "      <td>Madagascar</td>\n",
       "      <td>Elizabeth Finch</td>\n",
       "      <td>NaN</td>\n",
       "      <td>3.5152032346897326</td>\n",
       "      <td>703.040647</td>\n",
       "      <td>61.400000</td>\n",
       "      <td>Data transmission has three aspects:...</td>\n",
       "      <td>Light Vehicles</td>\n",
       "      <td>AI</td>\n",
       "      <td>Automobile Industry</td>\n",
       "    </tr>\n",
       "    <tr>\n",
       "      <th>...</th>\n",
       "      <td>...</td>\n",
       "      <td>...</td>\n",
       "      <td>...</td>\n",
       "      <td>...</td>\n",
       "      <td>...</td>\n",
       "      <td>...</td>\n",
       "      <td>...</td>\n",
       "      <td>...</td>\n",
       "      <td>...</td>\n",
       "      <td>...</td>\n",
       "      <td>...</td>\n",
       "      <td>...</td>\n",
       "      <td>...</td>\n",
       "      <td>...</td>\n",
       "      <td>...</td>\n",
       "    </tr>\n",
       "    <tr>\n",
       "      <th>23904</th>\n",
       "      <td>PROJ0x7bb7</td>\n",
       "      <td>NaN</td>\n",
       "      <td>1960-04-01</td>\n",
       "      <td>?</td>\n",
       "      <td>?</td>\n",
       "      <td>NaN</td>\n",
       "      <td>Ivory Perry</td>\n",
       "      <td>NaN</td>\n",
       "      <td>13.213459723211047</td>\n",
       "      <td>NaN</td>\n",
       "      <td>309.700000</td>\n",
       "      <td>A switch to a circular economy woul...</td>\n",
       "      <td>green energy</td>\n",
       "      <td>Hydro</td>\n",
       "      <td>Power Industry</td>\n",
       "    </tr>\n",
       "    <tr>\n",
       "      <th>23905</th>\n",
       "      <td>PROJ0x70a7</td>\n",
       "      <td>NaN</td>\n",
       "      <td>NaT</td>\n",
       "      <td>large-cap</td>\n",
       "      <td>?</td>\n",
       "      <td>NaN</td>\n",
       "      <td>?</td>\n",
       "      <td>NaN</td>\n",
       "      <td>-999.0</td>\n",
       "      <td>NaN</td>\n",
       "      <td>-4718.551728</td>\n",
       "      <td>2 billion.By the middle of the 20th ...</td>\n",
       "      <td>green energy</td>\n",
       "      <td>Wind</td>\n",
       "      <td>Power Industry</td>\n",
       "    </tr>\n",
       "    <tr>\n",
       "      <th>23906</th>\n",
       "      <td>PROJ0x8488</td>\n",
       "      <td>NaN</td>\n",
       "      <td>NaT</td>\n",
       "      <td>?</td>\n",
       "      <td>Public_sector</td>\n",
       "      <td>NaN</td>\n",
       "      <td>?</td>\n",
       "      <td>NaN</td>\n",
       "      <td>12.891043524047364</td>\n",
       "      <td>NaN</td>\n",
       "      <td>-4423.263805</td>\n",
       "      <td>Leadership in Energy and Environment...</td>\n",
       "      <td>non green energy</td>\n",
       "      <td>charcoal</td>\n",
       "      <td>Power Industry</td>\n",
       "    </tr>\n",
       "    <tr>\n",
       "      <th>23907</th>\n",
       "      <td>PROJ0x613e</td>\n",
       "      <td>NaN</td>\n",
       "      <td>NaT</td>\n",
       "      <td>?</td>\n",
       "      <td>NaN</td>\n",
       "      <td>NaN</td>\n",
       "      <td>?</td>\n",
       "      <td>14514.0</td>\n",
       "      <td>2.180258593590086</td>\n",
       "      <td>218.025859</td>\n",
       "      <td>NaN</td>\n",
       "      <td>More sustainable sources of biomass ...</td>\n",
       "      <td>green energy</td>\n",
       "      <td>Wind</td>\n",
       "      <td>Power Industry</td>\n",
       "    </tr>\n",
       "    <tr>\n",
       "      <th>23908</th>\n",
       "      <td>PROJ0x7484</td>\n",
       "      <td>NaN</td>\n",
       "      <td>NaT</td>\n",
       "      <td>?</td>\n",
       "      <td>Public_sector</td>\n",
       "      <td>NaN</td>\n",
       "      <td>?</td>\n",
       "      <td>NaN</td>\n",
       "      <td>6.6455626873362</td>\n",
       "      <td>9568.262582</td>\n",
       "      <td>7498.564151</td>\n",
       "      <td>companies owning interstate electri...</td>\n",
       "      <td>non green energy</td>\n",
       "      <td>charcoal</td>\n",
       "      <td>Power Industry</td>\n",
       "    </tr>\n",
       "  </tbody>\n",
       "</table>\n",
       "<p>23909 rows × 15 columns</p>\n",
       "</div>"
      ],
      "text/plain": [
       "               ID Symbol Start_date market_cap          Sector     Country  \\\n",
       "0      PROJ0x5377    NaN        NaT          ?  Private_sector   Guatemala   \n",
       "1      PROJ0x24dc    NaN        NaT  small-cap  Private_sector         NaN   \n",
       "2       PROJ0x78e    NaN        NaT  large-cap   Public_sector         NaN   \n",
       "3      PROJ0x403b    NaN        NaT  small-cap  Private_sector         NaN   \n",
       "4      PROJ0x8700    NaN        NaT    mid-cap               ?  Madagascar   \n",
       "...           ...    ...        ...        ...             ...         ...   \n",
       "23904  PROJ0x7bb7    NaN 1960-04-01          ?               ?         NaN   \n",
       "23905  PROJ0x70a7    NaN        NaT  large-cap               ?         NaN   \n",
       "23906  PROJ0x8488    NaN        NaT          ?   Public_sector         NaN   \n",
       "23907  PROJ0x613e    NaN        NaT          ?             NaN         NaN   \n",
       "23908  PROJ0x7484    NaN        NaT          ?   Public_sector         NaN   \n",
       "\n",
       "                   CEO  No.of employee        Revenue (Cr)  \\\n",
       "0       Pamela Terrano             NaN  15.226766068690289   \n",
       "1                    ?             NaN              -999.0   \n",
       "2                    ?             NaN   24.27911260914369   \n",
       "3                    ?         17373.0  1.4027782279531942   \n",
       "4      Elizabeth Finch             NaN  3.5152032346897326   \n",
       "...                ...             ...                 ...   \n",
       "23904      Ivory Perry             NaN  13.213459723211047   \n",
       "23905                ?             NaN              -999.0   \n",
       "23906                ?             NaN  12.891043524047364   \n",
       "23907                ?         14514.0   2.180258593590086   \n",
       "23908                ?             NaN     6.6455626873362   \n",
       "\n",
       "       Net-valuation (Cr)  Share_price (RS)  \\\n",
       "0             2284.014910        325.200000   \n",
       "1           -11230.811693         75.350000   \n",
       "2             7283.733783        653.650000   \n",
       "3               35.069456        -22.246569   \n",
       "4              703.040647         61.400000   \n",
       "...                   ...               ...   \n",
       "23904                 NaN        309.700000   \n",
       "23905                 NaN      -4718.551728   \n",
       "23906                 NaN      -4423.263805   \n",
       "23907          218.025859               NaN   \n",
       "23908         9568.262582       7498.564151   \n",
       "\n",
       "                            Company_background              Type   Product  \\\n",
       "0       The LCV concept was created as a co...    Light Vehicles      Bike   \n",
       "1      Data movement is typically from one ...    Light Vehicles        AI   \n",
       "2      1% share in Daimler AG.Dongfeng Moto...    Heavy Vehicles       JCP   \n",
       "3      Software patents, like other types o...    Light Vehicles        AI   \n",
       "4      Data transmission has three aspects:...    Light Vehicles        AI   \n",
       "...                                        ...               ...       ...   \n",
       "23904   A switch to a circular economy woul...      green energy     Hydro   \n",
       "23905  2 billion.By the middle of the 20th ...      green energy      Wind   \n",
       "23906  Leadership in Energy and Environment...  non green energy  charcoal   \n",
       "23907  More sustainable sources of biomass ...      green energy      Wind   \n",
       "23908   companies owning interstate electri...  non green energy  charcoal   \n",
       "\n",
       "                  industry  \n",
       "0      Automobile Industry  \n",
       "1      Automobile Industry  \n",
       "2      Automobile Industry  \n",
       "3      Automobile Industry  \n",
       "4      Automobile Industry  \n",
       "...                    ...  \n",
       "23904       Power Industry  \n",
       "23905       Power Industry  \n",
       "23906       Power Industry  \n",
       "23907       Power Industry  \n",
       "23908       Power Industry  \n",
       "\n",
       "[23909 rows x 15 columns]"
      ]
     },
     "execution_count": 8,
     "metadata": {
      "tags": []
     },
     "output_type": "execute_result"
    }
   ],
   "source": [
    "automobile_industry['industry'] = 'Automobile Industry'\n",
    "computer_industry['industry'] = 'Computer Industry'\n",
    "health_industry['industry'] = 'Health Industry'\n",
    "manufacturing_industry['industry'] = 'Manufacturing Industry'\n",
    "power_industry['industry'] = 'Power Industry'\n",
    "\n",
    "product_master_list = automobile_industry.append([computer_industry, health_industry, manufacturing_industry, power_industry],ignore_index=True)\n",
    "product_master_list"
   ]
  },
  {
   "cell_type": "markdown",
   "metadata": {
    "id": "Y8aD_ENXo7zC"
   },
   "source": [
    "## Read product info files and parse them into stemmed token list\n",
    "\n",
    "While parsing, I noticed that 1 txt file is been saved in different format. Upon inspecting with notepad and checking default locale, 'ANSI' format was applicable for the file. Further digging into it lead to file format being 'cp1252' (windows file format).\n",
    "\n",
    "Update: Unable to import this file. Skip since its just 1 file. "
   ]
  },
  {
   "cell_type": "code",
   "execution_count": null,
   "metadata": {
    "id": "vwAsCb4U7XrB"
   },
   "outputs": [],
   "source": [
    "file_id_list = os.listdir(train_prod_info_path)\n",
    "\n",
    "product_info_corpus = []\n",
    "product_id_list = []\n",
    "\n",
    "error_counter = 0\n",
    "error_files = []\n",
    "\n",
    "for each_file in file_id_list:\n",
    "  try:\n",
    "    f = open(train_prod_info_path + each_file,'r')\n",
    "    raw = f.read()\n",
    "    product_info_corpus.append(raw)\n",
    "    product_id_list.append(each_file[:-4])\n",
    "  except:  \n",
    "    error_counter += 1\n",
    "    error_files.append(each_file)\n"
   ]
  },
  {
   "cell_type": "code",
   "execution_count": null,
   "metadata": {
    "colab": {
     "base_uri": "https://localhost:8080/"
    },
    "id": "rA8nhd2ik73E",
    "outputId": "3c61adca-8f3f-4cc0-a782-836dd8b55982"
   },
   "outputs": [
    {
     "data": {
      "text/plain": [
       "23908"
      ]
     },
     "execution_count": 10,
     "metadata": {
      "tags": []
     },
     "output_type": "execute_result"
    }
   ],
   "source": [
    "# 1 file has encoding error. We drop this file\n",
    "\n",
    "for errors in error_files:\n",
    "  file_id_list.remove(errors)\n",
    "\n",
    "len(file_id_list)"
   ]
  },
  {
   "cell_type": "code",
   "execution_count": null,
   "metadata": {
    "colab": {
     "base_uri": "https://localhost:8080/"
    },
    "id": "HkM8SR6lu52d",
    "outputId": "d5db1a43-d2d6-4352-dbe7-526d43039c09"
   },
   "outputs": [
    {
     "data": {
      "text/html": [
       "<div>\n",
       "<style scoped>\n",
       "    .dataframe tbody tr th:only-of-type {\n",
       "        vertical-align: middle;\n",
       "    }\n",
       "\n",
       "    .dataframe tbody tr th {\n",
       "        vertical-align: top;\n",
       "    }\n",
       "\n",
       "    .dataframe thead th {\n",
       "        text-align: right;\n",
       "    }\n",
       "</style>\n",
       "<table border=\"1\" class=\"dataframe\">\n",
       "  <thead>\n",
       "    <tr style=\"text-align: right;\">\n",
       "      <th></th>\n",
       "      <th>ID</th>\n",
       "      <th>product_info</th>\n",
       "    </tr>\n",
       "  </thead>\n",
       "  <tbody>\n",
       "    <tr>\n",
       "      <th>0</th>\n",
       "      <td>PROJ0x33d9</td>\n",
       "      <td>The head is the energy per unit weig...</td>\n",
       "    </tr>\n",
       "    <tr>\n",
       "      <th>1</th>\n",
       "      <td>PROJ0x4ec9</td>\n",
       "      <td>75 lakh and INR 7.Australia has comp...</td>\n",
       "    </tr>\n",
       "    <tr>\n",
       "      <th>2</th>\n",
       "      <td>PROJ0x2caf</td>\n",
       "      <td>In November 2009, Intel agreed to pa...</td>\n",
       "    </tr>\n",
       "    <tr>\n",
       "      <th>3</th>\n",
       "      <td>PROJ0x126f</td>\n",
       "      <td>\" The European Academies' Science Ad...</td>\n",
       "    </tr>\n",
       "    <tr>\n",
       "      <th>4</th>\n",
       "      <td>PROJ0x1b8c</td>\n",
       "      <td>Early deaths due to air pollution ha...</td>\n",
       "    </tr>\n",
       "    <tr>\n",
       "      <th>...</th>\n",
       "      <td>...</td>\n",
       "      <td>...</td>\n",
       "    </tr>\n",
       "    <tr>\n",
       "      <th>23903</th>\n",
       "      <td>PROJ0x558b</td>\n",
       "      <td>More recently, the oldest-known wood...</td>\n",
       "    </tr>\n",
       "    <tr>\n",
       "      <th>23904</th>\n",
       "      <td>PROJ0x5e60</td>\n",
       "      <td>Simple race games involve pure luck....</td>\n",
       "    </tr>\n",
       "    <tr>\n",
       "      <th>23905</th>\n",
       "      <td>PROJ0x1c95</td>\n",
       "      <td>Lee, Newton (2015). Cybersecurity: A...</td>\n",
       "    </tr>\n",
       "    <tr>\n",
       "      <th>23906</th>\n",
       "      <td>PROJ0x7ff2</td>\n",
       "      <td>In recent years its support has accr...</td>\n",
       "    </tr>\n",
       "    <tr>\n",
       "      <th>23907</th>\n",
       "      <td>PROJ0x5658</td>\n",
       "      <td>The 86C911 spawned a host of imitato...</td>\n",
       "    </tr>\n",
       "  </tbody>\n",
       "</table>\n",
       "<p>23908 rows × 2 columns</p>\n",
       "</div>"
      ],
      "text/plain": [
       "               ID                             product_info\n",
       "0      PROJ0x33d9  The head is the energy per unit weig...\n",
       "1      PROJ0x4ec9  75 lakh and INR 7.Australia has comp...\n",
       "2      PROJ0x2caf  In November 2009, Intel agreed to pa...\n",
       "3      PROJ0x126f  \" The European Academies' Science Ad...\n",
       "4      PROJ0x1b8c  Early deaths due to air pollution ha...\n",
       "...           ...                                      ...\n",
       "23903  PROJ0x558b  More recently, the oldest-known wood...\n",
       "23904  PROJ0x5e60  Simple race games involve pure luck....\n",
       "23905  PROJ0x1c95  Lee, Newton (2015). Cybersecurity: A...\n",
       "23906  PROJ0x7ff2  In recent years its support has accr...\n",
       "23907  PROJ0x5658  The 86C911 spawned a host of imitato...\n",
       "\n",
       "[23908 rows x 2 columns]"
      ]
     },
     "execution_count": 11,
     "metadata": {
      "tags": []
     },
     "output_type": "execute_result"
    }
   ],
   "source": [
    "product_desc_df = pd.DataFrame(data = product_id_list, columns = ['ID'])\n",
    "product_desc_df['product_info'] = product_info_corpus\n",
    "\n",
    "product_desc_df"
   ]
  },
  {
   "cell_type": "markdown",
   "metadata": {
    "id": "pinRd-8o1E7m"
   },
   "source": [
    "## Merge the product description with the masterlist to create a workable dataset"
   ]
  },
  {
   "cell_type": "code",
   "execution_count": null,
   "metadata": {
    "colab": {
     "base_uri": "https://localhost:8080/"
    },
    "id": "V80aToUb1LLU",
    "outputId": "7d3a5871-e555-4e0a-dcfd-d64e2f079e1f"
   },
   "outputs": [
    {
     "data": {
      "text/html": [
       "<div>\n",
       "<style scoped>\n",
       "    .dataframe tbody tr th:only-of-type {\n",
       "        vertical-align: middle;\n",
       "    }\n",
       "\n",
       "    .dataframe tbody tr th {\n",
       "        vertical-align: top;\n",
       "    }\n",
       "\n",
       "    .dataframe thead th {\n",
       "        text-align: right;\n",
       "    }\n",
       "</style>\n",
       "<table border=\"1\" class=\"dataframe\">\n",
       "  <thead>\n",
       "    <tr style=\"text-align: right;\">\n",
       "      <th></th>\n",
       "      <th>ID</th>\n",
       "      <th>product_info</th>\n",
       "      <th>Symbol</th>\n",
       "      <th>Start_date</th>\n",
       "      <th>market_cap</th>\n",
       "      <th>Sector</th>\n",
       "      <th>Country</th>\n",
       "      <th>CEO</th>\n",
       "      <th>No.of employee</th>\n",
       "      <th>Revenue (Cr)</th>\n",
       "      <th>Net-valuation (Cr)</th>\n",
       "      <th>Share_price (RS)</th>\n",
       "      <th>Company_background</th>\n",
       "      <th>Type</th>\n",
       "      <th>Product</th>\n",
       "      <th>industry</th>\n",
       "    </tr>\n",
       "  </thead>\n",
       "  <tbody>\n",
       "    <tr>\n",
       "      <th>0</th>\n",
       "      <td>PROJ0x33d9</td>\n",
       "      <td>The head is the energy per unit weig...</td>\n",
       "      <td>NaN</td>\n",
       "      <td>1996-08-01</td>\n",
       "      <td>?</td>\n",
       "      <td>?</td>\n",
       "      <td>NaN</td>\n",
       "      <td>Winifred Bilbro</td>\n",
       "      <td>NaN</td>\n",
       "      <td>10.485346633880084</td>\n",
       "      <td>-8615.138583</td>\n",
       "      <td>NaN</td>\n",
       "      <td>Biofuels are often produced from co...</td>\n",
       "      <td>green energy</td>\n",
       "      <td>Hydro</td>\n",
       "      <td>Power Industry</td>\n",
       "    </tr>\n",
       "    <tr>\n",
       "      <th>1</th>\n",
       "      <td>PROJ0x4ec9</td>\n",
       "      <td>75 lakh and INR 7.Australia has comp...</td>\n",
       "      <td>UST</td>\n",
       "      <td>1958-10-01</td>\n",
       "      <td>large-cap</td>\n",
       "      <td>Private_sector</td>\n",
       "      <td>NaN</td>\n",
       "      <td>Ruby Burnett</td>\n",
       "      <td>NaN</td>\n",
       "      <td>36.33430253875794</td>\n",
       "      <td>-10070.993139</td>\n",
       "      <td>-596.720031</td>\n",
       "      <td>Power study, emerging markets accou...</td>\n",
       "      <td>Light Vehicles</td>\n",
       "      <td>Truck</td>\n",
       "      <td>Automobile Industry</td>\n",
       "    </tr>\n",
       "    <tr>\n",
       "      <th>2</th>\n",
       "      <td>PROJ0x2caf</td>\n",
       "      <td>In November 2009, Intel agreed to pa...</td>\n",
       "      <td>EYG</td>\n",
       "      <td>1978-02-01</td>\n",
       "      <td>mid-cap</td>\n",
       "      <td>?</td>\n",
       "      <td>NaN</td>\n",
       "      <td>?</td>\n",
       "      <td>NaN</td>\n",
       "      <td>?</td>\n",
       "      <td>706.692488</td>\n",
       "      <td>-717.092361</td>\n",
       "      <td>Information services Information se...</td>\n",
       "      <td>Hardware</td>\n",
       "      <td>Gaming hardware</td>\n",
       "      <td>Computer Industry</td>\n",
       "    </tr>\n",
       "    <tr>\n",
       "      <th>3</th>\n",
       "      <td>PROJ0x126f</td>\n",
       "      <td>\" The European Academies' Science Ad...</td>\n",
       "      <td>MHRX</td>\n",
       "      <td>NaT</td>\n",
       "      <td>small-cap</td>\n",
       "      <td>?</td>\n",
       "      <td>NaN</td>\n",
       "      <td>?</td>\n",
       "      <td>NaN</td>\n",
       "      <td>4.892108834896404</td>\n",
       "      <td>489.210883</td>\n",
       "      <td>435.800000</td>\n",
       "      <td>The healthcare industry (also called...</td>\n",
       "      <td>Pharma</td>\n",
       "      <td>homeopathic</td>\n",
       "      <td>Health Industry</td>\n",
       "    </tr>\n",
       "    <tr>\n",
       "      <th>4</th>\n",
       "      <td>PROJ0x1b8c</td>\n",
       "      <td>Early deaths due to air pollution ha...</td>\n",
       "      <td>NaN</td>\n",
       "      <td>NaT</td>\n",
       "      <td>small-cap</td>\n",
       "      <td>?</td>\n",
       "      <td>Nepal</td>\n",
       "      <td>?</td>\n",
       "      <td>4869.0</td>\n",
       "      <td>-999.0</td>\n",
       "      <td>-26251.090822</td>\n",
       "      <td>341.200000</td>\n",
       "      <td>Other certificate systems that conf...</td>\n",
       "      <td>non green energy</td>\n",
       "      <td>charcoal</td>\n",
       "      <td>Power Industry</td>\n",
       "    </tr>\n",
       "    <tr>\n",
       "      <th>...</th>\n",
       "      <td>...</td>\n",
       "      <td>...</td>\n",
       "      <td>...</td>\n",
       "      <td>...</td>\n",
       "      <td>...</td>\n",
       "      <td>...</td>\n",
       "      <td>...</td>\n",
       "      <td>...</td>\n",
       "      <td>...</td>\n",
       "      <td>...</td>\n",
       "      <td>...</td>\n",
       "      <td>...</td>\n",
       "      <td>...</td>\n",
       "      <td>...</td>\n",
       "      <td>...</td>\n",
       "      <td>...</td>\n",
       "    </tr>\n",
       "    <tr>\n",
       "      <th>23903</th>\n",
       "      <td>PROJ0x558b</td>\n",
       "      <td>More recently, the oldest-known wood...</td>\n",
       "      <td>NaN</td>\n",
       "      <td>NaT</td>\n",
       "      <td>?</td>\n",
       "      <td>Public_sector</td>\n",
       "      <td>NaN</td>\n",
       "      <td>Mae Martini</td>\n",
       "      <td>NaN</td>\n",
       "      <td>22.856821291318393</td>\n",
       "      <td>5714.205323</td>\n",
       "      <td>1209.050000</td>\n",
       "      <td>(There is a push in some parts of t...</td>\n",
       "      <td>Software</td>\n",
       "      <td>IT</td>\n",
       "      <td>Computer Industry</td>\n",
       "    </tr>\n",
       "    <tr>\n",
       "      <th>23904</th>\n",
       "      <td>PROJ0x5e60</td>\n",
       "      <td>Simple race games involve pure luck....</td>\n",
       "      <td>NaN</td>\n",
       "      <td>1971-03-01</td>\n",
       "      <td>?</td>\n",
       "      <td>?</td>\n",
       "      <td>NaN</td>\n",
       "      <td>?</td>\n",
       "      <td>NaN</td>\n",
       "      <td>7.258065023329103</td>\n",
       "      <td>NaN</td>\n",
       "      <td>1637.203203</td>\n",
       "      <td>Manufacturing, Engineering &amp; Techno...</td>\n",
       "      <td>Mechanical</td>\n",
       "      <td>Kids toys</td>\n",
       "      <td>Manufacturing Industry</td>\n",
       "    </tr>\n",
       "    <tr>\n",
       "      <th>23905</th>\n",
       "      <td>PROJ0x1c95</td>\n",
       "      <td>Lee, Newton (2015). Cybersecurity: A...</td>\n",
       "      <td>DES</td>\n",
       "      <td>NaT</td>\n",
       "      <td>large-cap</td>\n",
       "      <td>?</td>\n",
       "      <td>NaN</td>\n",
       "      <td>Patricia Perez</td>\n",
       "      <td>NaN</td>\n",
       "      <td>18.932698399084593</td>\n",
       "      <td>4733.174600</td>\n",
       "      <td>-2048.321428</td>\n",
       "      <td>g.In an academic context, the Associ...</td>\n",
       "      <td>Security</td>\n",
       "      <td>antivirus-security</td>\n",
       "      <td>Computer Industry</td>\n",
       "    </tr>\n",
       "    <tr>\n",
       "      <th>23906</th>\n",
       "      <td>PROJ0x7ff2</td>\n",
       "      <td>In recent years its support has accr...</td>\n",
       "      <td>NaN</td>\n",
       "      <td>NaT</td>\n",
       "      <td>small-cap</td>\n",
       "      <td>NaN</td>\n",
       "      <td>NaN</td>\n",
       "      <td>?</td>\n",
       "      <td>NaN</td>\n",
       "      <td>2.494547168784917</td>\n",
       "      <td>NaN</td>\n",
       "      <td>133.500000</td>\n",
       "      <td>Dongfeng Motor holds a 12.5% stake, ...</td>\n",
       "      <td>Heavy Vehicles</td>\n",
       "      <td>JCP</td>\n",
       "      <td>Automobile Industry</td>\n",
       "    </tr>\n",
       "    <tr>\n",
       "      <th>23907</th>\n",
       "      <td>PROJ0x5658</td>\n",
       "      <td>The 86C911 spawned a host of imitato...</td>\n",
       "      <td>NaN</td>\n",
       "      <td>NaT</td>\n",
       "      <td>small-cap</td>\n",
       "      <td>NaN</td>\n",
       "      <td>NaN</td>\n",
       "      <td>William Miller</td>\n",
       "      <td>32691.0</td>\n",
       "      <td>1.7007968301508458</td>\n",
       "      <td>NaN</td>\n",
       "      <td>-3216.296109</td>\n",
       "      <td>Although XML data can be stored in ...</td>\n",
       "      <td>Production</td>\n",
       "      <td>Gaming hardware</td>\n",
       "      <td>Manufacturing Industry</td>\n",
       "    </tr>\n",
       "  </tbody>\n",
       "</table>\n",
       "<p>23908 rows × 16 columns</p>\n",
       "</div>"
      ],
      "text/plain": [
       "               ID                             product_info Symbol Start_date  \\\n",
       "0      PROJ0x33d9  The head is the energy per unit weig...    NaN 1996-08-01   \n",
       "1      PROJ0x4ec9  75 lakh and INR 7.Australia has comp...    UST 1958-10-01   \n",
       "2      PROJ0x2caf  In November 2009, Intel agreed to pa...    EYG 1978-02-01   \n",
       "3      PROJ0x126f  \" The European Academies' Science Ad...   MHRX        NaT   \n",
       "4      PROJ0x1b8c  Early deaths due to air pollution ha...    NaN        NaT   \n",
       "...           ...                                      ...    ...        ...   \n",
       "23903  PROJ0x558b  More recently, the oldest-known wood...    NaN        NaT   \n",
       "23904  PROJ0x5e60  Simple race games involve pure luck....    NaN 1971-03-01   \n",
       "23905  PROJ0x1c95  Lee, Newton (2015). Cybersecurity: A...    DES        NaT   \n",
       "23906  PROJ0x7ff2  In recent years its support has accr...    NaN        NaT   \n",
       "23907  PROJ0x5658  The 86C911 spawned a host of imitato...    NaN        NaT   \n",
       "\n",
       "      market_cap          Sector Country              CEO  No.of employee  \\\n",
       "0              ?               ?     NaN  Winifred Bilbro             NaN   \n",
       "1      large-cap  Private_sector     NaN     Ruby Burnett             NaN   \n",
       "2        mid-cap               ?     NaN                ?             NaN   \n",
       "3      small-cap               ?     NaN                ?             NaN   \n",
       "4      small-cap               ?   Nepal                ?          4869.0   \n",
       "...          ...             ...     ...              ...             ...   \n",
       "23903          ?   Public_sector     NaN      Mae Martini             NaN   \n",
       "23904          ?               ?     NaN                ?             NaN   \n",
       "23905  large-cap               ?     NaN   Patricia Perez             NaN   \n",
       "23906  small-cap             NaN     NaN                ?             NaN   \n",
       "23907  small-cap             NaN     NaN   William Miller         32691.0   \n",
       "\n",
       "             Revenue (Cr)  Net-valuation (Cr)  Share_price (RS)  \\\n",
       "0      10.485346633880084        -8615.138583               NaN   \n",
       "1       36.33430253875794       -10070.993139       -596.720031   \n",
       "2                       ?          706.692488       -717.092361   \n",
       "3       4.892108834896404          489.210883        435.800000   \n",
       "4                  -999.0       -26251.090822        341.200000   \n",
       "...                   ...                 ...               ...   \n",
       "23903  22.856821291318393         5714.205323       1209.050000   \n",
       "23904   7.258065023329103                 NaN       1637.203203   \n",
       "23905  18.932698399084593         4733.174600      -2048.321428   \n",
       "23906   2.494547168784917                 NaN        133.500000   \n",
       "23907  1.7007968301508458                 NaN      -3216.296109   \n",
       "\n",
       "                            Company_background              Type  \\\n",
       "0       Biofuels are often produced from co...      green energy   \n",
       "1       Power study, emerging markets accou...    Light Vehicles   \n",
       "2       Information services Information se...          Hardware   \n",
       "3      The healthcare industry (also called...            Pharma   \n",
       "4       Other certificate systems that conf...  non green energy   \n",
       "...                                        ...               ...   \n",
       "23903   (There is a push in some parts of t...          Software   \n",
       "23904   Manufacturing, Engineering & Techno...        Mechanical   \n",
       "23905  g.In an academic context, the Associ...          Security   \n",
       "23906  Dongfeng Motor holds a 12.5% stake, ...    Heavy Vehicles   \n",
       "23907   Although XML data can be stored in ...        Production   \n",
       "\n",
       "                  Product                industry  \n",
       "0                   Hydro          Power Industry  \n",
       "1                   Truck     Automobile Industry  \n",
       "2         Gaming hardware       Computer Industry  \n",
       "3             homeopathic         Health Industry  \n",
       "4                charcoal          Power Industry  \n",
       "...                   ...                     ...  \n",
       "23903                  IT       Computer Industry  \n",
       "23904           Kids toys  Manufacturing Industry  \n",
       "23905  antivirus-security       Computer Industry  \n",
       "23906                 JCP     Automobile Industry  \n",
       "23907     Gaming hardware  Manufacturing Industry  \n",
       "\n",
       "[23908 rows x 16 columns]"
      ]
     },
     "execution_count": 12,
     "metadata": {
      "tags": []
     },
     "output_type": "execute_result"
    }
   ],
   "source": [
    "masterdata = pd.merge(product_desc_df, product_master_list, how = 'left', on= ['ID'])\n",
    "# Drop the entry with non readable product info\n",
    "masterdata"
   ]
  },
  {
   "cell_type": "markdown",
   "metadata": {
    "id": "7azb6_3CqCrz"
   },
   "source": [
    "## Process test product information and create test dataset"
   ]
  },
  {
   "cell_type": "code",
   "execution_count": null,
   "metadata": {
    "colab": {
     "base_uri": "https://localhost:8080/"
    },
    "id": "f4bEqgAeqHod",
    "outputId": "847e4034-8230-4b50-f1ba-a9090020bc97"
   },
   "outputs": [
    {
     "data": {
      "text/html": [
       "<div>\n",
       "<style scoped>\n",
       "    .dataframe tbody tr th:only-of-type {\n",
       "        vertical-align: middle;\n",
       "    }\n",
       "\n",
       "    .dataframe tbody tr th {\n",
       "        vertical-align: top;\n",
       "    }\n",
       "\n",
       "    .dataframe thead th {\n",
       "        text-align: right;\n",
       "    }\n",
       "</style>\n",
       "<table border=\"1\" class=\"dataframe\">\n",
       "  <thead>\n",
       "    <tr style=\"text-align: right;\">\n",
       "      <th></th>\n",
       "      <th>ID</th>\n",
       "      <th>Symbol</th>\n",
       "      <th>Start_date</th>\n",
       "      <th>market_cap</th>\n",
       "      <th>Sector</th>\n",
       "      <th>Country</th>\n",
       "      <th>CEO</th>\n",
       "      <th>No.of employee</th>\n",
       "      <th>Revenue (Cr)</th>\n",
       "      <th>Net-valuation (Cr)</th>\n",
       "      <th>Share_price (RS)</th>\n",
       "      <th>Company_background</th>\n",
       "      <th>product_info</th>\n",
       "    </tr>\n",
       "  </thead>\n",
       "  <tbody>\n",
       "    <tr>\n",
       "      <th>0</th>\n",
       "      <td>PROJ0x51fa</td>\n",
       "      <td>NaN</td>\n",
       "      <td>NaT</td>\n",
       "      <td>?</td>\n",
       "      <td>NaN</td>\n",
       "      <td>NaN</td>\n",
       "      <td>Vicenta Bronstein</td>\n",
       "      <td>NaN</td>\n",
       "      <td>0.6836318142997198</td>\n",
       "      <td>8507.104743</td>\n",
       "      <td>65.800000</td>\n",
       "      <td>The food processing industry is one ...</td>\n",
       "      <td>ISBN 978-0-9758252-0-4. ISBN 978-0-1...</td>\n",
       "    </tr>\n",
       "    <tr>\n",
       "      <th>1</th>\n",
       "      <td>PROJ0x3c88</td>\n",
       "      <td>NaN</td>\n",
       "      <td>NaT</td>\n",
       "      <td>large-cap</td>\n",
       "      <td>?</td>\n",
       "      <td>NaN</td>\n",
       "      <td>Nelson Bodkin</td>\n",
       "      <td>7964.0</td>\n",
       "      <td>?</td>\n",
       "      <td>NaN</td>\n",
       "      <td>1617.536129</td>\n",
       "      <td>Well-designed government policies th...</td>\n",
       "      <td>Wind energy penetration is the fract...</td>\n",
       "    </tr>\n",
       "    <tr>\n",
       "      <th>2</th>\n",
       "      <td>PROJ0x3e72</td>\n",
       "      <td>NaN</td>\n",
       "      <td>NaT</td>\n",
       "      <td>mid-cap</td>\n",
       "      <td>?</td>\n",
       "      <td>NaN</td>\n",
       "      <td>?</td>\n",
       "      <td>NaN</td>\n",
       "      <td>2.519536393657552</td>\n",
       "      <td>755.860918</td>\n",
       "      <td>755.400000</td>\n",
       "      <td>Information services Information se...</td>\n",
       "      <td>it is another good example of Artifi...</td>\n",
       "    </tr>\n",
       "    <tr>\n",
       "      <th>3</th>\n",
       "      <td>PROJ0x1129</td>\n",
       "      <td>NaN</td>\n",
       "      <td>1979-08-01</td>\n",
       "      <td>small-cap</td>\n",
       "      <td>NaN</td>\n",
       "      <td>NaN</td>\n",
       "      <td>?</td>\n",
       "      <td>NaN</td>\n",
       "      <td>-999.0</td>\n",
       "      <td>155.498484</td>\n",
       "      <td>94.700000</td>\n",
       "      <td>Not available</td>\n",
       "      <td>The following setup is configured in...</td>\n",
       "    </tr>\n",
       "    <tr>\n",
       "      <th>4</th>\n",
       "      <td>PROJ0x9029</td>\n",
       "      <td>NaN</td>\n",
       "      <td>NaT</td>\n",
       "      <td>small-cap</td>\n",
       "      <td>Private_sector</td>\n",
       "      <td>NaN</td>\n",
       "      <td>?</td>\n",
       "      <td>6954.0</td>\n",
       "      <td>?</td>\n",
       "      <td>34880.360760</td>\n",
       "      <td>NaN</td>\n",
       "      <td>In 2007, there were about 806 millio...</td>\n",
       "      <td>New vehicles will be issued a virtua...</td>\n",
       "    </tr>\n",
       "    <tr>\n",
       "      <th>...</th>\n",
       "      <td>...</td>\n",
       "      <td>...</td>\n",
       "      <td>...</td>\n",
       "      <td>...</td>\n",
       "      <td>...</td>\n",
       "      <td>...</td>\n",
       "      <td>...</td>\n",
       "      <td>...</td>\n",
       "      <td>...</td>\n",
       "      <td>...</td>\n",
       "      <td>...</td>\n",
       "      <td>...</td>\n",
       "      <td>...</td>\n",
       "    </tr>\n",
       "    <tr>\n",
       "      <th>15885</th>\n",
       "      <td>PROJ0x27fb</td>\n",
       "      <td>NaN</td>\n",
       "      <td>1993-03-01</td>\n",
       "      <td>?</td>\n",
       "      <td>NaN</td>\n",
       "      <td>NaN</td>\n",
       "      <td>?</td>\n",
       "      <td>NaN</td>\n",
       "      <td>55.683071526158216</td>\n",
       "      <td>16704.921458</td>\n",
       "      <td>639.500000</td>\n",
       "      <td>Some of the ethical issues associat...</td>\n",
       "      <td>Today, parallel GPUs have begun maki...</td>\n",
       "    </tr>\n",
       "    <tr>\n",
       "      <th>15886</th>\n",
       "      <td>PROJ0x3261</td>\n",
       "      <td>NaN</td>\n",
       "      <td>NaT</td>\n",
       "      <td>?</td>\n",
       "      <td>Private_sector</td>\n",
       "      <td>NaN</td>\n",
       "      <td>?</td>\n",
       "      <td>NaN</td>\n",
       "      <td>?</td>\n",
       "      <td>4472.540286</td>\n",
       "      <td>410.350000</td>\n",
       "      <td>Tata Motors and Marcopolo have a joi...</td>\n",
       "      <td>In-service examples are still in use...</td>\n",
       "    </tr>\n",
       "    <tr>\n",
       "      <th>15887</th>\n",
       "      <td>PROJ0x3aff</td>\n",
       "      <td>PTC</td>\n",
       "      <td>1993-10-01</td>\n",
       "      <td>large-cap</td>\n",
       "      <td>?</td>\n",
       "      <td>Croatia</td>\n",
       "      <td>Julia Witzke</td>\n",
       "      <td>26812.0</td>\n",
       "      <td>?</td>\n",
       "      <td>23137.331098</td>\n",
       "      <td>NaN</td>\n",
       "      <td>Since it is not possible to know wit...</td>\n",
       "      <td>One use of the term \"computer securi...</td>\n",
       "    </tr>\n",
       "    <tr>\n",
       "      <th>15888</th>\n",
       "      <td>PROJ0x1082</td>\n",
       "      <td>NaN</td>\n",
       "      <td>NaT</td>\n",
       "      <td>?</td>\n",
       "      <td>?</td>\n",
       "      <td>NaN</td>\n",
       "      <td>?</td>\n",
       "      <td>NaN</td>\n",
       "      <td>3.1675119878714577</td>\n",
       "      <td>-23193.286227</td>\n",
       "      <td>6173.390037</td>\n",
       "      <td>Cooking with polluting fuels causes ...</td>\n",
       "      <td>The price of wind power is therefore...</td>\n",
       "    </tr>\n",
       "    <tr>\n",
       "      <th>15889</th>\n",
       "      <td>PROJ0x7cf7</td>\n",
       "      <td>NaN</td>\n",
       "      <td>NaT</td>\n",
       "      <td>large-cap</td>\n",
       "      <td>Private_sector</td>\n",
       "      <td>NaN</td>\n",
       "      <td>?</td>\n",
       "      <td>NaN</td>\n",
       "      <td>-999.0</td>\n",
       "      <td>-39672.087974</td>\n",
       "      <td>-13410.979082</td>\n",
       "      <td>Costs are projected to increase to ...</td>\n",
       "      <td>Hahnemann used this term to distingu...</td>\n",
       "    </tr>\n",
       "  </tbody>\n",
       "</table>\n",
       "<p>15890 rows × 13 columns</p>\n",
       "</div>"
      ],
      "text/plain": [
       "               ID Symbol Start_date market_cap          Sector  Country  \\\n",
       "0      PROJ0x51fa    NaN        NaT          ?             NaN      NaN   \n",
       "1      PROJ0x3c88    NaN        NaT  large-cap               ?      NaN   \n",
       "2      PROJ0x3e72    NaN        NaT    mid-cap               ?      NaN   \n",
       "3      PROJ0x1129    NaN 1979-08-01  small-cap             NaN      NaN   \n",
       "4      PROJ0x9029    NaN        NaT  small-cap  Private_sector      NaN   \n",
       "...           ...    ...        ...        ...             ...      ...   \n",
       "15885  PROJ0x27fb    NaN 1993-03-01          ?             NaN      NaN   \n",
       "15886  PROJ0x3261    NaN        NaT          ?  Private_sector      NaN   \n",
       "15887  PROJ0x3aff    PTC 1993-10-01  large-cap               ?  Croatia   \n",
       "15888  PROJ0x1082    NaN        NaT          ?               ?      NaN   \n",
       "15889  PROJ0x7cf7    NaN        NaT  large-cap  Private_sector      NaN   \n",
       "\n",
       "                     CEO  No.of employee        Revenue (Cr)  \\\n",
       "0      Vicenta Bronstein             NaN  0.6836318142997198   \n",
       "1          Nelson Bodkin          7964.0                   ?   \n",
       "2                      ?             NaN   2.519536393657552   \n",
       "3                      ?             NaN              -999.0   \n",
       "4                      ?          6954.0                   ?   \n",
       "...                  ...             ...                 ...   \n",
       "15885                  ?             NaN  55.683071526158216   \n",
       "15886                  ?             NaN                   ?   \n",
       "15887       Julia Witzke         26812.0                   ?   \n",
       "15888                  ?             NaN  3.1675119878714577   \n",
       "15889                  ?             NaN              -999.0   \n",
       "\n",
       "       Net-valuation (Cr)  Share_price (RS)  \\\n",
       "0             8507.104743         65.800000   \n",
       "1                     NaN       1617.536129   \n",
       "2              755.860918        755.400000   \n",
       "3              155.498484         94.700000   \n",
       "4            34880.360760               NaN   \n",
       "...                   ...               ...   \n",
       "15885        16704.921458        639.500000   \n",
       "15886         4472.540286        410.350000   \n",
       "15887        23137.331098               NaN   \n",
       "15888       -23193.286227       6173.390037   \n",
       "15889       -39672.087974     -13410.979082   \n",
       "\n",
       "                            Company_background  \\\n",
       "0      The food processing industry is one ...   \n",
       "1      Well-designed government policies th...   \n",
       "2       Information services Information se...   \n",
       "3                                Not available   \n",
       "4      In 2007, there were about 806 millio...   \n",
       "...                                        ...   \n",
       "15885   Some of the ethical issues associat...   \n",
       "15886  Tata Motors and Marcopolo have a joi...   \n",
       "15887  Since it is not possible to know wit...   \n",
       "15888  Cooking with polluting fuels causes ...   \n",
       "15889   Costs are projected to increase to ...   \n",
       "\n",
       "                                  product_info  \n",
       "0      ISBN 978-0-9758252-0-4. ISBN 978-0-1...  \n",
       "1      Wind energy penetration is the fract...  \n",
       "2      it is another good example of Artifi...  \n",
       "3      The following setup is configured in...  \n",
       "4      New vehicles will be issued a virtua...  \n",
       "...                                        ...  \n",
       "15885  Today, parallel GPUs have begun maki...  \n",
       "15886  In-service examples are still in use...  \n",
       "15887  One use of the term \"computer securi...  \n",
       "15888  The price of wind power is therefore...  \n",
       "15889  Hahnemann used this term to distingu...  \n",
       "\n",
       "[15890 rows x 13 columns]"
      ]
     },
     "execution_count": 13,
     "metadata": {
      "tags": []
     },
     "output_type": "execute_result"
    }
   ],
   "source": [
    "file_id_list = os.listdir(test_prod_info_path)\n",
    "\n",
    "product_info_corpus = []\n",
    "product_id_list = []\n",
    "\n",
    "error_counter = 0\n",
    "error_files = []\n",
    "\n",
    "for each_file in file_id_list:\n",
    "  try:\n",
    "    f = open(test_prod_info_path + each_file,'r')\n",
    "    raw = f.read()\n",
    "    product_info_corpus.append(raw)\n",
    "    product_id_list.append(each_file[:-4])\n",
    "  except:  \n",
    "    error_counter += 1\n",
    "    error_files.append(each_file)\n",
    "\n",
    "product_desc_df = pd.DataFrame(data = product_id_list, columns = ['ID'])\n",
    "product_desc_df['product_info'] = product_info_corpus\n",
    "\n",
    "test_data = pd.merge(test_data, product_desc_df, how = 'left', on= ['ID'])\n",
    "# Drop the entry with non readable product info\n",
    "test_data"
   ]
  },
  {
   "cell_type": "markdown",
   "metadata": {
    "id": "VcShHqBh6sRF"
   },
   "source": [
    "# Checkpoint 1\n",
    "\n",
    "Identify hierarchy of the data and perfrorm preliminary checks\n",
    "\n"
   ]
  },
  {
   "cell_type": "markdown",
   "metadata": {
    "id": "TtweARifFISb"
   },
   "source": [
    "## Identify hierarchy and perfrom preliminary checks on targets"
   ]
  },
  {
   "cell_type": "code",
   "execution_count": null,
   "metadata": {
    "colab": {
     "base_uri": "https://localhost:8080/"
    },
    "id": "lHL2O6BJ7g-t",
    "outputId": "d44a4b4b-4ff3-4bf2-ce5b-13306b23573f"
   },
   "outputs": [
    {
     "data": {
      "text/html": [
       "<div>\n",
       "<style scoped>\n",
       "    .dataframe tbody tr th:only-of-type {\n",
       "        vertical-align: middle;\n",
       "    }\n",
       "\n",
       "    .dataframe tbody tr th {\n",
       "        vertical-align: top;\n",
       "    }\n",
       "\n",
       "    .dataframe thead th {\n",
       "        text-align: right;\n",
       "    }\n",
       "</style>\n",
       "<table border=\"1\" class=\"dataframe\">\n",
       "  <thead>\n",
       "    <tr style=\"text-align: right;\">\n",
       "      <th></th>\n",
       "      <th>Type</th>\n",
       "      <th>Product</th>\n",
       "      <th>industry</th>\n",
       "      <th>ID</th>\n",
       "    </tr>\n",
       "  </thead>\n",
       "  <tbody>\n",
       "    <tr>\n",
       "      <th>0</th>\n",
       "      <td>Diagnostic</td>\n",
       "      <td>Medical devices</td>\n",
       "      <td>Health Industry</td>\n",
       "      <td>757</td>\n",
       "    </tr>\n",
       "    <tr>\n",
       "      <th>1</th>\n",
       "      <td>Diagnostic</td>\n",
       "      <td>None</td>\n",
       "      <td>Health Industry</td>\n",
       "      <td>4</td>\n",
       "    </tr>\n",
       "    <tr>\n",
       "      <th>2</th>\n",
       "      <td>Diagnostic</td>\n",
       "      <td>allopathy</td>\n",
       "      <td>Health Industry</td>\n",
       "      <td>796</td>\n",
       "    </tr>\n",
       "    <tr>\n",
       "      <th>3</th>\n",
       "      <td>Food</td>\n",
       "      <td>Beverage</td>\n",
       "      <td>Manufacturing Industry</td>\n",
       "      <td>510</td>\n",
       "    </tr>\n",
       "    <tr>\n",
       "      <th>4</th>\n",
       "      <td>Food</td>\n",
       "      <td>Fastfood</td>\n",
       "      <td>Manufacturing Industry</td>\n",
       "      <td>566</td>\n",
       "    </tr>\n",
       "    <tr>\n",
       "      <th>5</th>\n",
       "      <td>Food</td>\n",
       "      <td>None</td>\n",
       "      <td>Manufacturing Industry</td>\n",
       "      <td>4</td>\n",
       "    </tr>\n",
       "    <tr>\n",
       "      <th>6</th>\n",
       "      <td>Food</td>\n",
       "      <td>Organicfood</td>\n",
       "      <td>Manufacturing Industry</td>\n",
       "      <td>480</td>\n",
       "    </tr>\n",
       "    <tr>\n",
       "      <th>7</th>\n",
       "      <td>Hardware</td>\n",
       "      <td>AI</td>\n",
       "      <td>Computer Industry</td>\n",
       "      <td>495</td>\n",
       "    </tr>\n",
       "    <tr>\n",
       "      <th>8</th>\n",
       "      <td>Hardware</td>\n",
       "      <td>Gaming hardware</td>\n",
       "      <td>Computer Industry</td>\n",
       "      <td>487</td>\n",
       "    </tr>\n",
       "    <tr>\n",
       "      <th>9</th>\n",
       "      <td>Hardware</td>\n",
       "      <td>Hardware accelerator</td>\n",
       "      <td>Computer Industry</td>\n",
       "      <td>456</td>\n",
       "    </tr>\n",
       "    <tr>\n",
       "      <th>10</th>\n",
       "      <td>Hardware</td>\n",
       "      <td>None</td>\n",
       "      <td>Computer Industry</td>\n",
       "      <td>3</td>\n",
       "    </tr>\n",
       "    <tr>\n",
       "      <th>11</th>\n",
       "      <td>Heavy Vehicles</td>\n",
       "      <td>JCP</td>\n",
       "      <td>Automobile Industry</td>\n",
       "      <td>793</td>\n",
       "    </tr>\n",
       "    <tr>\n",
       "      <th>12</th>\n",
       "      <td>Heavy Vehicles</td>\n",
       "      <td>None</td>\n",
       "      <td>Automobile Industry</td>\n",
       "      <td>8</td>\n",
       "    </tr>\n",
       "    <tr>\n",
       "      <th>13</th>\n",
       "      <td>Heavy Vehicles</td>\n",
       "      <td>Truck</td>\n",
       "      <td>Automobile Industry</td>\n",
       "      <td>784</td>\n",
       "    </tr>\n",
       "    <tr>\n",
       "      <th>14</th>\n",
       "      <td>Heavy vehicle</td>\n",
       "      <td>Truck</td>\n",
       "      <td>Automobile Industry</td>\n",
       "      <td>1</td>\n",
       "    </tr>\n",
       "    <tr>\n",
       "      <th>15</th>\n",
       "      <td>Light Vehicles</td>\n",
       "      <td>AI</td>\n",
       "      <td>Automobile Industry</td>\n",
       "      <td>796</td>\n",
       "    </tr>\n",
       "    <tr>\n",
       "      <th>16</th>\n",
       "      <td>Light Vehicles</td>\n",
       "      <td>Bike</td>\n",
       "      <td>Automobile Industry</td>\n",
       "      <td>879</td>\n",
       "    </tr>\n",
       "    <tr>\n",
       "      <th>17</th>\n",
       "      <td>Light Vehicles</td>\n",
       "      <td>Car</td>\n",
       "      <td>Automobile Industry</td>\n",
       "      <td>756</td>\n",
       "    </tr>\n",
       "    <tr>\n",
       "      <th>18</th>\n",
       "      <td>Light Vehicles</td>\n",
       "      <td>None</td>\n",
       "      <td>Automobile Industry</td>\n",
       "      <td>5</td>\n",
       "    </tr>\n",
       "    <tr>\n",
       "      <th>19</th>\n",
       "      <td>Light Vehicles</td>\n",
       "      <td>Truck</td>\n",
       "      <td>Automobile Industry</td>\n",
       "      <td>768</td>\n",
       "    </tr>\n",
       "    <tr>\n",
       "      <th>20</th>\n",
       "      <td>Mechanical</td>\n",
       "      <td>Kids toys</td>\n",
       "      <td>Manufacturing Industry</td>\n",
       "      <td>547</td>\n",
       "    </tr>\n",
       "    <tr>\n",
       "      <th>21</th>\n",
       "      <td>Mechanical</td>\n",
       "      <td>None</td>\n",
       "      <td>Manufacturing Industry</td>\n",
       "      <td>4</td>\n",
       "    </tr>\n",
       "    <tr>\n",
       "      <th>22</th>\n",
       "      <td>Mechanical</td>\n",
       "      <td>Wiring tools</td>\n",
       "      <td>Manufacturing Industry</td>\n",
       "      <td>535</td>\n",
       "    </tr>\n",
       "    <tr>\n",
       "      <th>23</th>\n",
       "      <td>Pharma</td>\n",
       "      <td>None</td>\n",
       "      <td>Health Industry</td>\n",
       "      <td>10</td>\n",
       "    </tr>\n",
       "    <tr>\n",
       "      <th>24</th>\n",
       "      <td>Pharma</td>\n",
       "      <td>Organicfood</td>\n",
       "      <td>Health Industry</td>\n",
       "      <td>722</td>\n",
       "    </tr>\n",
       "    <tr>\n",
       "      <th>25</th>\n",
       "      <td>Pharma</td>\n",
       "      <td>allopathy</td>\n",
       "      <td>Health Industry</td>\n",
       "      <td>789</td>\n",
       "    </tr>\n",
       "    <tr>\n",
       "      <th>26</th>\n",
       "      <td>Pharma</td>\n",
       "      <td>homeopathic</td>\n",
       "      <td>Health Industry</td>\n",
       "      <td>782</td>\n",
       "    </tr>\n",
       "    <tr>\n",
       "      <th>27</th>\n",
       "      <td>Pharma</td>\n",
       "      <td>siddha</td>\n",
       "      <td>Health Industry</td>\n",
       "      <td>819</td>\n",
       "    </tr>\n",
       "    <tr>\n",
       "      <th>28</th>\n",
       "      <td>Production</td>\n",
       "      <td>Bike</td>\n",
       "      <td>Manufacturing Industry</td>\n",
       "      <td>533</td>\n",
       "    </tr>\n",
       "    <tr>\n",
       "      <th>29</th>\n",
       "      <td>Production</td>\n",
       "      <td>Gaming hardware</td>\n",
       "      <td>Manufacturing Industry</td>\n",
       "      <td>558</td>\n",
       "    </tr>\n",
       "    <tr>\n",
       "      <th>30</th>\n",
       "      <td>Production</td>\n",
       "      <td>Medical devices</td>\n",
       "      <td>Manufacturing Industry</td>\n",
       "      <td>555</td>\n",
       "    </tr>\n",
       "    <tr>\n",
       "      <th>31</th>\n",
       "      <td>Production</td>\n",
       "      <td>None</td>\n",
       "      <td>Manufacturing Industry</td>\n",
       "      <td>5</td>\n",
       "    </tr>\n",
       "    <tr>\n",
       "      <th>32</th>\n",
       "      <td>Security</td>\n",
       "      <td>Cyber-security</td>\n",
       "      <td>Computer Industry</td>\n",
       "      <td>457</td>\n",
       "    </tr>\n",
       "    <tr>\n",
       "      <th>33</th>\n",
       "      <td>Security</td>\n",
       "      <td>None</td>\n",
       "      <td>Computer Industry</td>\n",
       "      <td>2</td>\n",
       "    </tr>\n",
       "    <tr>\n",
       "      <th>34</th>\n",
       "      <td>Security</td>\n",
       "      <td>antivirus-security</td>\n",
       "      <td>Computer Industry</td>\n",
       "      <td>495</td>\n",
       "    </tr>\n",
       "    <tr>\n",
       "      <th>35</th>\n",
       "      <td>Software</td>\n",
       "      <td>AI</td>\n",
       "      <td>Computer Industry</td>\n",
       "      <td>501</td>\n",
       "    </tr>\n",
       "    <tr>\n",
       "      <th>36</th>\n",
       "      <td>Software</td>\n",
       "      <td>Cyber-security</td>\n",
       "      <td>Computer Industry</td>\n",
       "      <td>499</td>\n",
       "    </tr>\n",
       "    <tr>\n",
       "      <th>37</th>\n",
       "      <td>Software</td>\n",
       "      <td>Hardware accelerator</td>\n",
       "      <td>Computer Industry</td>\n",
       "      <td>469</td>\n",
       "    </tr>\n",
       "    <tr>\n",
       "      <th>38</th>\n",
       "      <td>Software</td>\n",
       "      <td>IT</td>\n",
       "      <td>Computer Industry</td>\n",
       "      <td>473</td>\n",
       "    </tr>\n",
       "    <tr>\n",
       "      <th>39</th>\n",
       "      <td>Software</td>\n",
       "      <td>None</td>\n",
       "      <td>Computer Industry</td>\n",
       "      <td>11</td>\n",
       "    </tr>\n",
       "    <tr>\n",
       "      <th>40</th>\n",
       "      <td>Software</td>\n",
       "      <td>antivirus-security</td>\n",
       "      <td>Computer Industry</td>\n",
       "      <td>471</td>\n",
       "    </tr>\n",
       "    <tr>\n",
       "      <th>41</th>\n",
       "      <td>Toys</td>\n",
       "      <td>Kids toys</td>\n",
       "      <td>Manufacturing Industry</td>\n",
       "      <td>527</td>\n",
       "    </tr>\n",
       "    <tr>\n",
       "      <th>42</th>\n",
       "      <td>Toys</td>\n",
       "      <td>None</td>\n",
       "      <td>Manufacturing Industry</td>\n",
       "      <td>2</td>\n",
       "    </tr>\n",
       "    <tr>\n",
       "      <th>43</th>\n",
       "      <td>green energy</td>\n",
       "      <td>Hydro</td>\n",
       "      <td>Power Industry</td>\n",
       "      <td>940</td>\n",
       "    </tr>\n",
       "    <tr>\n",
       "      <th>44</th>\n",
       "      <td>green energy</td>\n",
       "      <td>None</td>\n",
       "      <td>Power Industry</td>\n",
       "      <td>9</td>\n",
       "    </tr>\n",
       "    <tr>\n",
       "      <th>45</th>\n",
       "      <td>green energy</td>\n",
       "      <td>Solar</td>\n",
       "      <td>Power Industry</td>\n",
       "      <td>1004</td>\n",
       "    </tr>\n",
       "    <tr>\n",
       "      <th>46</th>\n",
       "      <td>green energy</td>\n",
       "      <td>Wind</td>\n",
       "      <td>Power Industry</td>\n",
       "      <td>872</td>\n",
       "    </tr>\n",
       "    <tr>\n",
       "      <th>47</th>\n",
       "      <td>non green energy</td>\n",
       "      <td>Fuel</td>\n",
       "      <td>Power Industry</td>\n",
       "      <td>944</td>\n",
       "    </tr>\n",
       "    <tr>\n",
       "      <th>48</th>\n",
       "      <td>non green energy</td>\n",
       "      <td>None</td>\n",
       "      <td>Power Industry</td>\n",
       "      <td>5</td>\n",
       "    </tr>\n",
       "    <tr>\n",
       "      <th>49</th>\n",
       "      <td>non green energy</td>\n",
       "      <td>charcoal</td>\n",
       "      <td>Power Industry</td>\n",
       "      <td>945</td>\n",
       "    </tr>\n",
       "  </tbody>\n",
       "</table>\n",
       "</div>"
      ],
      "text/plain": [
       "                Type               Product                industry    ID\n",
       "0         Diagnostic       Medical devices         Health Industry   757\n",
       "1         Diagnostic                  None         Health Industry     4\n",
       "2         Diagnostic             allopathy         Health Industry   796\n",
       "3               Food              Beverage  Manufacturing Industry   510\n",
       "4               Food              Fastfood  Manufacturing Industry   566\n",
       "5               Food                  None  Manufacturing Industry     4\n",
       "6               Food           Organicfood  Manufacturing Industry   480\n",
       "7           Hardware                    AI       Computer Industry   495\n",
       "8           Hardware       Gaming hardware       Computer Industry   487\n",
       "9           Hardware  Hardware accelerator       Computer Industry   456\n",
       "10          Hardware                  None       Computer Industry     3\n",
       "11    Heavy Vehicles                   JCP     Automobile Industry   793\n",
       "12    Heavy Vehicles                  None     Automobile Industry     8\n",
       "13    Heavy Vehicles                 Truck     Automobile Industry   784\n",
       "14     Heavy vehicle                 Truck     Automobile Industry     1\n",
       "15    Light Vehicles                    AI     Automobile Industry   796\n",
       "16    Light Vehicles                  Bike     Automobile Industry   879\n",
       "17    Light Vehicles                   Car     Automobile Industry   756\n",
       "18    Light Vehicles                  None     Automobile Industry     5\n",
       "19    Light Vehicles                 Truck     Automobile Industry   768\n",
       "20        Mechanical             Kids toys  Manufacturing Industry   547\n",
       "21        Mechanical                  None  Manufacturing Industry     4\n",
       "22        Mechanical          Wiring tools  Manufacturing Industry   535\n",
       "23            Pharma                  None         Health Industry    10\n",
       "24            Pharma           Organicfood         Health Industry   722\n",
       "25            Pharma             allopathy         Health Industry   789\n",
       "26            Pharma           homeopathic         Health Industry   782\n",
       "27            Pharma                siddha         Health Industry   819\n",
       "28        Production                  Bike  Manufacturing Industry   533\n",
       "29        Production       Gaming hardware  Manufacturing Industry   558\n",
       "30        Production       Medical devices  Manufacturing Industry   555\n",
       "31        Production                  None  Manufacturing Industry     5\n",
       "32          Security        Cyber-security       Computer Industry   457\n",
       "33          Security                  None       Computer Industry     2\n",
       "34          Security    antivirus-security       Computer Industry   495\n",
       "35          Software                    AI       Computer Industry   501\n",
       "36          Software        Cyber-security       Computer Industry   499\n",
       "37          Software  Hardware accelerator       Computer Industry   469\n",
       "38          Software                    IT       Computer Industry   473\n",
       "39          Software                  None       Computer Industry    11\n",
       "40          Software    antivirus-security       Computer Industry   471\n",
       "41              Toys             Kids toys  Manufacturing Industry   527\n",
       "42              Toys                  None  Manufacturing Industry     2\n",
       "43      green energy                 Hydro          Power Industry   940\n",
       "44      green energy                  None          Power Industry     9\n",
       "45      green energy                 Solar          Power Industry  1004\n",
       "46      green energy                  Wind          Power Industry   872\n",
       "47  non green energy                  Fuel          Power Industry   944\n",
       "48  non green energy                  None          Power Industry     5\n",
       "49  non green energy              charcoal          Power Industry   945"
      ]
     },
     "execution_count": 14,
     "metadata": {
      "tags": []
     },
     "output_type": "execute_result"
    }
   ],
   "source": [
    "temp = masterdata.groupby(['Type','Product','industry']).agg({'ID':'count'}).reset_index()\n",
    "temp"
   ]
  },
  {
   "cell_type": "markdown",
   "metadata": {
    "id": "R4-7i42k_5od"
   },
   "source": [
    "###Check duplicates for each level to validate if we need to rename any class for consistency\n",
    "\n",
    "- Automobile industry had one entry tagged as \"Heavy vehicle\". Has been renamed to \"Heavy Vehicles\" for consistency\n",
    "\n",
    "-Computer industry needs investigation as same products are tagged under 2 parent classes (i.e. software and security). Will cause issues in model"
   ]
  },
  {
   "cell_type": "code",
   "execution_count": null,
   "metadata": {
    "colab": {
     "base_uri": "https://localhost:8080/"
    },
    "id": "Nh763-Q__5Jn",
    "outputId": "0e9e824f-4dc7-4cdf-b235-8a0d8da15244"
   },
   "outputs": [
    {
     "name": "stdout",
     "output_type": "stream",
     "text": [
      "\n",
      "Industry : Health Industry\n",
      "Type\n",
      "['Diagnostic' 'Pharma']\n",
      "Product\n",
      "['Medical devices' 'None' 'Organicfood' 'allopathy' 'homeopathic' 'siddha']\n",
      "\n",
      "Industry : Manufacturing Industry\n",
      "Type\n",
      "['Food' 'Mechanical' 'Production' 'Toys']\n",
      "Product\n",
      "['Beverage' 'Bike' 'Fastfood' 'Gaming hardware' 'Kids toys'\n",
      " 'Medical devices' 'None' 'Organicfood' 'Wiring tools']\n",
      "\n",
      "Industry : Computer Industry\n",
      "Type\n",
      "['Hardware' 'Security' 'Software']\n",
      "Product\n",
      "['AI' 'Cyber-security' 'Gaming hardware' 'Hardware accelerator' 'IT'\n",
      " 'None' 'antivirus-security']\n",
      "\n",
      "Industry : Automobile Industry\n",
      "Type\n",
      "['Heavy Vehicles' 'Heavy vehicle' 'Light Vehicles']\n",
      "Product\n",
      "['AI' 'Bike' 'Car' 'JCP' 'None' 'Truck']\n",
      "\n",
      "Industry : Power Industry\n",
      "Type\n",
      "['green energy' 'non green energy']\n",
      "Product\n",
      "['Fuel' 'Hydro' 'None' 'Solar' 'Wind' 'charcoal']\n"
     ]
    }
   ],
   "source": [
    "for industry in temp['industry'].unique():\n",
    "  print(\"\\nIndustry : \"+ industry)\n",
    "  for col in ['Type','Product']:\n",
    "    print(col)\n",
    "    print(np.sort(temp.loc[temp['industry'] == industry, col].unique()))"
   ]
  },
  {
   "cell_type": "code",
   "execution_count": null,
   "metadata": {
    "colab": {
     "base_uri": "https://localhost:8080/"
    },
    "id": "39ioAZlCClvI",
    "outputId": "fc8ac9ae-5daa-428e-8d95-0e4d4e9d3a5a"
   },
   "outputs": [
    {
     "data": {
      "text/html": [
       "<div>\n",
       "<style scoped>\n",
       "    .dataframe tbody tr th:only-of-type {\n",
       "        vertical-align: middle;\n",
       "    }\n",
       "\n",
       "    .dataframe tbody tr th {\n",
       "        vertical-align: top;\n",
       "    }\n",
       "\n",
       "    .dataframe thead th {\n",
       "        text-align: right;\n",
       "    }\n",
       "</style>\n",
       "<table border=\"1\" class=\"dataframe\">\n",
       "  <thead>\n",
       "    <tr style=\"text-align: right;\">\n",
       "      <th></th>\n",
       "      <th>Type</th>\n",
       "      <th>Product</th>\n",
       "      <th>industry</th>\n",
       "      <th>ID</th>\n",
       "    </tr>\n",
       "  </thead>\n",
       "  <tbody>\n",
       "    <tr>\n",
       "      <th>11</th>\n",
       "      <td>Heavy Vehicles</td>\n",
       "      <td>JCP</td>\n",
       "      <td>Automobile Industry</td>\n",
       "      <td>793</td>\n",
       "    </tr>\n",
       "    <tr>\n",
       "      <th>12</th>\n",
       "      <td>Heavy Vehicles</td>\n",
       "      <td>None</td>\n",
       "      <td>Automobile Industry</td>\n",
       "      <td>8</td>\n",
       "    </tr>\n",
       "    <tr>\n",
       "      <th>13</th>\n",
       "      <td>Heavy Vehicles</td>\n",
       "      <td>Truck</td>\n",
       "      <td>Automobile Industry</td>\n",
       "      <td>784</td>\n",
       "    </tr>\n",
       "  </tbody>\n",
       "</table>\n",
       "</div>"
      ],
      "text/plain": [
       "              Type Product             industry   ID\n",
       "11  Heavy Vehicles     JCP  Automobile Industry  793\n",
       "12  Heavy Vehicles    None  Automobile Industry    8\n",
       "13  Heavy Vehicles   Truck  Automobile Industry  784"
      ]
     },
     "execution_count": 16,
     "metadata": {
      "tags": []
     },
     "output_type": "execute_result"
    }
   ],
   "source": [
    "# Further check the Heavy vehicle entry to ensure its not mapped to different products\n",
    "\n",
    "temp.loc[temp['Type'] == 'Heavy Vehicles',:]"
   ]
  },
  {
   "cell_type": "code",
   "execution_count": null,
   "metadata": {
    "colab": {
     "base_uri": "https://localhost:8080/"
    },
    "id": "iTIQ2ZvdC0Rd",
    "outputId": "1cf45091-524e-4f1d-d8ec-f6eb47136611"
   },
   "outputs": [
    {
     "data": {
      "text/html": [
       "<div>\n",
       "<style scoped>\n",
       "    .dataframe tbody tr th:only-of-type {\n",
       "        vertical-align: middle;\n",
       "    }\n",
       "\n",
       "    .dataframe tbody tr th {\n",
       "        vertical-align: top;\n",
       "    }\n",
       "\n",
       "    .dataframe thead th {\n",
       "        text-align: right;\n",
       "    }\n",
       "</style>\n",
       "<table border=\"1\" class=\"dataframe\">\n",
       "  <thead>\n",
       "    <tr style=\"text-align: right;\">\n",
       "      <th></th>\n",
       "      <th>Type</th>\n",
       "      <th>Product</th>\n",
       "      <th>industry</th>\n",
       "      <th>ID</th>\n",
       "    </tr>\n",
       "  </thead>\n",
       "  <tbody>\n",
       "    <tr>\n",
       "      <th>14</th>\n",
       "      <td>Heavy vehicle</td>\n",
       "      <td>Truck</td>\n",
       "      <td>Automobile Industry</td>\n",
       "      <td>1</td>\n",
       "    </tr>\n",
       "  </tbody>\n",
       "</table>\n",
       "</div>"
      ],
      "text/plain": [
       "             Type Product             industry  ID\n",
       "14  Heavy vehicle   Truck  Automobile Industry   1"
      ]
     },
     "execution_count": 17,
     "metadata": {
      "tags": []
     },
     "output_type": "execute_result"
    }
   ],
   "source": [
    "temp.loc[temp['Type'] == 'Heavy vehicle',:]"
   ]
  },
  {
   "cell_type": "markdown",
   "metadata": {
    "id": "ki9TFR9lCWbr"
   },
   "source": [
    "COrrect the entry for Heavy vehicles to make it consistent"
   ]
  },
  {
   "cell_type": "code",
   "execution_count": null,
   "metadata": {
    "id": "zPZWFr22CZow"
   },
   "outputs": [],
   "source": [
    "masterdata.loc[masterdata['Type'] == 'Heavy vehicle','Type'] = 'Heavy Vehicles'"
   ]
  },
  {
   "cell_type": "code",
   "execution_count": null,
   "metadata": {
    "colab": {
     "base_uri": "https://localhost:8080/"
    },
    "id": "xgrfYAmaDGvh",
    "outputId": "6d157c69-7a00-4200-c57a-abf17684617f"
   },
   "outputs": [
    {
     "data": {
      "text/html": [
       "<div>\n",
       "<style scoped>\n",
       "    .dataframe tbody tr th:only-of-type {\n",
       "        vertical-align: middle;\n",
       "    }\n",
       "\n",
       "    .dataframe tbody tr th {\n",
       "        vertical-align: top;\n",
       "    }\n",
       "\n",
       "    .dataframe thead th {\n",
       "        text-align: right;\n",
       "    }\n",
       "</style>\n",
       "<table border=\"1\" class=\"dataframe\">\n",
       "  <thead>\n",
       "    <tr style=\"text-align: right;\">\n",
       "      <th></th>\n",
       "      <th>Type</th>\n",
       "      <th>Product</th>\n",
       "      <th>industry</th>\n",
       "      <th>ID</th>\n",
       "    </tr>\n",
       "  </thead>\n",
       "  <tbody>\n",
       "    <tr>\n",
       "      <th>7</th>\n",
       "      <td>Hardware</td>\n",
       "      <td>AI</td>\n",
       "      <td>Computer Industry</td>\n",
       "      <td>495</td>\n",
       "    </tr>\n",
       "    <tr>\n",
       "      <th>8</th>\n",
       "      <td>Hardware</td>\n",
       "      <td>Gaming hardware</td>\n",
       "      <td>Computer Industry</td>\n",
       "      <td>487</td>\n",
       "    </tr>\n",
       "    <tr>\n",
       "      <th>9</th>\n",
       "      <td>Hardware</td>\n",
       "      <td>Hardware accelerator</td>\n",
       "      <td>Computer Industry</td>\n",
       "      <td>456</td>\n",
       "    </tr>\n",
       "    <tr>\n",
       "      <th>10</th>\n",
       "      <td>Hardware</td>\n",
       "      <td>None</td>\n",
       "      <td>Computer Industry</td>\n",
       "      <td>3</td>\n",
       "    </tr>\n",
       "    <tr>\n",
       "      <th>32</th>\n",
       "      <td>Security</td>\n",
       "      <td>Cyber-security</td>\n",
       "      <td>Computer Industry</td>\n",
       "      <td>457</td>\n",
       "    </tr>\n",
       "    <tr>\n",
       "      <th>33</th>\n",
       "      <td>Security</td>\n",
       "      <td>None</td>\n",
       "      <td>Computer Industry</td>\n",
       "      <td>2</td>\n",
       "    </tr>\n",
       "    <tr>\n",
       "      <th>34</th>\n",
       "      <td>Security</td>\n",
       "      <td>antivirus-security</td>\n",
       "      <td>Computer Industry</td>\n",
       "      <td>495</td>\n",
       "    </tr>\n",
       "    <tr>\n",
       "      <th>35</th>\n",
       "      <td>Software</td>\n",
       "      <td>AI</td>\n",
       "      <td>Computer Industry</td>\n",
       "      <td>501</td>\n",
       "    </tr>\n",
       "    <tr>\n",
       "      <th>36</th>\n",
       "      <td>Software</td>\n",
       "      <td>Cyber-security</td>\n",
       "      <td>Computer Industry</td>\n",
       "      <td>499</td>\n",
       "    </tr>\n",
       "    <tr>\n",
       "      <th>37</th>\n",
       "      <td>Software</td>\n",
       "      <td>Hardware accelerator</td>\n",
       "      <td>Computer Industry</td>\n",
       "      <td>469</td>\n",
       "    </tr>\n",
       "    <tr>\n",
       "      <th>38</th>\n",
       "      <td>Software</td>\n",
       "      <td>IT</td>\n",
       "      <td>Computer Industry</td>\n",
       "      <td>473</td>\n",
       "    </tr>\n",
       "    <tr>\n",
       "      <th>39</th>\n",
       "      <td>Software</td>\n",
       "      <td>None</td>\n",
       "      <td>Computer Industry</td>\n",
       "      <td>11</td>\n",
       "    </tr>\n",
       "    <tr>\n",
       "      <th>40</th>\n",
       "      <td>Software</td>\n",
       "      <td>antivirus-security</td>\n",
       "      <td>Computer Industry</td>\n",
       "      <td>471</td>\n",
       "    </tr>\n",
       "  </tbody>\n",
       "</table>\n",
       "</div>"
      ],
      "text/plain": [
       "        Type               Product           industry   ID\n",
       "7   Hardware                    AI  Computer Industry  495\n",
       "8   Hardware       Gaming hardware  Computer Industry  487\n",
       "9   Hardware  Hardware accelerator  Computer Industry  456\n",
       "10  Hardware                  None  Computer Industry    3\n",
       "32  Security        Cyber-security  Computer Industry  457\n",
       "33  Security                  None  Computer Industry    2\n",
       "34  Security    antivirus-security  Computer Industry  495\n",
       "35  Software                    AI  Computer Industry  501\n",
       "36  Software        Cyber-security  Computer Industry  499\n",
       "37  Software  Hardware accelerator  Computer Industry  469\n",
       "38  Software                    IT  Computer Industry  473\n",
       "39  Software                  None  Computer Industry   11\n",
       "40  Software    antivirus-security  Computer Industry  471"
      ]
     },
     "execution_count": 19,
     "metadata": {
      "tags": []
     },
     "output_type": "execute_result"
    }
   ],
   "source": [
    "# Check the computer industry and see if cyber security and antivirus are tagged under same class or different\n",
    "\n",
    "temp.loc[temp['industry'] == 'Computer Industry',:]"
   ]
  },
  {
   "cell_type": "code",
   "execution_count": null,
   "metadata": {
    "colab": {
     "base_uri": "https://localhost:8080/"
    },
    "id": "5LKjaH_mD9jw",
    "outputId": "8af2eead-4989-4536-aa18-6f7a653f9cb8"
   },
   "outputs": [
    {
     "data": {
      "text/html": [
       "<div>\n",
       "<style scoped>\n",
       "    .dataframe tbody tr th:only-of-type {\n",
       "        vertical-align: middle;\n",
       "    }\n",
       "\n",
       "    .dataframe tbody tr th {\n",
       "        vertical-align: top;\n",
       "    }\n",
       "\n",
       "    .dataframe thead th {\n",
       "        text-align: right;\n",
       "    }\n",
       "</style>\n",
       "<table border=\"1\" class=\"dataframe\">\n",
       "  <thead>\n",
       "    <tr style=\"text-align: right;\">\n",
       "      <th></th>\n",
       "      <th>product_info</th>\n",
       "      <th>Company_background</th>\n",
       "    </tr>\n",
       "  </thead>\n",
       "  <tbody>\n",
       "    <tr>\n",
       "      <th>20</th>\n",
       "      <td>The most common implementations of t...</td>\n",
       "      <td>Information technology (IT) is the u...</td>\n",
       "    </tr>\n",
       "    <tr>\n",
       "      <th>33</th>\n",
       "      <td>A state of computer \"security\" is th...</td>\n",
       "      <td>Based on the storage and processing ...</td>\n",
       "    </tr>\n",
       "    <tr>\n",
       "      <th>35</th>\n",
       "      <td>Operative planning: A good security ...</td>\n",
       "      <td>A security referent is the focus of ...</td>\n",
       "    </tr>\n",
       "    <tr>\n",
       "      <th>40</th>\n",
       "      <td>Two attacks have been demonstrated t...</td>\n",
       "      <td>We shall call it information techno...</td>\n",
       "    </tr>\n",
       "    <tr>\n",
       "      <th>41</th>\n",
       "      <td>These tensor cores are also supposed...</td>\n",
       "      <td>IMS stores data hierarchically, but...</td>\n",
       "    </tr>\n",
       "  </tbody>\n",
       "</table>\n",
       "</div>"
      ],
      "text/plain": [
       "                               product_info  \\\n",
       "20  The most common implementations of t...   \n",
       "33  A state of computer \"security\" is th...   \n",
       "35  Operative planning: A good security ...   \n",
       "40  Two attacks have been demonstrated t...   \n",
       "41  These tensor cores are also supposed...   \n",
       "\n",
       "                         Company_background  \n",
       "20  Information technology (IT) is the u...  \n",
       "33  Based on the storage and processing ...  \n",
       "35  A security referent is the focus of ...  \n",
       "40   We shall call it information techno...  \n",
       "41   IMS stores data hierarchically, but...  "
      ]
     },
     "execution_count": 20,
     "metadata": {
      "tags": []
     },
     "output_type": "execute_result"
    }
   ],
   "source": [
    "# Investigate if there is any key difference b/w Software and security type of products\n",
    "\n",
    "masterdata.loc[masterdata['Type'] == 'Software', ['product_info','Company_background']].head()"
   ]
  },
  {
   "cell_type": "code",
   "execution_count": null,
   "metadata": {
    "colab": {
     "base_uri": "https://localhost:8080/"
    },
    "id": "wzz5O4T9EXiJ",
    "outputId": "17e8407c-ebe5-4998-b5eb-0fb1caa052b0"
   },
   "outputs": [
    {
     "data": {
      "text/html": [
       "<div>\n",
       "<style scoped>\n",
       "    .dataframe tbody tr th:only-of-type {\n",
       "        vertical-align: middle;\n",
       "    }\n",
       "\n",
       "    .dataframe tbody tr th {\n",
       "        vertical-align: top;\n",
       "    }\n",
       "\n",
       "    .dataframe thead th {\n",
       "        text-align: right;\n",
       "    }\n",
       "</style>\n",
       "<table border=\"1\" class=\"dataframe\">\n",
       "  <thead>\n",
       "    <tr style=\"text-align: right;\">\n",
       "      <th></th>\n",
       "      <th>product_info</th>\n",
       "      <th>Company_background</th>\n",
       "    </tr>\n",
       "  </thead>\n",
       "  <tbody>\n",
       "    <tr>\n",
       "      <th>7</th>\n",
       "      <td>Essentially all modern computer oper...</td>\n",
       "      <td>They include, for example:Coercive ...</td>\n",
       "    </tr>\n",
       "    <tr>\n",
       "      <th>98</th>\n",
       "      <td>Lightpoint SecurityIn March 31, 2020...</td>\n",
       "      <td>.: security companies, security forc...</td>\n",
       "    </tr>\n",
       "    <tr>\n",
       "      <th>100</th>\n",
       "      <td>Reverse engineering is the process b...</td>\n",
       "      <td>They include, for example:Coercive ...</td>\n",
       "    </tr>\n",
       "    <tr>\n",
       "      <th>123</th>\n",
       "      <td>Surfacing in 2017, a new class of mu...</td>\n",
       "      <td>g.g.</td>\n",
       "    </tr>\n",
       "    <tr>\n",
       "      <th>132</th>\n",
       "      <td>They may have been added by an autho...</td>\n",
       "      <td>An early such system was IBM's Info...</td>\n",
       "    </tr>\n",
       "  </tbody>\n",
       "</table>\n",
       "</div>"
      ],
      "text/plain": [
       "                                product_info  \\\n",
       "7    Essentially all modern computer oper...   \n",
       "98   Lightpoint SecurityIn March 31, 2020...   \n",
       "100  Reverse engineering is the process b...   \n",
       "123  Surfacing in 2017, a new class of mu...   \n",
       "132  They may have been added by an autho...   \n",
       "\n",
       "                          Company_background  \n",
       "7     They include, for example:Coercive ...  \n",
       "98   .: security companies, security forc...  \n",
       "100   They include, for example:Coercive ...  \n",
       "123                                     g.g.  \n",
       "132   An early such system was IBM's Info...  "
      ]
     },
     "execution_count": 21,
     "metadata": {
      "tags": []
     },
     "output_type": "execute_result"
    }
   ],
   "source": [
    "masterdata.loc[masterdata['Type'] == 'Security', ['product_info','Company_background']].head()"
   ]
  },
  {
   "cell_type": "code",
   "execution_count": null,
   "metadata": {
    "colab": {
     "base_uri": "https://localhost:8080/"
    },
    "id": "Ef3ax7edEOym",
    "outputId": "0c309e03-338a-42a5-a215-cd0cba2886e7"
   },
   "outputs": [
    {
     "data": {
      "text/plain": [
       "array(['ID', 'product_info', 'Symbol', 'Start_date', 'market_cap',\n",
       "       'Sector', 'Country', 'CEO', 'No.of employee', 'Revenue (Cr)',\n",
       "       'Net-valuation (Cr)', 'Share_price (RS)', 'Company_background',\n",
       "       'Type', 'Product', 'industry'], dtype=object)"
      ]
     },
     "execution_count": 22,
     "metadata": {
      "tags": []
     },
     "output_type": "execute_result"
    }
   ],
   "source": [
    "masterdata.columns.values"
   ]
  },
  {
   "cell_type": "code",
   "execution_count": null,
   "metadata": {
    "colab": {
     "base_uri": "https://localhost:8080/"
    },
    "id": "nEEBuS-CE14G",
    "outputId": "2c5fb3cb-d000-4d4f-898b-de665097f8e6"
   },
   "outputs": [
    {
     "data": {
      "text/html": [
       "<div>\n",
       "<style scoped>\n",
       "    .dataframe tbody tr th:only-of-type {\n",
       "        vertical-align: middle;\n",
       "    }\n",
       "\n",
       "    .dataframe tbody tr th {\n",
       "        vertical-align: top;\n",
       "    }\n",
       "\n",
       "    .dataframe thead th {\n",
       "        text-align: right;\n",
       "    }\n",
       "</style>\n",
       "<table border=\"1\" class=\"dataframe\">\n",
       "  <thead>\n",
       "    <tr style=\"text-align: right;\">\n",
       "      <th></th>\n",
       "      <th>ID</th>\n",
       "      <th>product_info</th>\n",
       "      <th>Symbol</th>\n",
       "      <th>Start_date</th>\n",
       "      <th>market_cap</th>\n",
       "      <th>Sector</th>\n",
       "      <th>Country</th>\n",
       "      <th>CEO</th>\n",
       "      <th>No.of employee</th>\n",
       "      <th>Revenue (Cr)</th>\n",
       "      <th>Net-valuation (Cr)</th>\n",
       "      <th>Share_price (RS)</th>\n",
       "      <th>Company_background</th>\n",
       "      <th>Type</th>\n",
       "      <th>Product</th>\n",
       "      <th>industry</th>\n",
       "    </tr>\n",
       "  </thead>\n",
       "  <tbody>\n",
       "    <tr>\n",
       "      <th>0</th>\n",
       "      <td>PROJ0x33d9</td>\n",
       "      <td>The head is the energy per unit weig...</td>\n",
       "      <td>NaN</td>\n",
       "      <td>1996-08-01</td>\n",
       "      <td>?</td>\n",
       "      <td>?</td>\n",
       "      <td>NaN</td>\n",
       "      <td>Winifred Bilbro</td>\n",
       "      <td>NaN</td>\n",
       "      <td>10.485346633880084</td>\n",
       "      <td>-8615.138583</td>\n",
       "      <td>NaN</td>\n",
       "      <td>Biofuels are often produced from co...</td>\n",
       "      <td>green energy</td>\n",
       "      <td>Hydro</td>\n",
       "      <td>Power Industry</td>\n",
       "    </tr>\n",
       "    <tr>\n",
       "      <th>1</th>\n",
       "      <td>PROJ0x4ec9</td>\n",
       "      <td>75 lakh and INR 7.Australia has comp...</td>\n",
       "      <td>UST</td>\n",
       "      <td>1958-10-01</td>\n",
       "      <td>large-cap</td>\n",
       "      <td>Private_sector</td>\n",
       "      <td>NaN</td>\n",
       "      <td>Ruby Burnett</td>\n",
       "      <td>NaN</td>\n",
       "      <td>36.33430253875794</td>\n",
       "      <td>-10070.993139</td>\n",
       "      <td>-596.720031</td>\n",
       "      <td>Power study, emerging markets accou...</td>\n",
       "      <td>Light Vehicles</td>\n",
       "      <td>Truck</td>\n",
       "      <td>Automobile Industry</td>\n",
       "    </tr>\n",
       "    <tr>\n",
       "      <th>2</th>\n",
       "      <td>PROJ0x2caf</td>\n",
       "      <td>In November 2009, Intel agreed to pa...</td>\n",
       "      <td>EYG</td>\n",
       "      <td>1978-02-01</td>\n",
       "      <td>mid-cap</td>\n",
       "      <td>?</td>\n",
       "      <td>NaN</td>\n",
       "      <td>?</td>\n",
       "      <td>NaN</td>\n",
       "      <td>?</td>\n",
       "      <td>706.692488</td>\n",
       "      <td>-717.092361</td>\n",
       "      <td>Information services Information se...</td>\n",
       "      <td>Hardware</td>\n",
       "      <td>Gaming hardware</td>\n",
       "      <td>Computer Industry</td>\n",
       "    </tr>\n",
       "    <tr>\n",
       "      <th>3</th>\n",
       "      <td>PROJ0x126f</td>\n",
       "      <td>\" The European Academies' Science Ad...</td>\n",
       "      <td>MHRX</td>\n",
       "      <td>NaT</td>\n",
       "      <td>small-cap</td>\n",
       "      <td>?</td>\n",
       "      <td>NaN</td>\n",
       "      <td>?</td>\n",
       "      <td>NaN</td>\n",
       "      <td>4.892108834896404</td>\n",
       "      <td>489.210883</td>\n",
       "      <td>435.800000</td>\n",
       "      <td>The healthcare industry (also called...</td>\n",
       "      <td>Pharma</td>\n",
       "      <td>homeopathic</td>\n",
       "      <td>Health Industry</td>\n",
       "    </tr>\n",
       "    <tr>\n",
       "      <th>4</th>\n",
       "      <td>PROJ0x1b8c</td>\n",
       "      <td>Early deaths due to air pollution ha...</td>\n",
       "      <td>NaN</td>\n",
       "      <td>NaT</td>\n",
       "      <td>small-cap</td>\n",
       "      <td>?</td>\n",
       "      <td>Nepal</td>\n",
       "      <td>?</td>\n",
       "      <td>4869.0</td>\n",
       "      <td>-999.0</td>\n",
       "      <td>-26251.090822</td>\n",
       "      <td>341.200000</td>\n",
       "      <td>Other certificate systems that conf...</td>\n",
       "      <td>non green energy</td>\n",
       "      <td>charcoal</td>\n",
       "      <td>Power Industry</td>\n",
       "    </tr>\n",
       "  </tbody>\n",
       "</table>\n",
       "</div>"
      ],
      "text/plain": [
       "           ID                             product_info Symbol Start_date  \\\n",
       "0  PROJ0x33d9  The head is the energy per unit weig...    NaN 1996-08-01   \n",
       "1  PROJ0x4ec9  75 lakh and INR 7.Australia has comp...    UST 1958-10-01   \n",
       "2  PROJ0x2caf  In November 2009, Intel agreed to pa...    EYG 1978-02-01   \n",
       "3  PROJ0x126f  \" The European Academies' Science Ad...   MHRX        NaT   \n",
       "4  PROJ0x1b8c  Early deaths due to air pollution ha...    NaN        NaT   \n",
       "\n",
       "  market_cap          Sector Country              CEO  No.of employee  \\\n",
       "0          ?               ?     NaN  Winifred Bilbro             NaN   \n",
       "1  large-cap  Private_sector     NaN     Ruby Burnett             NaN   \n",
       "2    mid-cap               ?     NaN                ?             NaN   \n",
       "3  small-cap               ?     NaN                ?             NaN   \n",
       "4  small-cap               ?   Nepal                ?          4869.0   \n",
       "\n",
       "         Revenue (Cr)  Net-valuation (Cr)  Share_price (RS)  \\\n",
       "0  10.485346633880084        -8615.138583               NaN   \n",
       "1   36.33430253875794       -10070.993139       -596.720031   \n",
       "2                   ?          706.692488       -717.092361   \n",
       "3   4.892108834896404          489.210883        435.800000   \n",
       "4              -999.0       -26251.090822        341.200000   \n",
       "\n",
       "                        Company_background              Type          Product  \\\n",
       "0   Biofuels are often produced from co...      green energy            Hydro   \n",
       "1   Power study, emerging markets accou...    Light Vehicles            Truck   \n",
       "2   Information services Information se...          Hardware  Gaming hardware   \n",
       "3  The healthcare industry (also called...            Pharma      homeopathic   \n",
       "4   Other certificate systems that conf...  non green energy         charcoal   \n",
       "\n",
       "              industry  \n",
       "0       Power Industry  \n",
       "1  Automobile Industry  \n",
       "2    Computer Industry  \n",
       "3      Health Industry  \n",
       "4       Power Industry  "
      ]
     },
     "execution_count": 23,
     "metadata": {
      "tags": []
     },
     "output_type": "execute_result"
    }
   ],
   "source": [
    "masterdata.head()\n"
   ]
  },
  {
   "cell_type": "markdown",
   "metadata": {
    "id": "VKBVsgnyFlJt"
   },
   "source": [
    "### Identify  and drop columns which lot of missing data\n",
    "\n",
    "We will drop any column with >5% missing data"
   ]
  },
  {
   "cell_type": "code",
   "execution_count": null,
   "metadata": {
    "colab": {
     "base_uri": "https://localhost:8080/"
    },
    "id": "To2R1CW2FpnN",
    "outputId": "9babb9fd-4876-4802-f2c2-b0f6dc22af28"
   },
   "outputs": [
    {
     "data": {
      "text/html": [
       "<div>\n",
       "<style scoped>\n",
       "    .dataframe tbody tr th:only-of-type {\n",
       "        vertical-align: middle;\n",
       "    }\n",
       "\n",
       "    .dataframe tbody tr th {\n",
       "        vertical-align: top;\n",
       "    }\n",
       "\n",
       "    .dataframe thead th {\n",
       "        text-align: right;\n",
       "    }\n",
       "</style>\n",
       "<table border=\"1\" class=\"dataframe\">\n",
       "  <thead>\n",
       "    <tr style=\"text-align: right;\">\n",
       "      <th></th>\n",
       "      <th>Column name</th>\n",
       "      <th>% missing</th>\n",
       "    </tr>\n",
       "  </thead>\n",
       "  <tbody>\n",
       "    <tr>\n",
       "      <th>6</th>\n",
       "      <td>Country</td>\n",
       "      <td>84.896901</td>\n",
       "    </tr>\n",
       "    <tr>\n",
       "      <th>2</th>\n",
       "      <td>Symbol</td>\n",
       "      <td>72.621189</td>\n",
       "    </tr>\n",
       "    <tr>\n",
       "      <th>3</th>\n",
       "      <td>Start_date</td>\n",
       "      <td>63.143586</td>\n",
       "    </tr>\n",
       "    <tr>\n",
       "      <th>8</th>\n",
       "      <td>No.of employee</td>\n",
       "      <td>59.994144</td>\n",
       "    </tr>\n",
       "    <tr>\n",
       "      <th>10</th>\n",
       "      <td>Net-valuation (Cr)</td>\n",
       "      <td>33.514576</td>\n",
       "    </tr>\n",
       "    <tr>\n",
       "      <th>11</th>\n",
       "      <td>Share_price (RS)</td>\n",
       "      <td>18.570413</td>\n",
       "    </tr>\n",
       "    <tr>\n",
       "      <th>5</th>\n",
       "      <td>Sector</td>\n",
       "      <td>12.238069</td>\n",
       "    </tr>\n",
       "    <tr>\n",
       "      <th>12</th>\n",
       "      <td>Company_background</td>\n",
       "      <td>0.351332</td>\n",
       "    </tr>\n",
       "    <tr>\n",
       "      <th>13</th>\n",
       "      <td>Type</td>\n",
       "      <td>0.313689</td>\n",
       "    </tr>\n",
       "    <tr>\n",
       "      <th>9</th>\n",
       "      <td>Revenue (Cr)</td>\n",
       "      <td>0.192396</td>\n",
       "    </tr>\n",
       "    <tr>\n",
       "      <th>4</th>\n",
       "      <td>market_cap</td>\n",
       "      <td>0.154753</td>\n",
       "    </tr>\n",
       "    <tr>\n",
       "      <th>7</th>\n",
       "      <td>CEO</td>\n",
       "      <td>0.112928</td>\n",
       "    </tr>\n",
       "    <tr>\n",
       "      <th>0</th>\n",
       "      <td>ID</td>\n",
       "      <td>0.000000</td>\n",
       "    </tr>\n",
       "    <tr>\n",
       "      <th>1</th>\n",
       "      <td>product_info</td>\n",
       "      <td>0.000000</td>\n",
       "    </tr>\n",
       "    <tr>\n",
       "      <th>14</th>\n",
       "      <td>Product</td>\n",
       "      <td>0.000000</td>\n",
       "    </tr>\n",
       "    <tr>\n",
       "      <th>15</th>\n",
       "      <td>industry</td>\n",
       "      <td>0.000000</td>\n",
       "    </tr>\n",
       "  </tbody>\n",
       "</table>\n",
       "</div>"
      ],
      "text/plain": [
       "           Column name  % missing\n",
       "6              Country  84.896901\n",
       "2               Symbol  72.621189\n",
       "3           Start_date  63.143586\n",
       "8       No.of employee  59.994144\n",
       "10  Net-valuation (Cr)  33.514576\n",
       "11    Share_price (RS)  18.570413\n",
       "5               Sector  12.238069\n",
       "12  Company_background   0.351332\n",
       "13                Type   0.313689\n",
       "9         Revenue (Cr)   0.192396\n",
       "4           market_cap   0.154753\n",
       "7                  CEO   0.112928\n",
       "0                   ID   0.000000\n",
       "1         product_info   0.000000\n",
       "14             Product   0.000000\n",
       "15            industry   0.000000"
      ]
     },
     "execution_count": 24,
     "metadata": {
      "tags": []
     },
     "output_type": "execute_result"
    }
   ],
   "source": [
    "#Training data\n",
    "proportions = []\n",
    "for col in masterdata.columns.values:\n",
    "  entries = 23909\n",
    "  proportions.append(masterdata[col].isnull().sum()*100/entries)\n",
    "\n",
    "missing_table = pd.DataFrame(masterdata.columns.values, columns = ['Column name'])\n",
    "missing_table['% missing'] = proportions\n",
    "missing_table.sort_values(by = ['% missing'],ascending = False)"
   ]
  },
  {
   "cell_type": "code",
   "execution_count": null,
   "metadata": {
    "colab": {
     "base_uri": "https://localhost:8080/"
    },
    "id": "QrGMcDNfyXHu",
    "outputId": "3098770e-a92b-4a54-d3fd-d75b2a8b773f"
   },
   "outputs": [
    {
     "data": {
      "text/html": [
       "<div>\n",
       "<style scoped>\n",
       "    .dataframe tbody tr th:only-of-type {\n",
       "        vertical-align: middle;\n",
       "    }\n",
       "\n",
       "    .dataframe tbody tr th {\n",
       "        vertical-align: top;\n",
       "    }\n",
       "\n",
       "    .dataframe thead th {\n",
       "        text-align: right;\n",
       "    }\n",
       "</style>\n",
       "<table border=\"1\" class=\"dataframe\">\n",
       "  <thead>\n",
       "    <tr style=\"text-align: right;\">\n",
       "      <th></th>\n",
       "      <th>Column name</th>\n",
       "      <th>% missing</th>\n",
       "    </tr>\n",
       "  </thead>\n",
       "  <tbody>\n",
       "    <tr>\n",
       "      <th>5</th>\n",
       "      <td>Country</td>\n",
       "      <td>85.582127</td>\n",
       "    </tr>\n",
       "    <tr>\n",
       "      <th>1</th>\n",
       "      <td>Symbol</td>\n",
       "      <td>72.850850</td>\n",
       "    </tr>\n",
       "    <tr>\n",
       "      <th>2</th>\n",
       "      <td>Start_date</td>\n",
       "      <td>63.071114</td>\n",
       "    </tr>\n",
       "    <tr>\n",
       "      <th>7</th>\n",
       "      <td>No.of employee</td>\n",
       "      <td>60.459408</td>\n",
       "    </tr>\n",
       "    <tr>\n",
       "      <th>9</th>\n",
       "      <td>Net-valuation (Cr)</td>\n",
       "      <td>32.511013</td>\n",
       "    </tr>\n",
       "    <tr>\n",
       "      <th>10</th>\n",
       "      <td>Share_price (RS)</td>\n",
       "      <td>18.206419</td>\n",
       "    </tr>\n",
       "    <tr>\n",
       "      <th>4</th>\n",
       "      <td>Sector</td>\n",
       "      <td>12.448081</td>\n",
       "    </tr>\n",
       "    <tr>\n",
       "      <th>11</th>\n",
       "      <td>Company_background</td>\n",
       "      <td>0.308370</td>\n",
       "    </tr>\n",
       "    <tr>\n",
       "      <th>8</th>\n",
       "      <td>Revenue (Cr)</td>\n",
       "      <td>0.195091</td>\n",
       "    </tr>\n",
       "    <tr>\n",
       "      <th>3</th>\n",
       "      <td>market_cap</td>\n",
       "      <td>0.144745</td>\n",
       "    </tr>\n",
       "    <tr>\n",
       "      <th>6</th>\n",
       "      <td>CEO</td>\n",
       "      <td>0.125865</td>\n",
       "    </tr>\n",
       "    <tr>\n",
       "      <th>0</th>\n",
       "      <td>ID</td>\n",
       "      <td>0.000000</td>\n",
       "    </tr>\n",
       "    <tr>\n",
       "      <th>12</th>\n",
       "      <td>product_info</td>\n",
       "      <td>0.000000</td>\n",
       "    </tr>\n",
       "  </tbody>\n",
       "</table>\n",
       "</div>"
      ],
      "text/plain": [
       "           Column name  % missing\n",
       "5              Country  85.582127\n",
       "1               Symbol  72.850850\n",
       "2           Start_date  63.071114\n",
       "7       No.of employee  60.459408\n",
       "9   Net-valuation (Cr)  32.511013\n",
       "10    Share_price (RS)  18.206419\n",
       "4               Sector  12.448081\n",
       "11  Company_background   0.308370\n",
       "8         Revenue (Cr)   0.195091\n",
       "3           market_cap   0.144745\n",
       "6                  CEO   0.125865\n",
       "0                   ID   0.000000\n",
       "12        product_info   0.000000"
      ]
     },
     "execution_count": 25,
     "metadata": {
      "tags": []
     },
     "output_type": "execute_result"
    }
   ],
   "source": [
    "# Test dataset\n",
    "proportions = []\n",
    "for col in test_data.columns.values:\n",
    "  entries = 15890 \n",
    "  proportions.append(test_data[col].isnull().sum()*100/entries)\n",
    "\n",
    "missing_table = pd.DataFrame(test_data.columns.values, columns = ['Column name'])\n",
    "missing_table['% missing'] = proportions\n",
    "missing_table.sort_values(by = ['% missing'],ascending = False)"
   ]
  },
  {
   "cell_type": "code",
   "execution_count": null,
   "metadata": {
    "colab": {
     "base_uri": "https://localhost:8080/"
    },
    "id": "BBzOcySFHjOx",
    "outputId": "b7133c30-dd63-4874-ca73-143a7b67e1f1"
   },
   "outputs": [
    {
     "name": "stdout",
     "output_type": "stream",
     "text": [
      "Dropped columns : Symbol, Start_date, Sector, Country, No.of employee, Net-valuation (Cr), Share_price (RS)\n"
     ]
    }
   ],
   "source": [
    "drop_columns = missing_table.loc[missing_table['% missing'] >=5, ['Column name']]\n",
    "drop_columns = drop_columns['Column name'].values.tolist()\n",
    "\n",
    "masterdata = masterdata.drop(columns = drop_columns)\n",
    "test_data = test_data.drop(columns = drop_columns)\n",
    "\n",
    "print(\"Dropped columns : \"+ \", \".join(drop_columns))"
   ]
  },
  {
   "cell_type": "markdown",
   "metadata": {
    "id": "fXz37dYQwraH"
   },
   "source": [
    "### Replace missing product/company info rows with blank string"
   ]
  },
  {
   "cell_type": "code",
   "execution_count": null,
   "metadata": {
    "colab": {
     "base_uri": "https://localhost:8080/"
    },
    "id": "DcSYBy11wxjH",
    "outputId": "983ee6f0-8dd2-4b3c-9658-fcb5e46d1bee"
   },
   "outputs": [
    {
     "data": {
      "text/html": [
       "<div>\n",
       "<style scoped>\n",
       "    .dataframe tbody tr th:only-of-type {\n",
       "        vertical-align: middle;\n",
       "    }\n",
       "\n",
       "    .dataframe tbody tr th {\n",
       "        vertical-align: top;\n",
       "    }\n",
       "\n",
       "    .dataframe thead th {\n",
       "        text-align: right;\n",
       "    }\n",
       "</style>\n",
       "<table border=\"1\" class=\"dataframe\">\n",
       "  <thead>\n",
       "    <tr style=\"text-align: right;\">\n",
       "      <th></th>\n",
       "      <th>ID</th>\n",
       "      <th>market_cap</th>\n",
       "      <th>CEO</th>\n",
       "      <th>Revenue (Cr)</th>\n",
       "      <th>Company_background</th>\n",
       "      <th>product_info</th>\n",
       "    </tr>\n",
       "  </thead>\n",
       "  <tbody>\n",
       "    <tr>\n",
       "      <th>0</th>\n",
       "      <td>PROJ0x51fa</td>\n",
       "      <td>?</td>\n",
       "      <td>Vicenta Bronstein</td>\n",
       "      <td>0.6836318142997198</td>\n",
       "      <td>The food processing industry is one ...</td>\n",
       "      <td>ISBN 978-0-9758252-0-4. ISBN 978-0-1...</td>\n",
       "    </tr>\n",
       "    <tr>\n",
       "      <th>1</th>\n",
       "      <td>PROJ0x3c88</td>\n",
       "      <td>large-cap</td>\n",
       "      <td>Nelson Bodkin</td>\n",
       "      <td>?</td>\n",
       "      <td>Well-designed government policies th...</td>\n",
       "      <td>Wind energy penetration is the fract...</td>\n",
       "    </tr>\n",
       "    <tr>\n",
       "      <th>2</th>\n",
       "      <td>PROJ0x3e72</td>\n",
       "      <td>mid-cap</td>\n",
       "      <td>?</td>\n",
       "      <td>2.519536393657552</td>\n",
       "      <td>Information services Information se...</td>\n",
       "      <td>it is another good example of Artifi...</td>\n",
       "    </tr>\n",
       "    <tr>\n",
       "      <th>3</th>\n",
       "      <td>PROJ0x1129</td>\n",
       "      <td>small-cap</td>\n",
       "      <td>?</td>\n",
       "      <td>-999.0</td>\n",
       "      <td>Not available</td>\n",
       "      <td>The following setup is configured in...</td>\n",
       "    </tr>\n",
       "    <tr>\n",
       "      <th>4</th>\n",
       "      <td>PROJ0x9029</td>\n",
       "      <td>small-cap</td>\n",
       "      <td>?</td>\n",
       "      <td>?</td>\n",
       "      <td>In 2007, there were about 806 millio...</td>\n",
       "      <td>New vehicles will be issued a virtua...</td>\n",
       "    </tr>\n",
       "    <tr>\n",
       "      <th>...</th>\n",
       "      <td>...</td>\n",
       "      <td>...</td>\n",
       "      <td>...</td>\n",
       "      <td>...</td>\n",
       "      <td>...</td>\n",
       "      <td>...</td>\n",
       "    </tr>\n",
       "    <tr>\n",
       "      <th>15885</th>\n",
       "      <td>PROJ0x27fb</td>\n",
       "      <td>?</td>\n",
       "      <td>?</td>\n",
       "      <td>55.683071526158216</td>\n",
       "      <td>Some of the ethical issues associat...</td>\n",
       "      <td>Today, parallel GPUs have begun maki...</td>\n",
       "    </tr>\n",
       "    <tr>\n",
       "      <th>15886</th>\n",
       "      <td>PROJ0x3261</td>\n",
       "      <td>?</td>\n",
       "      <td>?</td>\n",
       "      <td>?</td>\n",
       "      <td>Tata Motors and Marcopolo have a joi...</td>\n",
       "      <td>In-service examples are still in use...</td>\n",
       "    </tr>\n",
       "    <tr>\n",
       "      <th>15887</th>\n",
       "      <td>PROJ0x3aff</td>\n",
       "      <td>large-cap</td>\n",
       "      <td>Julia Witzke</td>\n",
       "      <td>?</td>\n",
       "      <td>Since it is not possible to know wit...</td>\n",
       "      <td>One use of the term \"computer securi...</td>\n",
       "    </tr>\n",
       "    <tr>\n",
       "      <th>15888</th>\n",
       "      <td>PROJ0x1082</td>\n",
       "      <td>?</td>\n",
       "      <td>?</td>\n",
       "      <td>3.1675119878714577</td>\n",
       "      <td>Cooking with polluting fuels causes ...</td>\n",
       "      <td>The price of wind power is therefore...</td>\n",
       "    </tr>\n",
       "    <tr>\n",
       "      <th>15889</th>\n",
       "      <td>PROJ0x7cf7</td>\n",
       "      <td>large-cap</td>\n",
       "      <td>?</td>\n",
       "      <td>-999.0</td>\n",
       "      <td>Costs are projected to increase to ...</td>\n",
       "      <td>Hahnemann used this term to distingu...</td>\n",
       "    </tr>\n",
       "  </tbody>\n",
       "</table>\n",
       "<p>15890 rows × 6 columns</p>\n",
       "</div>"
      ],
      "text/plain": [
       "               ID market_cap                CEO        Revenue (Cr)  \\\n",
       "0      PROJ0x51fa          ?  Vicenta Bronstein  0.6836318142997198   \n",
       "1      PROJ0x3c88  large-cap      Nelson Bodkin                   ?   \n",
       "2      PROJ0x3e72    mid-cap                  ?   2.519536393657552   \n",
       "3      PROJ0x1129  small-cap                  ?              -999.0   \n",
       "4      PROJ0x9029  small-cap                  ?                   ?   \n",
       "...           ...        ...                ...                 ...   \n",
       "15885  PROJ0x27fb          ?                  ?  55.683071526158216   \n",
       "15886  PROJ0x3261          ?                  ?                   ?   \n",
       "15887  PROJ0x3aff  large-cap       Julia Witzke                   ?   \n",
       "15888  PROJ0x1082          ?                  ?  3.1675119878714577   \n",
       "15889  PROJ0x7cf7  large-cap                  ?              -999.0   \n",
       "\n",
       "                            Company_background  \\\n",
       "0      The food processing industry is one ...   \n",
       "1      Well-designed government policies th...   \n",
       "2       Information services Information se...   \n",
       "3                                Not available   \n",
       "4      In 2007, there were about 806 millio...   \n",
       "...                                        ...   \n",
       "15885   Some of the ethical issues associat...   \n",
       "15886  Tata Motors and Marcopolo have a joi...   \n",
       "15887  Since it is not possible to know wit...   \n",
       "15888  Cooking with polluting fuels causes ...   \n",
       "15889   Costs are projected to increase to ...   \n",
       "\n",
       "                                  product_info  \n",
       "0      ISBN 978-0-9758252-0-4. ISBN 978-0-1...  \n",
       "1      Wind energy penetration is the fract...  \n",
       "2      it is another good example of Artifi...  \n",
       "3      The following setup is configured in...  \n",
       "4      New vehicles will be issued a virtua...  \n",
       "...                                        ...  \n",
       "15885  Today, parallel GPUs have begun maki...  \n",
       "15886  In-service examples are still in use...  \n",
       "15887  One use of the term \"computer securi...  \n",
       "15888  The price of wind power is therefore...  \n",
       "15889  Hahnemann used this term to distingu...  \n",
       "\n",
       "[15890 rows x 6 columns]"
      ]
     },
     "execution_count": 27,
     "metadata": {
      "tags": []
     },
     "output_type": "execute_result"
    }
   ],
   "source": [
    "masterdata['Company_background'] = masterdata['Company_background'].fillna(\"\")\n",
    "masterdata['product_info'] = masterdata['product_info'].fillna(\"\")\n",
    "\n",
    "test_data['Company_background'] = test_data['Company_background'].fillna(\"\")\n",
    "test_data['product_info'] = test_data['product_info'].fillna(\"\")\n",
    "\n",
    "test_data"
   ]
  },
  {
   "cell_type": "code",
   "execution_count": null,
   "metadata": {
    "colab": {
     "base_uri": "https://localhost:8080/"
    },
    "id": "ghVwuYteyTvb",
    "outputId": "2bd5f0f0-e0c5-42a9-8e4f-d312a809399e"
   },
   "outputs": [
    {
     "name": "stdout",
     "output_type": "stream",
     "text": [
      "<class 'pandas.core.frame.DataFrame'>\n",
      "Int64Index: 23908 entries, 0 to 23907\n",
      "Data columns (total 9 columns):\n",
      " #   Column              Non-Null Count  Dtype \n",
      "---  ------              --------------  ----- \n",
      " 0   ID                  23908 non-null  object\n",
      " 1   product_info        23908 non-null  object\n",
      " 2   market_cap          23871 non-null  object\n",
      " 3   CEO                 23881 non-null  object\n",
      " 4   Revenue (Cr)        23862 non-null  object\n",
      " 5   Company_background  23908 non-null  object\n",
      " 6   Type                23833 non-null  object\n",
      " 7   Product             23908 non-null  object\n",
      " 8   industry            23908 non-null  object\n",
      "dtypes: object(9)\n",
      "memory usage: 1.8+ MB\n",
      "<class 'pandas.core.frame.DataFrame'>\n",
      "Int64Index: 15890 entries, 0 to 15889\n",
      "Data columns (total 6 columns):\n",
      " #   Column              Non-Null Count  Dtype \n",
      "---  ------              --------------  ----- \n",
      " 0   ID                  15890 non-null  object\n",
      " 1   market_cap          15867 non-null  object\n",
      " 2   CEO                 15870 non-null  object\n",
      " 3   Revenue (Cr)        15859 non-null  object\n",
      " 4   Company_background  15890 non-null  object\n",
      " 5   product_info        15890 non-null  object\n",
      "dtypes: object(6)\n",
      "memory usage: 869.0+ KB\n"
     ]
    }
   ],
   "source": [
    "masterdata.info(null_counts = True)\n",
    "test_data.info(null_counts = True)"
   ]
  },
  {
   "cell_type": "markdown",
   "metadata": {
    "id": "GyjNtJzDyfgr"
   },
   "source": [
    "### Few entries have product type missing\n",
    "\n",
    "We will impute the missing ones by picking the most frequent type affilated to the said product-industry combination\n"
   ]
  },
  {
   "cell_type": "code",
   "execution_count": null,
   "metadata": {
    "colab": {
     "base_uri": "https://localhost:8080/"
    },
    "id": "Or1P50xZyjs-",
    "outputId": "3bf00f3d-b4b4-436d-cf1c-4475b272a14c"
   },
   "outputs": [
    {
     "data": {
      "text/html": [
       "<div>\n",
       "<style scoped>\n",
       "    .dataframe tbody tr th:only-of-type {\n",
       "        vertical-align: middle;\n",
       "    }\n",
       "\n",
       "    .dataframe tbody tr th {\n",
       "        vertical-align: top;\n",
       "    }\n",
       "\n",
       "    .dataframe thead th {\n",
       "        text-align: right;\n",
       "    }\n",
       "</style>\n",
       "<table border=\"1\" class=\"dataframe\">\n",
       "  <thead>\n",
       "    <tr style=\"text-align: right;\">\n",
       "      <th></th>\n",
       "      <th>ID</th>\n",
       "      <th>product_info</th>\n",
       "      <th>market_cap</th>\n",
       "      <th>CEO</th>\n",
       "      <th>Revenue (Cr)</th>\n",
       "      <th>Company_background</th>\n",
       "      <th>Type</th>\n",
       "      <th>Product</th>\n",
       "      <th>industry</th>\n",
       "    </tr>\n",
       "  </thead>\n",
       "  <tbody>\n",
       "    <tr>\n",
       "      <th>0</th>\n",
       "      <td>PROJ0x33d9</td>\n",
       "      <td>The head is the energy per unit weig...</td>\n",
       "      <td>?</td>\n",
       "      <td>Winifred Bilbro</td>\n",
       "      <td>10.485346633880084</td>\n",
       "      <td>Biofuels are often produced from co...</td>\n",
       "      <td>green energy</td>\n",
       "      <td>Hydro</td>\n",
       "      <td>Power Industry</td>\n",
       "    </tr>\n",
       "    <tr>\n",
       "      <th>1</th>\n",
       "      <td>PROJ0x4ec9</td>\n",
       "      <td>75 lakh and INR 7.Australia has comp...</td>\n",
       "      <td>large-cap</td>\n",
       "      <td>Ruby Burnett</td>\n",
       "      <td>36.33430253875794</td>\n",
       "      <td>Power study, emerging markets accou...</td>\n",
       "      <td>Light Vehicles</td>\n",
       "      <td>Truck</td>\n",
       "      <td>Automobile Industry</td>\n",
       "    </tr>\n",
       "    <tr>\n",
       "      <th>2</th>\n",
       "      <td>PROJ0x2caf</td>\n",
       "      <td>In November 2009, Intel agreed to pa...</td>\n",
       "      <td>mid-cap</td>\n",
       "      <td>?</td>\n",
       "      <td>?</td>\n",
       "      <td>Information services Information se...</td>\n",
       "      <td>Hardware</td>\n",
       "      <td>Gaming hardware</td>\n",
       "      <td>Computer Industry</td>\n",
       "    </tr>\n",
       "    <tr>\n",
       "      <th>3</th>\n",
       "      <td>PROJ0x126f</td>\n",
       "      <td>\" The European Academies' Science Ad...</td>\n",
       "      <td>small-cap</td>\n",
       "      <td>?</td>\n",
       "      <td>4.892108834896404</td>\n",
       "      <td>The healthcare industry (also called...</td>\n",
       "      <td>Pharma</td>\n",
       "      <td>homeopathic</td>\n",
       "      <td>Health Industry</td>\n",
       "    </tr>\n",
       "    <tr>\n",
       "      <th>4</th>\n",
       "      <td>PROJ0x1b8c</td>\n",
       "      <td>Early deaths due to air pollution ha...</td>\n",
       "      <td>small-cap</td>\n",
       "      <td>?</td>\n",
       "      <td>-999.0</td>\n",
       "      <td>Other certificate systems that conf...</td>\n",
       "      <td>non green energy</td>\n",
       "      <td>charcoal</td>\n",
       "      <td>Power Industry</td>\n",
       "    </tr>\n",
       "    <tr>\n",
       "      <th>...</th>\n",
       "      <td>...</td>\n",
       "      <td>...</td>\n",
       "      <td>...</td>\n",
       "      <td>...</td>\n",
       "      <td>...</td>\n",
       "      <td>...</td>\n",
       "      <td>...</td>\n",
       "      <td>...</td>\n",
       "      <td>...</td>\n",
       "    </tr>\n",
       "    <tr>\n",
       "      <th>23903</th>\n",
       "      <td>PROJ0x558b</td>\n",
       "      <td>More recently, the oldest-known wood...</td>\n",
       "      <td>?</td>\n",
       "      <td>Mae Martini</td>\n",
       "      <td>22.856821291318393</td>\n",
       "      <td>(There is a push in some parts of t...</td>\n",
       "      <td>Software</td>\n",
       "      <td>IT</td>\n",
       "      <td>Computer Industry</td>\n",
       "    </tr>\n",
       "    <tr>\n",
       "      <th>23904</th>\n",
       "      <td>PROJ0x5e60</td>\n",
       "      <td>Simple race games involve pure luck....</td>\n",
       "      <td>?</td>\n",
       "      <td>?</td>\n",
       "      <td>7.258065023329103</td>\n",
       "      <td>Manufacturing, Engineering &amp; Techno...</td>\n",
       "      <td>Mechanical</td>\n",
       "      <td>Kids toys</td>\n",
       "      <td>Manufacturing Industry</td>\n",
       "    </tr>\n",
       "    <tr>\n",
       "      <th>23905</th>\n",
       "      <td>PROJ0x1c95</td>\n",
       "      <td>Lee, Newton (2015). Cybersecurity: A...</td>\n",
       "      <td>large-cap</td>\n",
       "      <td>Patricia Perez</td>\n",
       "      <td>18.932698399084593</td>\n",
       "      <td>g.In an academic context, the Associ...</td>\n",
       "      <td>Security</td>\n",
       "      <td>antivirus-security</td>\n",
       "      <td>Computer Industry</td>\n",
       "    </tr>\n",
       "    <tr>\n",
       "      <th>23906</th>\n",
       "      <td>PROJ0x7ff2</td>\n",
       "      <td>In recent years its support has accr...</td>\n",
       "      <td>small-cap</td>\n",
       "      <td>?</td>\n",
       "      <td>2.494547168784917</td>\n",
       "      <td>Dongfeng Motor holds a 12.5% stake, ...</td>\n",
       "      <td>Heavy Vehicles</td>\n",
       "      <td>JCP</td>\n",
       "      <td>Automobile Industry</td>\n",
       "    </tr>\n",
       "    <tr>\n",
       "      <th>23907</th>\n",
       "      <td>PROJ0x5658</td>\n",
       "      <td>The 86C911 spawned a host of imitato...</td>\n",
       "      <td>small-cap</td>\n",
       "      <td>William Miller</td>\n",
       "      <td>1.7007968301508458</td>\n",
       "      <td>Although XML data can be stored in ...</td>\n",
       "      <td>Production</td>\n",
       "      <td>Gaming hardware</td>\n",
       "      <td>Manufacturing Industry</td>\n",
       "    </tr>\n",
       "  </tbody>\n",
       "</table>\n",
       "<p>23908 rows × 9 columns</p>\n",
       "</div>"
      ],
      "text/plain": [
       "               ID                             product_info market_cap  \\\n",
       "0      PROJ0x33d9  The head is the energy per unit weig...          ?   \n",
       "1      PROJ0x4ec9  75 lakh and INR 7.Australia has comp...  large-cap   \n",
       "2      PROJ0x2caf  In November 2009, Intel agreed to pa...    mid-cap   \n",
       "3      PROJ0x126f  \" The European Academies' Science Ad...  small-cap   \n",
       "4      PROJ0x1b8c  Early deaths due to air pollution ha...  small-cap   \n",
       "...           ...                                      ...        ...   \n",
       "23903  PROJ0x558b  More recently, the oldest-known wood...          ?   \n",
       "23904  PROJ0x5e60  Simple race games involve pure luck....          ?   \n",
       "23905  PROJ0x1c95  Lee, Newton (2015). Cybersecurity: A...  large-cap   \n",
       "23906  PROJ0x7ff2  In recent years its support has accr...  small-cap   \n",
       "23907  PROJ0x5658  The 86C911 spawned a host of imitato...  small-cap   \n",
       "\n",
       "                   CEO        Revenue (Cr)  \\\n",
       "0      Winifred Bilbro  10.485346633880084   \n",
       "1         Ruby Burnett   36.33430253875794   \n",
       "2                    ?                   ?   \n",
       "3                    ?   4.892108834896404   \n",
       "4                    ?              -999.0   \n",
       "...                ...                 ...   \n",
       "23903      Mae Martini  22.856821291318393   \n",
       "23904                ?   7.258065023329103   \n",
       "23905   Patricia Perez  18.932698399084593   \n",
       "23906                ?   2.494547168784917   \n",
       "23907   William Miller  1.7007968301508458   \n",
       "\n",
       "                            Company_background              Type  \\\n",
       "0       Biofuels are often produced from co...      green energy   \n",
       "1       Power study, emerging markets accou...    Light Vehicles   \n",
       "2       Information services Information se...          Hardware   \n",
       "3      The healthcare industry (also called...            Pharma   \n",
       "4       Other certificate systems that conf...  non green energy   \n",
       "...                                        ...               ...   \n",
       "23903   (There is a push in some parts of t...          Software   \n",
       "23904   Manufacturing, Engineering & Techno...        Mechanical   \n",
       "23905  g.In an academic context, the Associ...          Security   \n",
       "23906  Dongfeng Motor holds a 12.5% stake, ...    Heavy Vehicles   \n",
       "23907   Although XML data can be stored in ...        Production   \n",
       "\n",
       "                  Product                industry  \n",
       "0                   Hydro          Power Industry  \n",
       "1                   Truck     Automobile Industry  \n",
       "2         Gaming hardware       Computer Industry  \n",
       "3             homeopathic         Health Industry  \n",
       "4                charcoal          Power Industry  \n",
       "...                   ...                     ...  \n",
       "23903                  IT       Computer Industry  \n",
       "23904           Kids toys  Manufacturing Industry  \n",
       "23905  antivirus-security       Computer Industry  \n",
       "23906                 JCP     Automobile Industry  \n",
       "23907     Gaming hardware  Manufacturing Industry  \n",
       "\n",
       "[23908 rows x 9 columns]"
      ]
     },
     "execution_count": 29,
     "metadata": {
      "tags": []
     },
     "output_type": "execute_result"
    }
   ],
   "source": [
    "masterdata.loc[masterdata['Type'].isnull()]\n",
    "\n",
    "temp = masterdata.groupby(['Product','industry','Type']).agg({'ID':'count'}).reset_index()\n",
    "temp = temp.sort_values('ID', ascending = False)\n",
    "temp = temp.groupby(['Product','industry']).agg({'Type':'first'}).reset_index()\n",
    "temp.rename(columns={'Type':'impute_Type'}, inplace=True)\n",
    "temp\n",
    "\n",
    "# Map the type to masterdata and update the column if missing\n",
    "\n",
    "masterdata = pd.merge(masterdata, temp, how = 'left',on = ['Product','industry'])\n",
    "masterdata.loc[masterdata['Type'].isnull(),'Type'] = masterdata.loc[masterdata['Type'].isnull(),'impute_Type']\n",
    "masterdata.drop(columns = ['impute_Type'], inplace = True)\n",
    "masterdata"
   ]
  },
  {
   "cell_type": "code",
   "execution_count": null,
   "metadata": {
    "colab": {
     "base_uri": "https://localhost:8080/"
    },
    "id": "iRmOsOYU1Rcq",
    "outputId": "53f8c5e4-e22b-45ee-9bf0-979448dbf1f2"
   },
   "outputs": [
    {
     "name": "stdout",
     "output_type": "stream",
     "text": [
      "<class 'pandas.core.frame.DataFrame'>\n",
      "Int64Index: 23908 entries, 0 to 23907\n",
      "Data columns (total 9 columns):\n",
      " #   Column              Non-Null Count  Dtype \n",
      "---  ------              --------------  ----- \n",
      " 0   ID                  23908 non-null  object\n",
      " 1   product_info        23908 non-null  object\n",
      " 2   market_cap          23871 non-null  object\n",
      " 3   CEO                 23881 non-null  object\n",
      " 4   Revenue (Cr)        23862 non-null  object\n",
      " 5   Company_background  23908 non-null  object\n",
      " 6   Type                23908 non-null  object\n",
      " 7   Product             23908 non-null  object\n",
      " 8   industry            23908 non-null  object\n",
      "dtypes: object(9)\n",
      "memory usage: 1.8+ MB\n"
     ]
    }
   ],
   "source": [
    "masterdata.info(null_counts = True)"
   ]
  },
  {
   "cell_type": "markdown",
   "metadata": {
    "id": "_szGQL5gEMv0"
   },
   "source": [
    "### Check revenue column\n",
    "\n",
    "Missing values: Tagged as \"?\", NaN, -999\n",
    "\n",
    "We replace the ? as NaN and convert column to float. We will add a flag for missing revenue\n",
    "\n",
    "9439(40%) values are missing from train data. 6276(40%) values missing from test data"
   ]
  },
  {
   "cell_type": "code",
   "execution_count": null,
   "metadata": {
    "colab": {
     "base_uri": "https://localhost:8080/"
    },
    "id": "uS2COQc-EQlD",
    "outputId": "f8396269-9a74-421e-c40b-24f909434b4c"
   },
   "outputs": [
    {
     "data": {
      "text/html": [
       "<div>\n",
       "<style scoped>\n",
       "    .dataframe tbody tr th:only-of-type {\n",
       "        vertical-align: middle;\n",
       "    }\n",
       "\n",
       "    .dataframe tbody tr th {\n",
       "        vertical-align: top;\n",
       "    }\n",
       "\n",
       "    .dataframe thead th {\n",
       "        text-align: right;\n",
       "    }\n",
       "</style>\n",
       "<table border=\"1\" class=\"dataframe\">\n",
       "  <thead>\n",
       "    <tr style=\"text-align: right;\">\n",
       "      <th></th>\n",
       "      <th>Revenue (Cr)</th>\n",
       "    </tr>\n",
       "  </thead>\n",
       "  <tbody>\n",
       "    <tr>\n",
       "      <th>11954</th>\n",
       "      <td>-999.0</td>\n",
       "    </tr>\n",
       "    <tr>\n",
       "      <th>4334</th>\n",
       "      <td>-999.0</td>\n",
       "    </tr>\n",
       "    <tr>\n",
       "      <th>4333</th>\n",
       "      <td>-999.0</td>\n",
       "    </tr>\n",
       "    <tr>\n",
       "      <th>13659</th>\n",
       "      <td>-999.0</td>\n",
       "    </tr>\n",
       "    <tr>\n",
       "      <th>13662</th>\n",
       "      <td>-999.0</td>\n",
       "    </tr>\n",
       "    <tr>\n",
       "      <th>...</th>\n",
       "      <td>...</td>\n",
       "    </tr>\n",
       "    <tr>\n",
       "      <th>21376</th>\n",
       "      <td>NaN</td>\n",
       "    </tr>\n",
       "    <tr>\n",
       "      <th>21536</th>\n",
       "      <td>NaN</td>\n",
       "    </tr>\n",
       "    <tr>\n",
       "      <th>22055</th>\n",
       "      <td>NaN</td>\n",
       "    </tr>\n",
       "    <tr>\n",
       "      <th>23338</th>\n",
       "      <td>NaN</td>\n",
       "    </tr>\n",
       "    <tr>\n",
       "      <th>23767</th>\n",
       "      <td>NaN</td>\n",
       "    </tr>\n",
       "  </tbody>\n",
       "</table>\n",
       "<p>23908 rows × 1 columns</p>\n",
       "</div>"
      ],
      "text/plain": [
       "      Revenue (Cr)\n",
       "11954       -999.0\n",
       "4334        -999.0\n",
       "4333        -999.0\n",
       "13659       -999.0\n",
       "13662       -999.0\n",
       "...            ...\n",
       "21376          NaN\n",
       "21536          NaN\n",
       "22055          NaN\n",
       "23338          NaN\n",
       "23767          NaN\n",
       "\n",
       "[23908 rows x 1 columns]"
      ]
     },
     "execution_count": 31,
     "metadata": {
      "tags": []
     },
     "output_type": "execute_result"
    }
   ],
   "source": [
    "temp = masterdata.copy()\n",
    "temp.loc[:,['Revenue (Cr)']].sort_values(by = 'Revenue (Cr)')"
   ]
  },
  {
   "cell_type": "code",
   "execution_count": null,
   "metadata": {
    "colab": {
     "base_uri": "https://localhost:8080/"
    },
    "id": "4IejWlQzE86o",
    "outputId": "d1f1aacd-ceef-41ff-ca11-ce95f136391b"
   },
   "outputs": [
    {
     "name": "stdout",
     "output_type": "stream",
     "text": [
      "<class 'pandas.core.frame.DataFrame'>\n",
      "Int64Index: 23908 entries, 0 to 23907\n",
      "Data columns (total 10 columns):\n",
      " #   Column              Non-Null Count  Dtype  \n",
      "---  ------              --------------  -----  \n",
      " 0   ID                  23908 non-null  object \n",
      " 1   product_info        23908 non-null  object \n",
      " 2   market_cap          23871 non-null  object \n",
      " 3   CEO                 23881 non-null  object \n",
      " 4   Revenue (Cr)        23908 non-null  float64\n",
      " 5   Company_background  23908 non-null  object \n",
      " 6   Type                23908 non-null  object \n",
      " 7   Product             23908 non-null  object \n",
      " 8   industry            23908 non-null  object \n",
      " 9   missing_revenue     23908 non-null  int64  \n",
      "dtypes: float64(1), int64(1), object(8)\n",
      "memory usage: 2.0+ MB\n"
     ]
    }
   ],
   "source": [
    "masterdata.loc[masterdata['Revenue (Cr)'] == \"?\",'Revenue (Cr)'] = np.NaN\n",
    "masterdata['Revenue (Cr)'] = masterdata['Revenue (Cr)'].astype('float')\n",
    "masterdata['Revenue (Cr)'] = masterdata['Revenue (Cr)'].fillna(-999)\n",
    "\n",
    "masterdata['missing_revenue'] = 0\n",
    "masterdata.loc[masterdata['Revenue (Cr)'] < 0,'missing_revenue'] = 1\n",
    "\n",
    "masterdata.info()"
   ]
  },
  {
   "cell_type": "code",
   "execution_count": null,
   "metadata": {
    "colab": {
     "base_uri": "https://localhost:8080/"
    },
    "id": "cKpt6xpVHmaW",
    "outputId": "2a7d3a9c-cc9f-4b50-e63d-235c10c4ae1c"
   },
   "outputs": [
    {
     "name": "stdout",
     "output_type": "stream",
     "text": [
      "<class 'pandas.core.frame.DataFrame'>\n",
      "Int64Index: 15890 entries, 0 to 15889\n",
      "Data columns (total 6 columns):\n",
      " #   Column              Non-Null Count  Dtype \n",
      "---  ------              --------------  ----- \n",
      " 0   ID                  15890 non-null  object\n",
      " 1   market_cap          15867 non-null  object\n",
      " 2   CEO                 15870 non-null  object\n",
      " 3   Revenue (Cr)        15859 non-null  object\n",
      " 4   Company_background  15890 non-null  object\n",
      " 5   product_info        15890 non-null  object\n",
      "dtypes: object(6)\n",
      "memory usage: 869.0+ KB\n"
     ]
    }
   ],
   "source": [
    "test_data.info(null_counts = True)"
   ]
  },
  {
   "cell_type": "code",
   "execution_count": null,
   "metadata": {
    "colab": {
     "base_uri": "https://localhost:8080/"
    },
    "id": "2PSknVm7HdWE",
    "outputId": "2cfef976-237a-4f0f-ad1b-923572f024f0"
   },
   "outputs": [
    {
     "data": {
      "text/plain": [
       "ID                    6276\n",
       "market_cap            6267\n",
       "CEO                   6267\n",
       "Revenue (Cr)          6276\n",
       "Company_background    6276\n",
       "product_info          6276\n",
       "missing_revenue       6276\n",
       "dtype: int64"
      ]
     },
     "execution_count": 34,
     "metadata": {
      "tags": []
     },
     "output_type": "execute_result"
    }
   ],
   "source": [
    "# Replicate for test data. \n",
    "test_data.loc[test_data['Revenue (Cr)'] == \"?\",'Revenue (Cr)'] = np.NaN\n",
    "test_data['Revenue (Cr)'] = test_data['Revenue (Cr)'].astype('float')\n",
    "test_data['Revenue (Cr)'] = test_data['Revenue (Cr)'].fillna(-999)\n",
    "\n",
    "test_data['missing_revenue'] = 0\n",
    "test_data.loc[test_data['Revenue (Cr)'] < 0,'missing_revenue'] = 1\n",
    "\n",
    "test_data.loc[test_data['Revenue (Cr)']<0,:].count()"
   ]
  },
  {
   "cell_type": "code",
   "execution_count": null,
   "metadata": {
    "colab": {
     "base_uri": "https://localhost:8080/"
    },
    "id": "jmgkv-SwFrxI",
    "outputId": "a5b0c068-f707-4732-892b-c2201abb7041"
   },
   "outputs": [
    {
     "name": "stdout",
     "output_type": "stream",
     "text": [
      "<class 'pandas.core.frame.DataFrame'>\n",
      "Int64Index: 23908 entries, 0 to 23907\n",
      "Data columns (total 10 columns):\n",
      " #   Column              Non-Null Count  Dtype  \n",
      "---  ------              --------------  -----  \n",
      " 0   ID                  23908 non-null  object \n",
      " 1   product_info        23908 non-null  object \n",
      " 2   market_cap          23871 non-null  object \n",
      " 3   CEO                 23881 non-null  object \n",
      " 4   Revenue (Cr)        23908 non-null  float64\n",
      " 5   Company_background  23908 non-null  object \n",
      " 6   Type                23908 non-null  object \n",
      " 7   Product             23908 non-null  object \n",
      " 8   industry            23908 non-null  object \n",
      " 9   missing_revenue     23908 non-null  int64  \n",
      "dtypes: float64(1), int64(1), object(8)\n",
      "memory usage: 2.0+ MB\n"
     ]
    }
   ],
   "source": [
    "masterdata[['Revenue (Cr)']].sort_values(by = 'Revenue (Cr)')\n",
    "\n",
    "masterdata.loc[masterdata['Revenue (Cr)'] <0,:].count()\n",
    "\n",
    "masterdata.info()"
   ]
  },
  {
   "cell_type": "markdown",
   "metadata": {
    "id": "qqX20tSYF--3"
   },
   "source": [
    "### Check market cap\n",
    "\n",
    "Missing values are filled with ? or nan\n",
    "\n",
    "We will make it consistent and change it to N/A\n",
    "\n",
    "12,091(~50%) values missing in train data. 7,996 (50%) values missing from test data"
   ]
  },
  {
   "cell_type": "code",
   "execution_count": null,
   "metadata": {
    "colab": {
     "base_uri": "https://localhost:8080/"
    },
    "id": "ySdVgQemGtdN",
    "outputId": "5a8cc6d1-5ae7-44c8-b6e2-4197e123b31a"
   },
   "outputs": [
    {
     "data": {
      "text/plain": [
       "array(['N/A', 'large-cap', 'mid-cap', 'small-cap'], dtype=object)"
      ]
     },
     "execution_count": 36,
     "metadata": {
      "tags": []
     },
     "output_type": "execute_result"
    }
   ],
   "source": [
    "masterdata['market_cap'].unique()\n",
    "\n",
    "masterdata.loc[masterdata['market_cap'] == \"?\",'market_cap'] = \"N/A\"\n",
    "masterdata.loc[masterdata['market_cap'].isnull(),'market_cap'] = \"N/A\"\n",
    "\n",
    "#Add missing flag\n",
    "masterdata['missing_market_cap'] = 0\n",
    "masterdata.loc[masterdata['market_cap'] == \"N/A\",'missing_market_cap'] = 1\n",
    "\n",
    "masterdata['market_cap'].unique()"
   ]
  },
  {
   "cell_type": "code",
   "execution_count": null,
   "metadata": {
    "colab": {
     "base_uri": "https://localhost:8080/"
    },
    "id": "SgV70daoIOaR",
    "outputId": "d2c99114-0091-4103-e320-e1e75a818458"
   },
   "outputs": [
    {
     "data": {
      "text/html": [
       "<div>\n",
       "<style scoped>\n",
       "    .dataframe tbody tr th:only-of-type {\n",
       "        vertical-align: middle;\n",
       "    }\n",
       "\n",
       "    .dataframe tbody tr th {\n",
       "        vertical-align: top;\n",
       "    }\n",
       "\n",
       "    .dataframe thead th {\n",
       "        text-align: right;\n",
       "    }\n",
       "</style>\n",
       "<table border=\"1\" class=\"dataframe\">\n",
       "  <thead>\n",
       "    <tr style=\"text-align: right;\">\n",
       "      <th></th>\n",
       "      <th>ID</th>\n",
       "    </tr>\n",
       "    <tr>\n",
       "      <th>market_cap</th>\n",
       "      <th></th>\n",
       "    </tr>\n",
       "  </thead>\n",
       "  <tbody>\n",
       "    <tr>\n",
       "      <th>N/A</th>\n",
       "      <td>12091</td>\n",
       "    </tr>\n",
       "    <tr>\n",
       "      <th>large-cap</th>\n",
       "      <td>5155</td>\n",
       "    </tr>\n",
       "    <tr>\n",
       "      <th>mid-cap</th>\n",
       "      <td>1867</td>\n",
       "    </tr>\n",
       "    <tr>\n",
       "      <th>small-cap</th>\n",
       "      <td>4795</td>\n",
       "    </tr>\n",
       "  </tbody>\n",
       "</table>\n",
       "</div>"
      ],
      "text/plain": [
       "               ID\n",
       "market_cap       \n",
       "N/A         12091\n",
       "large-cap    5155\n",
       "mid-cap      1867\n",
       "small-cap    4795"
      ]
     },
     "execution_count": 37,
     "metadata": {
      "tags": []
     },
     "output_type": "execute_result"
    }
   ],
   "source": [
    "masterdata.groupby(['market_cap']).agg({'ID':'count'})"
   ]
  },
  {
   "cell_type": "code",
   "execution_count": null,
   "metadata": {
    "colab": {
     "base_uri": "https://localhost:8080/"
    },
    "id": "CeZwDd_2HYct",
    "outputId": "8a5691c5-8df7-479a-d311-96240970de56"
   },
   "outputs": [
    {
     "data": {
      "text/plain": [
       "array(['N/A', 'large-cap', 'mid-cap', 'small-cap'], dtype=object)"
      ]
     },
     "execution_count": 38,
     "metadata": {
      "tags": []
     },
     "output_type": "execute_result"
    }
   ],
   "source": [
    "# Replicate for test dataset\n",
    "test_data['market_cap'].unique()\n",
    "\n",
    "test_data.loc[test_data['market_cap'] == \"?\",'market_cap'] = \"N/A\"\n",
    "test_data.loc[test_data['market_cap'].isnull(),'market_cap'] = \"N/A\"\n",
    "\n",
    "#Add missing flag\n",
    "test_data['missing_market_cap'] = 0\n",
    "test_data.loc[test_data['market_cap'] == \"N/A\",'missing_market_cap'] = 1\n",
    "\n",
    "test_data['market_cap'].unique()"
   ]
  },
  {
   "cell_type": "code",
   "execution_count": null,
   "metadata": {
    "colab": {
     "base_uri": "https://localhost:8080/"
    },
    "id": "P12g5uqNIfFL",
    "outputId": "b1c1ad32-10e3-4248-8360-7fd0d8faa28d"
   },
   "outputs": [
    {
     "data": {
      "text/html": [
       "<div>\n",
       "<style scoped>\n",
       "    .dataframe tbody tr th:only-of-type {\n",
       "        vertical-align: middle;\n",
       "    }\n",
       "\n",
       "    .dataframe tbody tr th {\n",
       "        vertical-align: top;\n",
       "    }\n",
       "\n",
       "    .dataframe thead th {\n",
       "        text-align: right;\n",
       "    }\n",
       "</style>\n",
       "<table border=\"1\" class=\"dataframe\">\n",
       "  <thead>\n",
       "    <tr style=\"text-align: right;\">\n",
       "      <th></th>\n",
       "      <th>ID</th>\n",
       "    </tr>\n",
       "    <tr>\n",
       "      <th>market_cap</th>\n",
       "      <th></th>\n",
       "    </tr>\n",
       "  </thead>\n",
       "  <tbody>\n",
       "    <tr>\n",
       "      <th>N/A</th>\n",
       "      <td>7996</td>\n",
       "    </tr>\n",
       "    <tr>\n",
       "      <th>large-cap</th>\n",
       "      <td>3360</td>\n",
       "    </tr>\n",
       "    <tr>\n",
       "      <th>mid-cap</th>\n",
       "      <td>1286</td>\n",
       "    </tr>\n",
       "    <tr>\n",
       "      <th>small-cap</th>\n",
       "      <td>3248</td>\n",
       "    </tr>\n",
       "  </tbody>\n",
       "</table>\n",
       "</div>"
      ],
      "text/plain": [
       "              ID\n",
       "market_cap      \n",
       "N/A         7996\n",
       "large-cap   3360\n",
       "mid-cap     1286\n",
       "small-cap   3248"
      ]
     },
     "execution_count": 39,
     "metadata": {
      "tags": []
     },
     "output_type": "execute_result"
    }
   ],
   "source": [
    "test_data.groupby(['market_cap']).agg({'ID':'count'})"
   ]
  },
  {
   "cell_type": "markdown",
   "metadata": {
    "id": "oTtbI43yHXSU"
   },
   "source": [
    "### Check CEO\n",
    "\n",
    "Missing tagged as \"?\" or null values. We wll impute this as N/A"
   ]
  },
  {
   "cell_type": "code",
   "execution_count": null,
   "metadata": {
    "colab": {
     "base_uri": "https://localhost:8080/"
    },
    "id": "GmeE88dBIwcS",
    "outputId": "8dab1632-48cf-4713-e681-6cfa3eca5941"
   },
   "outputs": [
    {
     "data": {
      "text/plain": [
       "array(['?', nan], dtype=object)"
      ]
     },
     "execution_count": 40,
     "metadata": {
      "tags": []
     },
     "output_type": "execute_result"
    }
   ],
   "source": [
    "temp = masterdata.copy()\n",
    "\n",
    "temp = temp.loc[:,['CEO']]\n",
    "\n",
    "temp['CEO_length'] = temp['CEO'].apply(lambda x: len(str(x)))\n",
    "\n",
    "temp.loc[temp['CEO_length']<=5,'CEO'].unique()"
   ]
  },
  {
   "cell_type": "code",
   "execution_count": null,
   "metadata": {
    "colab": {
     "base_uri": "https://localhost:8080/"
    },
    "id": "K_t2QcT7KLf5",
    "outputId": "0a09c758-7735-45f2-bd7a-3e767609c65b"
   },
   "outputs": [
    {
     "data": {
      "text/plain": [
       "array(['?', nan], dtype=object)"
      ]
     },
     "execution_count": 41,
     "metadata": {
      "tags": []
     },
     "output_type": "execute_result"
    }
   ],
   "source": [
    "temp = test_data.copy()\n",
    "\n",
    "temp = temp.loc[:,['CEO']]\n",
    "\n",
    "temp['CEO_length'] = temp['CEO'].apply(lambda x: len(str(x)))\n",
    "\n",
    "temp.loc[temp['CEO_length']<=5,'CEO'].unique()"
   ]
  },
  {
   "cell_type": "code",
   "execution_count": null,
   "metadata": {
    "id": "FdXB7l96J7Sl"
   },
   "outputs": [],
   "source": [
    "# Train dataset\n",
    "\n",
    "masterdata.loc[masterdata['CEO'] == \"?\",'CEO'] = \"N/A\"\n",
    "masterdata.loc[masterdata['CEO'].isnull(),'CEO'] = \"N/A\"\n",
    "\n",
    "# Test dataset\n",
    "\n",
    "test_data.loc[test_data['CEO'] == \"?\",'CEO'] = \"N/A\"\n",
    "test_data.loc[test_data['CEO'].isnull(),'CEO'] = \"N/A\"\n",
    "\n",
    "# Add missing flag\n",
    "masterdata['missing_CEO'] = 0\n",
    "masterdata.loc[masterdata['CEO'] == \"N/A\",'missing_CEO'] = 1\n",
    "\n",
    "\n",
    "test_data['missing_CEO'] = 0\n",
    "test_data.loc[masterdata['CEO'] == \"N/A\",'missing_CEO'] = 1\n"
   ]
  },
  {
   "cell_type": "code",
   "execution_count": null,
   "metadata": {
    "colab": {
     "base_uri": "https://localhost:8080/"
    },
    "id": "NuLhxAXqIrRe",
    "outputId": "8b9a5244-2166-4390-bbd9-ff4d9615b779"
   },
   "outputs": [
    {
     "data": {
      "text/plain": [
       "array(['ID', 'product_info', 'market_cap', 'CEO', 'Revenue (Cr)',\n",
       "       'Company_background', 'Type', 'Product', 'industry',\n",
       "       'missing_revenue', 'missing_market_cap', 'missing_CEO'],\n",
       "      dtype=object)"
      ]
     },
     "execution_count": 43,
     "metadata": {
      "tags": []
     },
     "output_type": "execute_result"
    }
   ],
   "source": [
    "masterdata.columns.values"
   ]
  },
  {
   "cell_type": "code",
   "execution_count": null,
   "metadata": {
    "colab": {
     "base_uri": "https://localhost:8080/"
    },
    "id": "BiDmN3vULr4Z",
    "outputId": "6065e1b9-ae44-459c-8c28-5c451b0c28d4"
   },
   "outputs": [
    {
     "name": "stdout",
     "output_type": "stream",
     "text": [
      "<class 'pandas.core.frame.DataFrame'>\n",
      "Int64Index: 15890 entries, 0 to 15889\n",
      "Data columns (total 9 columns):\n",
      " #   Column              Non-Null Count  Dtype  \n",
      "---  ------              --------------  -----  \n",
      " 0   ID                  15890 non-null  object \n",
      " 1   market_cap          15890 non-null  object \n",
      " 2   CEO                 15890 non-null  object \n",
      " 3   Revenue (Cr)        15890 non-null  float64\n",
      " 4   Company_background  15890 non-null  object \n",
      " 5   product_info        15890 non-null  object \n",
      " 6   missing_revenue     15890 non-null  int64  \n",
      " 7   missing_market_cap  15890 non-null  int64  \n",
      " 8   missing_CEO         15890 non-null  int64  \n",
      "dtypes: float64(1), int64(3), object(5)\n",
      "memory usage: 1.2+ MB\n"
     ]
    }
   ],
   "source": [
    "test_data.info()"
   ]
  },
  {
   "cell_type": "markdown",
   "metadata": {
    "id": "IIfiSlb1O17n"
   },
   "source": [
    "## EDA General trends based on company information\n",
    "\n",
    "We will investigate if there are any patterns based on market cap.\n",
    "\n",
    "Observations: Most of the entries do not have a market cap specified. We can drop market cap from masterdata"
   ]
  },
  {
   "cell_type": "markdown",
   "metadata": {
    "id": "Hw1h-Ej07E5R"
   },
   "source": [
    "### Market cap\n",
    "\n",
    "Majority of entries do not have market cap available"
   ]
  },
  {
   "cell_type": "code",
   "execution_count": null,
   "metadata": {
    "colab": {
     "base_uri": "https://localhost:8080/"
    },
    "id": "zuPzDhskRsxo",
    "outputId": "612e3935-fcec-48fe-b921-54e4a78806f1"
   },
   "outputs": [
    {
     "data": {
      "text/plain": [
       "<matplotlib.axes._subplots.AxesSubplot at 0x7f71748bbf90>"
      ]
     },
     "execution_count": 45,
     "metadata": {
      "tags": []
     },
     "output_type": "execute_result"
    },
    {
     "data": {
      "image/png": "[encoded data removed]",
      "text/plain": [
       "<Figure size 1440x720 with 1 Axes>"
      ]
     },
     "metadata": {
      "needs_background": "light",
      "tags": []
     },
     "output_type": "display_data"
    }
   ],
   "source": [
    "temp = masterdata.groupby(['industry','market_cap']).agg({'ID':'count'}).reset_index()\n",
    "plt.figure(figsize = (20,10))\n",
    "sns.barplot(data = temp, x = 'industry',y = 'ID',hue = 'market_cap')"
   ]
  },
  {
   "cell_type": "markdown",
   "metadata": {
    "id": "Dknq49Km8Bcn"
   },
   "source": [
    "### Revenue\n",
    "\n",
    "OF the 23,908 entries, 19520 have numeric revenue numbers.\n",
    "\n",
    "Of the 19520, only 14469 have valid numeric values. This makes it so that significant chunk of data does not have revenue numbers available. \n"
   ]
  },
  {
   "cell_type": "code",
   "execution_count": null,
   "metadata": {
    "colab": {
     "base_uri": "https://localhost:8080/"
    },
    "id": "7zc9ZVsW8EGW",
    "outputId": "a88f9d31-ce80-4275-ada2-57b229bf02b5"
   },
   "outputs": [
    {
     "data": {
      "text/plain": [
       "<seaborn.axisgrid.FacetGrid at 0x7f7171735310>"
      ]
     },
     "execution_count": 46,
     "metadata": {
      "tags": []
     },
     "output_type": "execute_result"
    },
    {
     "data": {
      "image/png": "[encoded data removed]",
      "text/plain": [
       "<Figure size 360x360 with 1 Axes>"
      ]
     },
     "metadata": {
      "needs_background": "light",
      "tags": []
     },
     "output_type": "display_data"
    }
   ],
   "source": [
    "sns.set(rc={'figure.figsize':(20,10)},font_scale=1.5)\n",
    "sns.displot(ax = ax, data = masterdata.loc[masterdata['missing_revenue'] == 0,:], x = 'Revenue (Cr)', bins = 20, hue = 'industry',height = 10, aspect= 1)\n",
    "plt.show()"
   ]
  },
  {
   "cell_type": "code",
   "execution_count": null,
   "metadata": {
    "colab": {
     "base_uri": "https://localhost:8080/"
    },
    "id": "719Pqw6ec9BA",
    "outputId": "4953143f-26a7-475e-81a8-751caee9bf3a"
   },
   "outputs": [
    {
     "data": {
      "text/html": [
       "<div>\n",
       "<style scoped>\n",
       "    .dataframe tbody tr th:only-of-type {\n",
       "        vertical-align: middle;\n",
       "    }\n",
       "\n",
       "    .dataframe tbody tr th {\n",
       "        vertical-align: top;\n",
       "    }\n",
       "\n",
       "    .dataframe thead th {\n",
       "        text-align: right;\n",
       "    }\n",
       "</style>\n",
       "<table border=\"1\" class=\"dataframe\">\n",
       "  <thead>\n",
       "    <tr style=\"text-align: right;\">\n",
       "      <th></th>\n",
       "      <th>ID</th>\n",
       "      <th>product_info</th>\n",
       "      <th>market_cap</th>\n",
       "      <th>CEO</th>\n",
       "      <th>Revenue (Cr)</th>\n",
       "      <th>Company_background</th>\n",
       "      <th>Type</th>\n",
       "      <th>Product</th>\n",
       "      <th>industry</th>\n",
       "      <th>missing_revenue</th>\n",
       "      <th>missing_market_cap</th>\n",
       "      <th>missing_CEO</th>\n",
       "    </tr>\n",
       "  </thead>\n",
       "  <tbody>\n",
       "    <tr>\n",
       "      <th>0</th>\n",
       "      <td>PROJ0x33d9</td>\n",
       "      <td>The head is the energy per unit weig...</td>\n",
       "      <td>N/A</td>\n",
       "      <td>Winifred Bilbro</td>\n",
       "      <td>10.485347</td>\n",
       "      <td>Biofuels are often produced from co...</td>\n",
       "      <td>green energy</td>\n",
       "      <td>Hydro</td>\n",
       "      <td>Power Industry</td>\n",
       "      <td>0</td>\n",
       "      <td>1</td>\n",
       "      <td>0</td>\n",
       "    </tr>\n",
       "    <tr>\n",
       "      <th>1</th>\n",
       "      <td>PROJ0x4ec9</td>\n",
       "      <td>75 lakh and INR 7.Australia has comp...</td>\n",
       "      <td>large-cap</td>\n",
       "      <td>Ruby Burnett</td>\n",
       "      <td>36.334303</td>\n",
       "      <td>Power study, emerging markets accou...</td>\n",
       "      <td>Light Vehicles</td>\n",
       "      <td>Truck</td>\n",
       "      <td>Automobile Industry</td>\n",
       "      <td>0</td>\n",
       "      <td>0</td>\n",
       "      <td>0</td>\n",
       "    </tr>\n",
       "    <tr>\n",
       "      <th>2</th>\n",
       "      <td>PROJ0x2caf</td>\n",
       "      <td>In November 2009, Intel agreed to pa...</td>\n",
       "      <td>mid-cap</td>\n",
       "      <td>N/A</td>\n",
       "      <td>-999.000000</td>\n",
       "      <td>Information services Information se...</td>\n",
       "      <td>Hardware</td>\n",
       "      <td>Gaming hardware</td>\n",
       "      <td>Computer Industry</td>\n",
       "      <td>1</td>\n",
       "      <td>0</td>\n",
       "      <td>1</td>\n",
       "    </tr>\n",
       "    <tr>\n",
       "      <th>3</th>\n",
       "      <td>PROJ0x126f</td>\n",
       "      <td>\" The European Academies' Science Ad...</td>\n",
       "      <td>small-cap</td>\n",
       "      <td>N/A</td>\n",
       "      <td>4.892109</td>\n",
       "      <td>The healthcare industry (also called...</td>\n",
       "      <td>Pharma</td>\n",
       "      <td>homeopathic</td>\n",
       "      <td>Health Industry</td>\n",
       "      <td>0</td>\n",
       "      <td>0</td>\n",
       "      <td>1</td>\n",
       "    </tr>\n",
       "    <tr>\n",
       "      <th>4</th>\n",
       "      <td>PROJ0x1b8c</td>\n",
       "      <td>Early deaths due to air pollution ha...</td>\n",
       "      <td>small-cap</td>\n",
       "      <td>N/A</td>\n",
       "      <td>-999.000000</td>\n",
       "      <td>Other certificate systems that conf...</td>\n",
       "      <td>non green energy</td>\n",
       "      <td>charcoal</td>\n",
       "      <td>Power Industry</td>\n",
       "      <td>1</td>\n",
       "      <td>0</td>\n",
       "      <td>1</td>\n",
       "    </tr>\n",
       "    <tr>\n",
       "      <th>...</th>\n",
       "      <td>...</td>\n",
       "      <td>...</td>\n",
       "      <td>...</td>\n",
       "      <td>...</td>\n",
       "      <td>...</td>\n",
       "      <td>...</td>\n",
       "      <td>...</td>\n",
       "      <td>...</td>\n",
       "      <td>...</td>\n",
       "      <td>...</td>\n",
       "      <td>...</td>\n",
       "      <td>...</td>\n",
       "    </tr>\n",
       "    <tr>\n",
       "      <th>23903</th>\n",
       "      <td>PROJ0x558b</td>\n",
       "      <td>More recently, the oldest-known wood...</td>\n",
       "      <td>N/A</td>\n",
       "      <td>Mae Martini</td>\n",
       "      <td>22.856821</td>\n",
       "      <td>(There is a push in some parts of t...</td>\n",
       "      <td>Software</td>\n",
       "      <td>IT</td>\n",
       "      <td>Computer Industry</td>\n",
       "      <td>0</td>\n",
       "      <td>1</td>\n",
       "      <td>0</td>\n",
       "    </tr>\n",
       "    <tr>\n",
       "      <th>23904</th>\n",
       "      <td>PROJ0x5e60</td>\n",
       "      <td>Simple race games involve pure luck....</td>\n",
       "      <td>N/A</td>\n",
       "      <td>N/A</td>\n",
       "      <td>7.258065</td>\n",
       "      <td>Manufacturing, Engineering &amp; Techno...</td>\n",
       "      <td>Mechanical</td>\n",
       "      <td>Kids toys</td>\n",
       "      <td>Manufacturing Industry</td>\n",
       "      <td>0</td>\n",
       "      <td>1</td>\n",
       "      <td>1</td>\n",
       "    </tr>\n",
       "    <tr>\n",
       "      <th>23905</th>\n",
       "      <td>PROJ0x1c95</td>\n",
       "      <td>Lee, Newton (2015). Cybersecurity: A...</td>\n",
       "      <td>large-cap</td>\n",
       "      <td>Patricia Perez</td>\n",
       "      <td>18.932698</td>\n",
       "      <td>g.In an academic context, the Associ...</td>\n",
       "      <td>Security</td>\n",
       "      <td>antivirus-security</td>\n",
       "      <td>Computer Industry</td>\n",
       "      <td>0</td>\n",
       "      <td>0</td>\n",
       "      <td>0</td>\n",
       "    </tr>\n",
       "    <tr>\n",
       "      <th>23906</th>\n",
       "      <td>PROJ0x7ff2</td>\n",
       "      <td>In recent years its support has accr...</td>\n",
       "      <td>small-cap</td>\n",
       "      <td>N/A</td>\n",
       "      <td>2.494547</td>\n",
       "      <td>Dongfeng Motor holds a 12.5% stake, ...</td>\n",
       "      <td>Heavy Vehicles</td>\n",
       "      <td>JCP</td>\n",
       "      <td>Automobile Industry</td>\n",
       "      <td>0</td>\n",
       "      <td>0</td>\n",
       "      <td>1</td>\n",
       "    </tr>\n",
       "    <tr>\n",
       "      <th>23907</th>\n",
       "      <td>PROJ0x5658</td>\n",
       "      <td>The 86C911 spawned a host of imitato...</td>\n",
       "      <td>small-cap</td>\n",
       "      <td>William Miller</td>\n",
       "      <td>1.700797</td>\n",
       "      <td>Although XML data can be stored in ...</td>\n",
       "      <td>Production</td>\n",
       "      <td>Gaming hardware</td>\n",
       "      <td>Manufacturing Industry</td>\n",
       "      <td>0</td>\n",
       "      <td>0</td>\n",
       "      <td>0</td>\n",
       "    </tr>\n",
       "  </tbody>\n",
       "</table>\n",
       "<p>23908 rows × 12 columns</p>\n",
       "</div>"
      ],
      "text/plain": [
       "               ID                             product_info market_cap  \\\n",
       "0      PROJ0x33d9  The head is the energy per unit weig...        N/A   \n",
       "1      PROJ0x4ec9  75 lakh and INR 7.Australia has comp...  large-cap   \n",
       "2      PROJ0x2caf  In November 2009, Intel agreed to pa...    mid-cap   \n",
       "3      PROJ0x126f  \" The European Academies' Science Ad...  small-cap   \n",
       "4      PROJ0x1b8c  Early deaths due to air pollution ha...  small-cap   \n",
       "...           ...                                      ...        ...   \n",
       "23903  PROJ0x558b  More recently, the oldest-known wood...        N/A   \n",
       "23904  PROJ0x5e60  Simple race games involve pure luck....        N/A   \n",
       "23905  PROJ0x1c95  Lee, Newton (2015). Cybersecurity: A...  large-cap   \n",
       "23906  PROJ0x7ff2  In recent years its support has accr...  small-cap   \n",
       "23907  PROJ0x5658  The 86C911 spawned a host of imitato...  small-cap   \n",
       "\n",
       "                   CEO  Revenue (Cr)                       Company_background  \\\n",
       "0      Winifred Bilbro     10.485347   Biofuels are often produced from co...   \n",
       "1         Ruby Burnett     36.334303   Power study, emerging markets accou...   \n",
       "2                  N/A   -999.000000   Information services Information se...   \n",
       "3                  N/A      4.892109  The healthcare industry (also called...   \n",
       "4                  N/A   -999.000000   Other certificate systems that conf...   \n",
       "...                ...           ...                                      ...   \n",
       "23903      Mae Martini     22.856821   (There is a push in some parts of t...   \n",
       "23904              N/A      7.258065   Manufacturing, Engineering & Techno...   \n",
       "23905   Patricia Perez     18.932698  g.In an academic context, the Associ...   \n",
       "23906              N/A      2.494547  Dongfeng Motor holds a 12.5% stake, ...   \n",
       "23907   William Miller      1.700797   Although XML data can be stored in ...   \n",
       "\n",
       "                   Type             Product                industry  \\\n",
       "0          green energy               Hydro          Power Industry   \n",
       "1        Light Vehicles               Truck     Automobile Industry   \n",
       "2              Hardware     Gaming hardware       Computer Industry   \n",
       "3                Pharma         homeopathic         Health Industry   \n",
       "4      non green energy            charcoal          Power Industry   \n",
       "...                 ...                 ...                     ...   \n",
       "23903          Software                  IT       Computer Industry   \n",
       "23904        Mechanical           Kids toys  Manufacturing Industry   \n",
       "23905          Security  antivirus-security       Computer Industry   \n",
       "23906    Heavy Vehicles                 JCP     Automobile Industry   \n",
       "23907        Production     Gaming hardware  Manufacturing Industry   \n",
       "\n",
       "       missing_revenue  missing_market_cap  missing_CEO  \n",
       "0                    0                   1            0  \n",
       "1                    0                   0            0  \n",
       "2                    1                   0            1  \n",
       "3                    0                   0            1  \n",
       "4                    1                   0            1  \n",
       "...                ...                 ...          ...  \n",
       "23903                0                   1            0  \n",
       "23904                0                   1            1  \n",
       "23905                0                   0            0  \n",
       "23906                0                   0            1  \n",
       "23907                0                   0            0  \n",
       "\n",
       "[23908 rows x 12 columns]"
      ]
     },
     "execution_count": 47,
     "metadata": {
      "tags": []
     },
     "output_type": "execute_result"
    }
   ],
   "source": [
    "masterdata"
   ]
  },
  {
   "cell_type": "markdown",
   "metadata": {
    "id": "s74AmHu0kBoa"
   },
   "source": [
    "### CEO check\n",
    "\n",
    "Hoping CEO would be good indicatiors of industry type, we will check how many CEOs are common b/w train and test\n",
    "\n",
    "However, 99% of train CEOs are not in test. So CEO wont contribute anything"
   ]
  },
  {
   "cell_type": "code",
   "execution_count": null,
   "metadata": {
    "colab": {
     "base_uri": "https://localhost:8080/"
    },
    "id": "aya36XKskDER",
    "outputId": "a5d8a181-5c44-4482-8b2d-ad1cf3d0fc9e"
   },
   "outputs": [
    {
     "data": {
      "text/html": [
       "<div>\n",
       "<style scoped>\n",
       "    .dataframe tbody tr th:only-of-type {\n",
       "        vertical-align: middle;\n",
       "    }\n",
       "\n",
       "    .dataframe tbody tr th {\n",
       "        vertical-align: top;\n",
       "    }\n",
       "\n",
       "    .dataframe thead th {\n",
       "        text-align: right;\n",
       "    }\n",
       "</style>\n",
       "<table border=\"1\" class=\"dataframe\">\n",
       "  <thead>\n",
       "    <tr style=\"text-align: right;\">\n",
       "      <th></th>\n",
       "      <th>CEO</th>\n",
       "      <th>train_flag</th>\n",
       "      <th>test_flag</th>\n",
       "    </tr>\n",
       "    <tr>\n",
       "      <th>total_flag</th>\n",
       "      <th></th>\n",
       "      <th></th>\n",
       "      <th></th>\n",
       "    </tr>\n",
       "  </thead>\n",
       "  <tbody>\n",
       "    <tr>\n",
       "      <th>1.0</th>\n",
       "      <td>14201</td>\n",
       "      <td>14201</td>\n",
       "      <td>14201</td>\n",
       "    </tr>\n",
       "    <tr>\n",
       "      <th>2.0</th>\n",
       "      <td>107</td>\n",
       "      <td>107</td>\n",
       "      <td>107</td>\n",
       "    </tr>\n",
       "  </tbody>\n",
       "</table>\n",
       "</div>"
      ],
      "text/plain": [
       "              CEO  train_flag  test_flag\n",
       "total_flag                              \n",
       "1.0         14201       14201      14201\n",
       "2.0           107         107        107"
      ]
     },
     "execution_count": 48,
     "metadata": {
      "tags": []
     },
     "output_type": "execute_result"
    }
   ],
   "source": [
    "train_ceo = masterdata.loc[:,['CEO']]\n",
    "train_ceo.drop_duplicates(inplace = True)\n",
    "train_ceo['train_flag'] = 1\n",
    "\n",
    "test_ceo = test_data.loc[:,['CEO']]\n",
    "test_ceo.drop_duplicates(inplace = True)\n",
    "test_ceo['test_flag'] = 1\n",
    "\n",
    "temp = train_ceo.append(test_ceo)\n",
    "\n",
    "temp = set(temp['CEO'])\n",
    "\n",
    "all_ceo = pd.DataFrame(data = temp, columns = [\"CEO\"])\n",
    "\n",
    "all_ceo = pd.merge(all_ceo, train_ceo, how = 'left', on = \"CEO\")\n",
    "all_ceo = pd.merge(all_ceo, test_ceo, how = 'left', on = \"CEO\")\n",
    "all_ceo = all_ceo.fillna(0)\n",
    "all_ceo['total_flag'] = all_ceo['train_flag'] + all_ceo['test_flag']\n",
    "all_ceo.groupby(['total_flag']).count()"
   ]
  },
  {
   "cell_type": "code",
   "execution_count": null,
   "metadata": {
    "colab": {
     "base_uri": "https://localhost:8080/"
    },
    "id": "FWxkyggpnGPb",
    "outputId": "ab4e8c30-bb2c-42c4-f3ee-b7d8dfaeb5bb"
   },
   "outputs": [
    {
     "name": "stdout",
     "output_type": "stream",
     "text": [
      "Unique train CEO:8570\n",
      "Unique test CEO:5845\n",
      "CEO in train not in test: 8463\n"
     ]
    }
   ],
   "source": [
    "print(\"Unique train CEO:\" + str(train_ceo.shape[0]))\n",
    "print(\"Unique test CEO:\" + str(test_ceo.shape[0]))\n",
    "\n",
    "print(\"CEO in train not in test: \"+str(np.setdiff1d(train_ceo['CEO'], test_ceo['CEO']).size))"
   ]
  },
  {
   "cell_type": "markdown",
   "metadata": {
    "id": "H-y8l2XBgKA0"
   },
   "source": [
    "# Checkpoint 2\n",
    "\n",
    "We will convert the text columns to features and run models"
   ]
  },
  {
   "cell_type": "markdown",
   "metadata": {
    "id": "WvI3MiVPuhdW"
   },
   "source": [
    "### Retain only important colummns "
   ]
  },
  {
   "cell_type": "code",
   "execution_count": null,
   "metadata": {
    "colab": {
     "base_uri": "https://localhost:8080/"
    },
    "id": "sRRpQe6Iuo8V",
    "outputId": "de4b5f65-9b87-4ef9-d51b-5841ee718f0f"
   },
   "outputs": [
    {
     "data": {
      "text/plain": [
       "array(['ID', 'product_info', 'market_cap', 'CEO', 'Revenue (Cr)',\n",
       "       'Company_background', 'Type', 'Product', 'industry',\n",
       "       'missing_revenue', 'missing_market_cap', 'missing_CEO'],\n",
       "      dtype=object)"
      ]
     },
     "execution_count": 50,
     "metadata": {
      "tags": []
     },
     "output_type": "execute_result"
    }
   ],
   "source": [
    "masterdata.columns.values"
   ]
  },
  {
   "cell_type": "code",
   "execution_count": null,
   "metadata": {
    "id": "ZOrEIUzTuhLV"
   },
   "outputs": [],
   "source": [
    "retain_cols = ['ID', 'product_info', 'market_cap', 'Revenue (Cr)',\n",
    "       'Company_background', 'Type', 'Product', 'industry',\n",
    "       'missing_revenue', 'missing_market_cap']\n",
    "\n",
    "retain_cols_test = ['ID', 'product_info', 'market_cap', 'Revenue (Cr)',\n",
    "       'Company_background', 'missing_revenue', 'missing_market_cap']\n",
    "\n",
    "masterdata = masterdata.loc[:,retain_cols]\n",
    "test_data = test_data.loc[:,retain_cols_test]"
   ]
  },
  {
   "cell_type": "markdown",
   "metadata": {
    "id": "gu8q1wkdgYf9"
   },
   "source": [
    "### Function for tokenize words"
   ]
  },
  {
   "cell_type": "code",
   "execution_count": null,
   "metadata": {
    "id": "gllWkOgKgQGq"
   },
   "outputs": [],
   "source": [
    "# Define stemmer class\n",
    "porter = PorterStemmer()\n",
    "\n",
    "# Define stopwords\n",
    "stopwords_en = set(stopwords.words('english'))\n",
    "\n",
    "# Moved to top for consistency"
   ]
  },
  {
   "cell_type": "markdown",
   "metadata": {
    "id": "_sV9cIuHiH0o"
   },
   "source": [
    "### TOkenize company info\n",
    "\n",
    "There are few missing values which we will ignore"
   ]
  },
  {
   "cell_type": "code",
   "execution_count": null,
   "metadata": {
    "colab": {
     "base_uri": "https://localhost:8080/"
    },
    "id": "LlsDP2jogdCt",
    "outputId": "d983d7f5-2fad-47a5-c1a5-4794f358e0be"
   },
   "outputs": [
    {
     "data": {
      "text/html": [
       "<div>\n",
       "<style scoped>\n",
       "    .dataframe tbody tr th:only-of-type {\n",
       "        vertical-align: middle;\n",
       "    }\n",
       "\n",
       "    .dataframe tbody tr th {\n",
       "        vertical-align: top;\n",
       "    }\n",
       "\n",
       "    .dataframe thead th {\n",
       "        text-align: right;\n",
       "    }\n",
       "</style>\n",
       "<table border=\"1\" class=\"dataframe\">\n",
       "  <thead>\n",
       "    <tr style=\"text-align: right;\">\n",
       "      <th></th>\n",
       "      <th>ID</th>\n",
       "      <th>product_info</th>\n",
       "      <th>market_cap</th>\n",
       "      <th>Revenue (Cr)</th>\n",
       "      <th>Company_background</th>\n",
       "      <th>Type</th>\n",
       "      <th>Product</th>\n",
       "      <th>industry</th>\n",
       "      <th>missing_revenue</th>\n",
       "      <th>missing_market_cap</th>\n",
       "      <th>company_info_tokens</th>\n",
       "      <th>product_info_tokens</th>\n",
       "      <th>company_info_tokens_string</th>\n",
       "      <th>product_info_tokens_string</th>\n",
       "      <th>combined_string</th>\n",
       "    </tr>\n",
       "  </thead>\n",
       "  <tbody>\n",
       "    <tr>\n",
       "      <th>0</th>\n",
       "      <td>PROJ0x33d9</td>\n",
       "      <td>The head is the energy per unit weig...</td>\n",
       "      <td>N/A</td>\n",
       "      <td>10.485347</td>\n",
       "      <td>Biofuels are often produced from co...</td>\n",
       "      <td>green energy</td>\n",
       "      <td>Hydro</td>\n",
       "      <td>Power Industry</td>\n",
       "      <td>0</td>\n",
       "      <td>1</td>\n",
       "      <td>[biofuel, often, produc, corn, sugar...</td>\n",
       "      <td>[head, energi, per, unit, weight, un...</td>\n",
       "      <td>biofuel often produc corn sugar cane...</td>\n",
       "      <td>head energi per unit weight unit mas...</td>\n",
       "      <td>biofuel often produc corn sugar cane...</td>\n",
       "    </tr>\n",
       "    <tr>\n",
       "      <th>1</th>\n",
       "      <td>PROJ0x4ec9</td>\n",
       "      <td>75 lakh and INR 7.Australia has comp...</td>\n",
       "      <td>large-cap</td>\n",
       "      <td>36.334303</td>\n",
       "      <td>Power study, emerging markets accou...</td>\n",
       "      <td>Light Vehicles</td>\n",
       "      <td>Truck</td>\n",
       "      <td>Automobile Industry</td>\n",
       "      <td>0</td>\n",
       "      <td>0</td>\n",
       "      <td>[power, studi, emerg, market, accoun...</td>\n",
       "      <td>[75, lakh, inr, ha, complex, regul, ...</td>\n",
       "      <td>power studi emerg market account 51 ...</td>\n",
       "      <td>75 lakh inr ha complex regul weight ...</td>\n",
       "      <td>power studi emerg market account 51 ...</td>\n",
       "    </tr>\n",
       "    <tr>\n",
       "      <th>2</th>\n",
       "      <td>PROJ0x2caf</td>\n",
       "      <td>In November 2009, Intel agreed to pa...</td>\n",
       "      <td>mid-cap</td>\n",
       "      <td>-999.000000</td>\n",
       "      <td>Information services Information se...</td>\n",
       "      <td>Hardware</td>\n",
       "      <td>Gaming hardware</td>\n",
       "      <td>Computer Industry</td>\n",
       "      <td>1</td>\n",
       "      <td>0</td>\n",
       "      <td>[inform, servic, inform, servic, ter...</td>\n",
       "      <td>[novemb, 2009, intel, agre, pay, amd...</td>\n",
       "      <td>inform servic inform servic term som...</td>\n",
       "      <td>novemb 2009 intel agre pay amd 1 amd...</td>\n",
       "      <td>inform servic inform servic term som...</td>\n",
       "    </tr>\n",
       "    <tr>\n",
       "      <th>3</th>\n",
       "      <td>PROJ0x126f</td>\n",
       "      <td>\" The European Academies' Science Ad...</td>\n",
       "      <td>small-cap</td>\n",
       "      <td>4.892109</td>\n",
       "      <td>The healthcare industry (also called...</td>\n",
       "      <td>Pharma</td>\n",
       "      <td>homeopathic</td>\n",
       "      <td>Health Industry</td>\n",
       "      <td>0</td>\n",
       "      <td>0</td>\n",
       "      <td>[healthcar, industri, also, call, me...</td>\n",
       "      <td>[european, academi, scienc, advisori...</td>\n",
       "      <td>healthcar industri also call medic i...</td>\n",
       "      <td>european academi scienc advisori cou...</td>\n",
       "      <td>healthcar industri also call medic i...</td>\n",
       "    </tr>\n",
       "    <tr>\n",
       "      <th>4</th>\n",
       "      <td>PROJ0x1b8c</td>\n",
       "      <td>Early deaths due to air pollution ha...</td>\n",
       "      <td>small-cap</td>\n",
       "      <td>-999.000000</td>\n",
       "      <td>Other certificate systems that conf...</td>\n",
       "      <td>non green energy</td>\n",
       "      <td>charcoal</td>\n",
       "      <td>Power Industry</td>\n",
       "      <td>1</td>\n",
       "      <td>0</td>\n",
       "      <td>[certif, system, confirm, sustain, b...</td>\n",
       "      <td>[earli, death, due, air, pollut, est...</td>\n",
       "      <td>certif system confirm sustain build ...</td>\n",
       "      <td>earli death due air pollut estim 200...</td>\n",
       "      <td>certif system confirm sustain build ...</td>\n",
       "    </tr>\n",
       "    <tr>\n",
       "      <th>...</th>\n",
       "      <td>...</td>\n",
       "      <td>...</td>\n",
       "      <td>...</td>\n",
       "      <td>...</td>\n",
       "      <td>...</td>\n",
       "      <td>...</td>\n",
       "      <td>...</td>\n",
       "      <td>...</td>\n",
       "      <td>...</td>\n",
       "      <td>...</td>\n",
       "      <td>...</td>\n",
       "      <td>...</td>\n",
       "      <td>...</td>\n",
       "      <td>...</td>\n",
       "      <td>...</td>\n",
       "    </tr>\n",
       "    <tr>\n",
       "      <th>23903</th>\n",
       "      <td>PROJ0x558b</td>\n",
       "      <td>More recently, the oldest-known wood...</td>\n",
       "      <td>N/A</td>\n",
       "      <td>22.856821</td>\n",
       "      <td>(There is a push in some parts of t...</td>\n",
       "      <td>Software</td>\n",
       "      <td>IT</td>\n",
       "      <td>Computer Industry</td>\n",
       "      <td>0</td>\n",
       "      <td>1</td>\n",
       "      <td>[push, part, softwar, industri, merg...</td>\n",
       "      <td>[recent, wooden, wheel, world, wa, f...</td>\n",
       "      <td>push part softwar industri merg desk...</td>\n",
       "      <td>recent wooden wheel world wa found l...</td>\n",
       "      <td>push part softwar industri merg desk...</td>\n",
       "    </tr>\n",
       "    <tr>\n",
       "      <th>23904</th>\n",
       "      <td>PROJ0x5e60</td>\n",
       "      <td>Simple race games involve pure luck....</td>\n",
       "      <td>N/A</td>\n",
       "      <td>7.258065</td>\n",
       "      <td>Manufacturing, Engineering &amp; Techno...</td>\n",
       "      <td>Mechanical</td>\n",
       "      <td>Kids toys</td>\n",
       "      <td>Manufacturing Industry</td>\n",
       "      <td>0</td>\n",
       "      <td>1</td>\n",
       "      <td>[manufactur, engin, technolog, much,...</td>\n",
       "      <td>[simpl, race, game, involv, pure, lu...</td>\n",
       "      <td>manufactur engin technolog much worl...</td>\n",
       "      <td>simpl race game involv pure luck cat...</td>\n",
       "      <td>manufactur engin technolog much worl...</td>\n",
       "    </tr>\n",
       "    <tr>\n",
       "      <th>23905</th>\n",
       "      <td>PROJ0x1c95</td>\n",
       "      <td>Lee, Newton (2015). Cybersecurity: A...</td>\n",
       "      <td>large-cap</td>\n",
       "      <td>18.932698</td>\n",
       "      <td>g.In an academic context, the Associ...</td>\n",
       "      <td>Security</td>\n",
       "      <td>antivirus-security</td>\n",
       "      <td>Computer Industry</td>\n",
       "      <td>0</td>\n",
       "      <td>0</td>\n",
       "      <td>[academ, context, associ, comput, ma...</td>\n",
       "      <td>[lee, newton, 2015, cybersecur, gene...</td>\n",
       "      <td>academ context associ comput machine...</td>\n",
       "      <td>lee newton 2015 cybersecur gener ref...</td>\n",
       "      <td>academ context associ comput machine...</td>\n",
       "    </tr>\n",
       "    <tr>\n",
       "      <th>23906</th>\n",
       "      <td>PROJ0x7ff2</td>\n",
       "      <td>In recent years its support has accr...</td>\n",
       "      <td>small-cap</td>\n",
       "      <td>2.494547</td>\n",
       "      <td>Dongfeng Motor holds a 12.5% stake, ...</td>\n",
       "      <td>Heavy Vehicles</td>\n",
       "      <td>JCP</td>\n",
       "      <td>Automobile Industry</td>\n",
       "      <td>0</td>\n",
       "      <td>0</td>\n",
       "      <td>[dongfeng, motor, hold, stake, sheny...</td>\n",
       "      <td>[recent, year, support, ha, accru, 2...</td>\n",
       "      <td>dongfeng motor hold stake shenyang m...</td>\n",
       "      <td>recent year support ha accru 2014 ge...</td>\n",
       "      <td>dongfeng motor hold stake shenyang m...</td>\n",
       "    </tr>\n",
       "    <tr>\n",
       "      <th>23907</th>\n",
       "      <td>PROJ0x5658</td>\n",
       "      <td>The 86C911 spawned a host of imitato...</td>\n",
       "      <td>small-cap</td>\n",
       "      <td>1.700797</td>\n",
       "      <td>Although XML data can be stored in ...</td>\n",
       "      <td>Production</td>\n",
       "      <td>Gaming hardware</td>\n",
       "      <td>Manufacturing Industry</td>\n",
       "      <td>0</td>\n",
       "      <td>0</td>\n",
       "      <td>[although, xml, data, store, normal,...</td>\n",
       "      <td>[86c911, spawn, host, imit, 1995, ma...</td>\n",
       "      <td>although xml data store normal file ...</td>\n",
       "      <td>86c911 spawn host imit 1995 major pc...</td>\n",
       "      <td>although xml data store normal file ...</td>\n",
       "    </tr>\n",
       "  </tbody>\n",
       "</table>\n",
       "<p>23908 rows × 15 columns</p>\n",
       "</div>"
      ],
      "text/plain": [
       "               ID                             product_info market_cap  \\\n",
       "0      PROJ0x33d9  The head is the energy per unit weig...        N/A   \n",
       "1      PROJ0x4ec9  75 lakh and INR 7.Australia has comp...  large-cap   \n",
       "2      PROJ0x2caf  In November 2009, Intel agreed to pa...    mid-cap   \n",
       "3      PROJ0x126f  \" The European Academies' Science Ad...  small-cap   \n",
       "4      PROJ0x1b8c  Early deaths due to air pollution ha...  small-cap   \n",
       "...           ...                                      ...        ...   \n",
       "23903  PROJ0x558b  More recently, the oldest-known wood...        N/A   \n",
       "23904  PROJ0x5e60  Simple race games involve pure luck....        N/A   \n",
       "23905  PROJ0x1c95  Lee, Newton (2015). Cybersecurity: A...  large-cap   \n",
       "23906  PROJ0x7ff2  In recent years its support has accr...  small-cap   \n",
       "23907  PROJ0x5658  The 86C911 spawned a host of imitato...  small-cap   \n",
       "\n",
       "       Revenue (Cr)                       Company_background  \\\n",
       "0         10.485347   Biofuels are often produced from co...   \n",
       "1         36.334303   Power study, emerging markets accou...   \n",
       "2       -999.000000   Information services Information se...   \n",
       "3          4.892109  The healthcare industry (also called...   \n",
       "4       -999.000000   Other certificate systems that conf...   \n",
       "...             ...                                      ...   \n",
       "23903     22.856821   (There is a push in some parts of t...   \n",
       "23904      7.258065   Manufacturing, Engineering & Techno...   \n",
       "23905     18.932698  g.In an academic context, the Associ...   \n",
       "23906      2.494547  Dongfeng Motor holds a 12.5% stake, ...   \n",
       "23907      1.700797   Although XML data can be stored in ...   \n",
       "\n",
       "                   Type             Product                industry  \\\n",
       "0          green energy               Hydro          Power Industry   \n",
       "1        Light Vehicles               Truck     Automobile Industry   \n",
       "2              Hardware     Gaming hardware       Computer Industry   \n",
       "3                Pharma         homeopathic         Health Industry   \n",
       "4      non green energy            charcoal          Power Industry   \n",
       "...                 ...                 ...                     ...   \n",
       "23903          Software                  IT       Computer Industry   \n",
       "23904        Mechanical           Kids toys  Manufacturing Industry   \n",
       "23905          Security  antivirus-security       Computer Industry   \n",
       "23906    Heavy Vehicles                 JCP     Automobile Industry   \n",
       "23907        Production     Gaming hardware  Manufacturing Industry   \n",
       "\n",
       "       missing_revenue  missing_market_cap  \\\n",
       "0                    0                   1   \n",
       "1                    0                   0   \n",
       "2                    1                   0   \n",
       "3                    0                   0   \n",
       "4                    1                   0   \n",
       "...                ...                 ...   \n",
       "23903                0                   1   \n",
       "23904                0                   1   \n",
       "23905                0                   0   \n",
       "23906                0                   0   \n",
       "23907                0                   0   \n",
       "\n",
       "                           company_info_tokens  \\\n",
       "0      [biofuel, often, produc, corn, sugar...   \n",
       "1      [power, studi, emerg, market, accoun...   \n",
       "2      [inform, servic, inform, servic, ter...   \n",
       "3      [healthcar, industri, also, call, me...   \n",
       "4      [certif, system, confirm, sustain, b...   \n",
       "...                                        ...   \n",
       "23903  [push, part, softwar, industri, merg...   \n",
       "23904  [manufactur, engin, technolog, much,...   \n",
       "23905  [academ, context, associ, comput, ma...   \n",
       "23906  [dongfeng, motor, hold, stake, sheny...   \n",
       "23907  [although, xml, data, store, normal,...   \n",
       "\n",
       "                           product_info_tokens  \\\n",
       "0      [head, energi, per, unit, weight, un...   \n",
       "1      [75, lakh, inr, ha, complex, regul, ...   \n",
       "2      [novemb, 2009, intel, agre, pay, amd...   \n",
       "3      [european, academi, scienc, advisori...   \n",
       "4      [earli, death, due, air, pollut, est...   \n",
       "...                                        ...   \n",
       "23903  [recent, wooden, wheel, world, wa, f...   \n",
       "23904  [simpl, race, game, involv, pure, lu...   \n",
       "23905  [lee, newton, 2015, cybersecur, gene...   \n",
       "23906  [recent, year, support, ha, accru, 2...   \n",
       "23907  [86c911, spawn, host, imit, 1995, ma...   \n",
       "\n",
       "                    company_info_tokens_string  \\\n",
       "0      biofuel often produc corn sugar cane...   \n",
       "1      power studi emerg market account 51 ...   \n",
       "2      inform servic inform servic term som...   \n",
       "3      healthcar industri also call medic i...   \n",
       "4      certif system confirm sustain build ...   \n",
       "...                                        ...   \n",
       "23903  push part softwar industri merg desk...   \n",
       "23904  manufactur engin technolog much worl...   \n",
       "23905  academ context associ comput machine...   \n",
       "23906  dongfeng motor hold stake shenyang m...   \n",
       "23907  although xml data store normal file ...   \n",
       "\n",
       "                    product_info_tokens_string  \\\n",
       "0      head energi per unit weight unit mas...   \n",
       "1      75 lakh inr ha complex regul weight ...   \n",
       "2      novemb 2009 intel agre pay amd 1 amd...   \n",
       "3      european academi scienc advisori cou...   \n",
       "4      earli death due air pollut estim 200...   \n",
       "...                                        ...   \n",
       "23903  recent wooden wheel world wa found l...   \n",
       "23904  simpl race game involv pure luck cat...   \n",
       "23905  lee newton 2015 cybersecur gener ref...   \n",
       "23906  recent year support ha accru 2014 ge...   \n",
       "23907  86c911 spawn host imit 1995 major pc...   \n",
       "\n",
       "                               combined_string  \n",
       "0      biofuel often produc corn sugar cane...  \n",
       "1      power studi emerg market account 51 ...  \n",
       "2      inform servic inform servic term som...  \n",
       "3      healthcar industri also call medic i...  \n",
       "4      certif system confirm sustain build ...  \n",
       "...                                        ...  \n",
       "23903  push part softwar industri merg desk...  \n",
       "23904  manufactur engin technolog much worl...  \n",
       "23905  academ context associ comput machine...  \n",
       "23906  dongfeng motor hold stake shenyang m...  \n",
       "23907  although xml data store normal file ...  \n",
       "\n",
       "[23908 rows x 15 columns]"
      ]
     },
     "execution_count": 53,
     "metadata": {
      "tags": []
     },
     "output_type": "execute_result"
    }
   ],
   "source": [
    "# Generate stemmed token list for the 2 columns\n",
    "apply_func_to_df(masterdata, clean_text, 'Company_background','company_info_tokens')\n",
    "apply_func_to_df(masterdata, clean_text, 'product_info','product_info_tokens')\n",
    "\n",
    "# Generate string of tokenized stemmed words to make it easy to use later\n",
    "apply_func_to_df(masterdata, lambda x: \" \".join(x), 'company_info_tokens','company_info_tokens_string')\n",
    "\n",
    "apply_func_to_df(masterdata, lambda x: \" \".join(x), 'product_info_tokens','product_info_tokens_string')\n",
    "\n",
    "# Generate a combined string to generate first set of predictions\n",
    "\n",
    "masterdata['combined_string'] = masterdata['company_info_tokens_string'].str.cat(masterdata['product_info_tokens_string'], sep = \" \")\n",
    "\n",
    "masterdata"
   ]
  },
  {
   "cell_type": "code",
   "execution_count": null,
   "metadata": {
    "colab": {
     "base_uri": "https://localhost:8080/"
    },
    "id": "AG0HNd7QYoTd",
    "outputId": "6ab93b32-ec31-4bf5-a23d-ff5b0e1cfaa0"
   },
   "outputs": [
    {
     "data": {
      "text/html": [
       "<div>\n",
       "<style scoped>\n",
       "    .dataframe tbody tr th:only-of-type {\n",
       "        vertical-align: middle;\n",
       "    }\n",
       "\n",
       "    .dataframe tbody tr th {\n",
       "        vertical-align: top;\n",
       "    }\n",
       "\n",
       "    .dataframe thead th {\n",
       "        text-align: right;\n",
       "    }\n",
       "</style>\n",
       "<table border=\"1\" class=\"dataframe\">\n",
       "  <thead>\n",
       "    <tr style=\"text-align: right;\">\n",
       "      <th></th>\n",
       "      <th>ID</th>\n",
       "      <th>product_info</th>\n",
       "      <th>market_cap</th>\n",
       "      <th>Revenue (Cr)</th>\n",
       "      <th>Company_background</th>\n",
       "      <th>missing_revenue</th>\n",
       "      <th>missing_market_cap</th>\n",
       "      <th>company_info_tokens</th>\n",
       "      <th>product_info_tokens</th>\n",
       "      <th>company_info_tokens_string</th>\n",
       "      <th>product_info_tokens_string</th>\n",
       "      <th>combined_string</th>\n",
       "    </tr>\n",
       "  </thead>\n",
       "  <tbody>\n",
       "    <tr>\n",
       "      <th>0</th>\n",
       "      <td>PROJ0x51fa</td>\n",
       "      <td>ISBN 978-0-9758252-0-4. ISBN 978-0-1...</td>\n",
       "      <td>N/A</td>\n",
       "      <td>0.683632</td>\n",
       "      <td>The food processing industry is one ...</td>\n",
       "      <td>0</td>\n",
       "      <td>1</td>\n",
       "      <td>[food, process, industri, one, large...</td>\n",
       "      <td>[isbn, isbn, fruit, develop, flower,...</td>\n",
       "      <td>food process industri one largest in...</td>\n",
       "      <td>isbn isbn fruit develop flower bioim...</td>\n",
       "      <td>food process industri one largest in...</td>\n",
       "    </tr>\n",
       "    <tr>\n",
       "      <th>1</th>\n",
       "      <td>PROJ0x3c88</td>\n",
       "      <td>Wind energy penetration is the fract...</td>\n",
       "      <td>large-cap</td>\n",
       "      <td>-999.000000</td>\n",
       "      <td>Well-designed government policies th...</td>\n",
       "      <td>1</td>\n",
       "      <td>0</td>\n",
       "      <td>[govern, polici, promot, energi, sys...</td>\n",
       "      <td>[wind, energi, penetr, fraction, ene...</td>\n",
       "      <td>govern polici promot energi system t...</td>\n",
       "      <td>wind energi penetr fraction energi p...</td>\n",
       "      <td>govern polici promot energi system t...</td>\n",
       "    </tr>\n",
       "    <tr>\n",
       "      <th>2</th>\n",
       "      <td>PROJ0x3e72</td>\n",
       "      <td>it is another good example of Artifi...</td>\n",
       "      <td>mid-cap</td>\n",
       "      <td>2.519536</td>\n",
       "      <td>Information services Information se...</td>\n",
       "      <td>0</td>\n",
       "      <td>0</td>\n",
       "      <td>[inform, servic, inform, servic, ter...</td>\n",
       "      <td>[anoth, good, exampl, artifici, inte...</td>\n",
       "      <td>inform servic inform servic term som...</td>\n",
       "      <td>anoth good exampl artifici intellig ...</td>\n",
       "      <td>inform servic inform servic term som...</td>\n",
       "    </tr>\n",
       "    <tr>\n",
       "      <th>3</th>\n",
       "      <td>PROJ0x1129</td>\n",
       "      <td>The following setup is configured in...</td>\n",
       "      <td>small-cap</td>\n",
       "      <td>-999.000000</td>\n",
       "      <td>Not available</td>\n",
       "      <td>1</td>\n",
       "      <td>0</td>\n",
       "      <td>[avail]</td>\n",
       "      <td>[follow, setup, configur, sensor, de...</td>\n",
       "      <td>avail</td>\n",
       "      <td>follow setup configur sensor detect ...</td>\n",
       "      <td>avail follow setup configur sensor d...</td>\n",
       "    </tr>\n",
       "    <tr>\n",
       "      <th>4</th>\n",
       "      <td>PROJ0x9029</td>\n",
       "      <td>New vehicles will be issued a virtua...</td>\n",
       "      <td>small-cap</td>\n",
       "      <td>-999.000000</td>\n",
       "      <td>In 2007, there were about 806 millio...</td>\n",
       "      <td>1</td>\n",
       "      <td>0</td>\n",
       "      <td>[2007, 806, million, car, light, tru...</td>\n",
       "      <td>[new, vehicl, issu, virtual, identif...</td>\n",
       "      <td>2007 806 million car light truck roa...</td>\n",
       "      <td>new vehicl issu virtual identif cons...</td>\n",
       "      <td>2007 806 million car light truck roa...</td>\n",
       "    </tr>\n",
       "    <tr>\n",
       "      <th>...</th>\n",
       "      <td>...</td>\n",
       "      <td>...</td>\n",
       "      <td>...</td>\n",
       "      <td>...</td>\n",
       "      <td>...</td>\n",
       "      <td>...</td>\n",
       "      <td>...</td>\n",
       "      <td>...</td>\n",
       "      <td>...</td>\n",
       "      <td>...</td>\n",
       "      <td>...</td>\n",
       "      <td>...</td>\n",
       "    </tr>\n",
       "    <tr>\n",
       "      <th>15885</th>\n",
       "      <td>PROJ0x27fb</td>\n",
       "      <td>Today, parallel GPUs have begun maki...</td>\n",
       "      <td>N/A</td>\n",
       "      <td>55.683072</td>\n",
       "      <td>Some of the ethical issues associat...</td>\n",
       "      <td>0</td>\n",
       "      <td>1</td>\n",
       "      <td>[ethic, issu, associ, use, inform, t...</td>\n",
       "      <td>[today, parallel, gpu, begun, make, ...</td>\n",
       "      <td>ethic issu associ use inform technol...</td>\n",
       "      <td>today parallel gpu begun make comput...</td>\n",
       "      <td>ethic issu associ use inform technol...</td>\n",
       "    </tr>\n",
       "    <tr>\n",
       "      <th>15886</th>\n",
       "      <td>PROJ0x3261</td>\n",
       "      <td>In-service examples are still in use...</td>\n",
       "      <td>N/A</td>\n",
       "      <td>-999.000000</td>\n",
       "      <td>Tata Motors and Marcopolo have a joi...</td>\n",
       "      <td>1</td>\n",
       "      <td>1</td>\n",
       "      <td>[tata, motor, marcopolo, joint, vent...</td>\n",
       "      <td>[exampl, still, use, oper, often, mi...</td>\n",
       "      <td>tata motor marcopolo joint ventur ca...</td>\n",
       "      <td>exampl still use oper often minibus ...</td>\n",
       "      <td>tata motor marcopolo joint ventur ca...</td>\n",
       "    </tr>\n",
       "    <tr>\n",
       "      <th>15887</th>\n",
       "      <td>PROJ0x3aff</td>\n",
       "      <td>One use of the term \"computer securi...</td>\n",
       "      <td>large-cap</td>\n",
       "      <td>-999.000000</td>\n",
       "      <td>Since it is not possible to know wit...</td>\n",
       "      <td>1</td>\n",
       "      <td>0</td>\n",
       "      <td>[sinc, possibl, know, precis, extent...</td>\n",
       "      <td>[one, use, term, comput, secur, refe...</td>\n",
       "      <td>sinc possibl know precis extent some...</td>\n",
       "      <td>one use term comput secur refer tech...</td>\n",
       "      <td>sinc possibl know precis extent some...</td>\n",
       "    </tr>\n",
       "    <tr>\n",
       "      <th>15888</th>\n",
       "      <td>PROJ0x1082</td>\n",
       "      <td>The price of wind power is therefore...</td>\n",
       "      <td>N/A</td>\n",
       "      <td>3.167512</td>\n",
       "      <td>Cooking with polluting fuels causes ...</td>\n",
       "      <td>0</td>\n",
       "      <td>1</td>\n",
       "      <td>[cook, pollut, fuel, caus, harm, ind...</td>\n",
       "      <td>[price, wind, power, therefor, much,...</td>\n",
       "      <td>cook pollut fuel caus harm indoor ai...</td>\n",
       "      <td>price wind power therefor much stabl...</td>\n",
       "      <td>cook pollut fuel caus harm indoor ai...</td>\n",
       "    </tr>\n",
       "    <tr>\n",
       "      <th>15889</th>\n",
       "      <td>PROJ0x7cf7</td>\n",
       "      <td>Hahnemann used this term to distingu...</td>\n",
       "      <td>large-cap</td>\n",
       "      <td>-999.000000</td>\n",
       "      <td>Costs are projected to increase to ...</td>\n",
       "      <td>1</td>\n",
       "      <td>0</td>\n",
       "      <td>[cost, project, increas, 2016, peac,...</td>\n",
       "      <td>[hahnemann, use, thi, term, distingu...</td>\n",
       "      <td>cost project increas 2016 peac const...</td>\n",
       "      <td>hahnemann use thi term distinguish m...</td>\n",
       "      <td>cost project increas 2016 peac const...</td>\n",
       "    </tr>\n",
       "  </tbody>\n",
       "</table>\n",
       "<p>15890 rows × 12 columns</p>\n",
       "</div>"
      ],
      "text/plain": [
       "               ID                             product_info market_cap  \\\n",
       "0      PROJ0x51fa  ISBN 978-0-9758252-0-4. ISBN 978-0-1...        N/A   \n",
       "1      PROJ0x3c88  Wind energy penetration is the fract...  large-cap   \n",
       "2      PROJ0x3e72  it is another good example of Artifi...    mid-cap   \n",
       "3      PROJ0x1129  The following setup is configured in...  small-cap   \n",
       "4      PROJ0x9029  New vehicles will be issued a virtua...  small-cap   \n",
       "...           ...                                      ...        ...   \n",
       "15885  PROJ0x27fb  Today, parallel GPUs have begun maki...        N/A   \n",
       "15886  PROJ0x3261  In-service examples are still in use...        N/A   \n",
       "15887  PROJ0x3aff  One use of the term \"computer securi...  large-cap   \n",
       "15888  PROJ0x1082  The price of wind power is therefore...        N/A   \n",
       "15889  PROJ0x7cf7  Hahnemann used this term to distingu...  large-cap   \n",
       "\n",
       "       Revenue (Cr)                       Company_background  missing_revenue  \\\n",
       "0          0.683632  The food processing industry is one ...                0   \n",
       "1       -999.000000  Well-designed government policies th...                1   \n",
       "2          2.519536   Information services Information se...                0   \n",
       "3       -999.000000                            Not available                1   \n",
       "4       -999.000000  In 2007, there were about 806 millio...                1   \n",
       "...             ...                                      ...              ...   \n",
       "15885     55.683072   Some of the ethical issues associat...                0   \n",
       "15886   -999.000000  Tata Motors and Marcopolo have a joi...                1   \n",
       "15887   -999.000000  Since it is not possible to know wit...                1   \n",
       "15888      3.167512  Cooking with polluting fuels causes ...                0   \n",
       "15889   -999.000000   Costs are projected to increase to ...                1   \n",
       "\n",
       "       missing_market_cap                      company_info_tokens  \\\n",
       "0                       1  [food, process, industri, one, large...   \n",
       "1                       0  [govern, polici, promot, energi, sys...   \n",
       "2                       0  [inform, servic, inform, servic, ter...   \n",
       "3                       0                                  [avail]   \n",
       "4                       0  [2007, 806, million, car, light, tru...   \n",
       "...                   ...                                      ...   \n",
       "15885                   1  [ethic, issu, associ, use, inform, t...   \n",
       "15886                   1  [tata, motor, marcopolo, joint, vent...   \n",
       "15887                   0  [sinc, possibl, know, precis, extent...   \n",
       "15888                   1  [cook, pollut, fuel, caus, harm, ind...   \n",
       "15889                   0  [cost, project, increas, 2016, peac,...   \n",
       "\n",
       "                           product_info_tokens  \\\n",
       "0      [isbn, isbn, fruit, develop, flower,...   \n",
       "1      [wind, energi, penetr, fraction, ene...   \n",
       "2      [anoth, good, exampl, artifici, inte...   \n",
       "3      [follow, setup, configur, sensor, de...   \n",
       "4      [new, vehicl, issu, virtual, identif...   \n",
       "...                                        ...   \n",
       "15885  [today, parallel, gpu, begun, make, ...   \n",
       "15886  [exampl, still, use, oper, often, mi...   \n",
       "15887  [one, use, term, comput, secur, refe...   \n",
       "15888  [price, wind, power, therefor, much,...   \n",
       "15889  [hahnemann, use, thi, term, distingu...   \n",
       "\n",
       "                    company_info_tokens_string  \\\n",
       "0      food process industri one largest in...   \n",
       "1      govern polici promot energi system t...   \n",
       "2      inform servic inform servic term som...   \n",
       "3                                        avail   \n",
       "4      2007 806 million car light truck roa...   \n",
       "...                                        ...   \n",
       "15885  ethic issu associ use inform technol...   \n",
       "15886  tata motor marcopolo joint ventur ca...   \n",
       "15887  sinc possibl know precis extent some...   \n",
       "15888  cook pollut fuel caus harm indoor ai...   \n",
       "15889  cost project increas 2016 peac const...   \n",
       "\n",
       "                    product_info_tokens_string  \\\n",
       "0      isbn isbn fruit develop flower bioim...   \n",
       "1      wind energi penetr fraction energi p...   \n",
       "2      anoth good exampl artifici intellig ...   \n",
       "3      follow setup configur sensor detect ...   \n",
       "4      new vehicl issu virtual identif cons...   \n",
       "...                                        ...   \n",
       "15885  today parallel gpu begun make comput...   \n",
       "15886  exampl still use oper often minibus ...   \n",
       "15887  one use term comput secur refer tech...   \n",
       "15888  price wind power therefor much stabl...   \n",
       "15889  hahnemann use thi term distinguish m...   \n",
       "\n",
       "                               combined_string  \n",
       "0      food process industri one largest in...  \n",
       "1      govern polici promot energi system t...  \n",
       "2      inform servic inform servic term som...  \n",
       "3      avail follow setup configur sensor d...  \n",
       "4      2007 806 million car light truck roa...  \n",
       "...                                        ...  \n",
       "15885  ethic issu associ use inform technol...  \n",
       "15886  tata motor marcopolo joint ventur ca...  \n",
       "15887  sinc possibl know precis extent some...  \n",
       "15888  cook pollut fuel caus harm indoor ai...  \n",
       "15889  cost project increas 2016 peac const...  \n",
       "\n",
       "[15890 rows x 12 columns]"
      ]
     },
     "execution_count": 54,
     "metadata": {
      "tags": []
     },
     "output_type": "execute_result"
    }
   ],
   "source": [
    "# Generate stemmed token list for the 2 columns\n",
    "apply_func_to_df(test_data, clean_text, 'Company_background','company_info_tokens')\n",
    "apply_func_to_df(test_data, clean_text, 'product_info','product_info_tokens')\n",
    "\n",
    "# Generate string of tokenized stemmed words to make it easy to use later\n",
    "apply_func_to_df(test_data, lambda x: \" \".join(x), 'company_info_tokens','company_info_tokens_string')\n",
    "\n",
    "apply_func_to_df(test_data, lambda x: \" \".join(x), 'product_info_tokens','product_info_tokens_string')\n",
    "\n",
    "# Generate a combined string to generate first set of predictions\n",
    "\n",
    "test_data['combined_string'] = test_data['company_info_tokens_string'].str.cat(test_data['product_info_tokens_string'], sep = \" \")\n",
    "\n",
    "test_data"
   ]
  },
  {
   "cell_type": "markdown",
   "metadata": {
    "id": "EDYI5zzm7SJn"
   },
   "source": [
    "### Word clouds by Industries"
   ]
  },
  {
   "cell_type": "code",
   "execution_count": null,
   "metadata": {
    "id": "7rwa2Ppt7RHn"
   },
   "outputs": [],
   "source": [
    "\n",
    "### Run TF IDF to get features and predict clusters using global classifier\n",
    "\n",
    "tf_idf_v_combined = TfidfVectorizer(max_features = max_word_features)\n",
    "\n",
    "X_tfidf_combined = tf_idf_v_combined.fit_transform(masterdata['combined_string']).toarray()\n",
    "\n",
    "\n",
    "industry_list = masterdata['industry']\n",
    "all_words_list = masterdata['combined_string']\n",
    "word_positions = {v: k for k, v in tf_idf_v_combined.vocabulary_.items()}\n",
    "\n",
    "for industry in industry_list.unique():\n",
    "    \n",
    "    base_words = X_tfidf_combined[industry_list == industry]\n",
    "    \n",
    "    tfidf_sum = np.sum(base_words, axis=0)\n",
    "    tfidf_sum = np.asarray(tfidf_sum).reshape(-1)\n",
    "    top_indices = tfidf_sum.argsort()[-50:]\n",
    "\n",
    "    term_weights = {word_positions[in_idx]: tfidf_sum[in_idx] for in_idx in top_indices}\n",
    "\n",
    "    wc = WordCloud(width=400, height=800, background_color=\"white\")\n",
    "    wordcloud = wc.generate_from_frequencies(term_weights)\n",
    "    fig, ax = plt.subplots(figsize=(10, 6), dpi=100)\n",
    "    ax.imshow(wordcloud, interpolation='bilinear')\n",
    "    ax.axis(\"off\")\n",
    "    fig.suptitle(f\"Cluster {industry}\")\n",
    "    plt.show()"
   ]
  },
  {
   "cell_type": "markdown",
   "metadata": {
    "id": "Z7sznMzi9myQ"
   },
   "source": [
    "# Checkpoint 2 - END (Feather data)"
   ]
  },
  {
   "cell_type": "code",
   "execution_count": null,
   "metadata": {
    "id": "LsN7pRjR9s7x"
   },
   "outputs": [],
   "source": [
    "masterdata.to_pickle(save_path + 'masterdata.pk1')\n",
    "test_data.to_pickle(save_path + 'test_data.pk1')"
   ]
  },
  {
   "cell_type": "markdown",
   "metadata": {
    "id": "38Db6v1y9qjZ"
   },
   "source": [
    "# Checkpoint 3\n",
    "\n",
    "We will check various preprocessing methods and models to select best combination\n",
    "\n",
    "Models: Logistic, Naive Bayes, Random forest, Ada boost, Light GBM"
   ]
  },
  {
   "cell_type": "code",
   "execution_count": 5,
   "metadata": {
    "id": "6eHwAheH9mjF"
   },
   "outputs": [],
   "source": [
    "masterdata = pd.read_pickle(save_path + 'masterdata.pk1')\n",
    "test_data = pd.read_pickle(save_path + 'test_data.pk1')"
   ]
  },
  {
   "cell_type": "markdown",
   "metadata": {
    "id": "tTWzrKPZjvMo"
   },
   "source": [
    "### Onehot encode the categorical features\n",
    "\n",
    "We already know that market cap has only 4 values. We can use pandas dummies to simplify things"
   ]
  },
  {
   "cell_type": "code",
   "execution_count": 6,
   "metadata": {
    "id": "Y-0KOWQTjEwR"
   },
   "outputs": [],
   "source": [
    "cat_columns = ['market_cap']\n",
    "\n",
    "masterdata = pd.get_dummies(masterdata, columns = cat_columns)\n",
    "masterdata.drop(columns = ['market_cap_N/A'], inplace = True)\n",
    "\n",
    "\n",
    "test_data = pd.get_dummies(test_data, columns = cat_columns)\n",
    "test_data.drop(columns = ['market_cap_N/A'], inplace = True)\n"
   ]
  },
  {
   "cell_type": "code",
   "execution_count": 7,
   "metadata": {
    "colab": {
     "base_uri": "https://localhost:8080/"
    },
    "id": "WR8zKwetqeDM",
    "outputId": "9aee7dd1-1f00-4d0b-eb68-d7ebbfa46005"
   },
   "outputs": [
    {
     "data": {
      "text/plain": [
       "array(['ID', 'product_info', 'Revenue (Cr)', 'Company_background', 'Type',\n",
       "       'Product', 'industry', 'missing_revenue', 'missing_market_cap',\n",
       "       'company_info_tokens', 'product_info_tokens',\n",
       "       'company_info_tokens_string', 'product_info_tokens_string',\n",
       "       'combined_string', 'market_cap_large-cap', 'market_cap_mid-cap',\n",
       "       'market_cap_small-cap'], dtype=object)"
      ]
     },
     "execution_count": 7,
     "metadata": {
      "tags": []
     },
     "output_type": "execute_result"
    }
   ],
   "source": [
    "masterdata.columns.values"
   ]
  },
  {
   "cell_type": "code",
   "execution_count": 29,
   "metadata": {
    "id": "0k4boulY5qPL"
   },
   "outputs": [],
   "source": [
    "# Function to give cross validation score \n",
    "def check_model(model,X,y):\n",
    "  print(\"\\n Model is : \" + str(model) + \"\\n\")\n",
    "  score_arr = []\n",
    "  for target in ['Type','Product', 'industry']:\n",
    "    clf = model\n",
    "    print(\"\\n Score for \"+ target + \" :\")\n",
    "    scores = cross_val_score(clf, X, y[target], cv=3,scoring = 'f1_weighted')\n",
    "    print(\"Mean : \"+str(np.round(np.mean(scores),2)) + \" | \" + \"Min : \" + str(np.round(np.min(scores),2)) + \" | \" + \"Max : \" + str(np.round(np.max(scores),2)))\n",
    "    score_arr.append(np.round(np.mean(scores),2))\n",
    "    del clf\n",
    "\n",
    "  score_arr.append(np.round(0.3*score_arr[0] + 0.2*score_arr[1] + 0.5*score_arr[2], 2))\n",
    "  print(\"Final score : \" + str(score_arr[3]))\n",
    "  return score_arr"
   ]
  },
  {
   "cell_type": "markdown",
   "metadata": {
    "id": "Cv84qDru6MHP"
   },
   "source": [
    "## Determine # of words to use from text data\n",
    "\n",
    "We will use count vectorizer, tfidf to get a general cutoff of words that will help predictions"
   ]
  },
  {
   "cell_type": "markdown",
   "metadata": {
    "id": "snNpmCB61JN3"
   },
   "source": [
    "### Setting common variables here so we can use them consistently for testing"
   ]
  },
  {
   "cell_type": "code",
   "execution_count": 12,
   "metadata": {
    "id": "GcMk9MwM1SfM"
   },
   "outputs": [],
   "source": [
    "# We got ~22k entries when we used vectorizer without any max limit set\n",
    "\n",
    "# Considering 10000 features to start off\n",
    "# max_word_features = 5000 \n",
    "\n",
    "max_word_features = 10000\n",
    "max_word_range = [100, 500, 750, 1000, 2000, 3000, 4000, 5000]\n",
    "\n",
    "# Base features\n",
    "\n",
    "base_non_txt_features = ['Revenue (Cr)', 'missing_revenue', 'missing_market_cap',  \n",
    "       'market_cap_large-cap', 'market_cap_mid-cap', 'market_cap_small-cap']\n",
    "\n",
    "# Generate the base file of features\n",
    "\n",
    "X_non_txt = masterdata.loc[:,base_non_txt_features]\n",
    "test_non_txt = test_data.loc[:,base_non_txt_features]\n",
    "\n",
    "y = masterdata.loc[:,['Type', 'Product', 'industry']]"
   ]
  },
  {
   "cell_type": "markdown",
   "metadata": {
    "id": "q00gBlXspUXe"
   },
   "source": [
    "### Run count vectorizer for array of max features\n",
    "\n",
    "~22k distinct words. we will retrict max features and check results"
   ]
  },
  {
   "cell_type": "code",
   "execution_count": null,
   "metadata": {
    "id": "oeo76JvNpUXg"
   },
   "outputs": [],
   "source": [
    "# COnsidering all the text available so we can avoid any potential bias in model due to missing company info/product info\n",
    "\n",
    "for max_word_features in max_word_range:\n",
    "  print(\"Max words considered n= \" + str(max_word_features) + \"\\n\")\n",
    "\n",
    "  count_v_combined = CountVectorizer(max_features = max_word_features)\n",
    "  X_count_combined = count_v_combined.fit_transform(masterdata['combined_string']).toarray()\n",
    "  X_count_combined.astype(int)\n",
    "  X_count_final = np.concatenate((X_non_txt.to_numpy(), X_count_combined), axis = 1)\n",
    "  del X_count_combined\n",
    "\n",
    "  check_model(LogisticRegression(random_state = SEED), X_count_final, y)\n",
    "  check_model(RandomForestClassifier(random_state = SEED), X_count_final, y)"
   ]
  },
  {
   "cell_type": "code",
   "execution_count": null,
   "metadata": {
    "id": "Z1v1EkB664Yi"
   },
   "outputs": [],
   "source": [
    "for max_word_features in max_word_range:\n",
    "    print(\"Max words considered n= \" + str(max_word_features) + \"\\n\")\n",
    "\n",
    "    tf_idf_v_combined = TfidfVectorizer(max_features = max_word_features)\n",
    "\n",
    "    X_tfidf_combined = tf_idf_v_combined.fit_transform(masterdata['combined_string']).toarray()\n",
    "    X_tf_idf_final = np.concatenate((X_non_txt.to_numpy(), X_tfidf_combined), axis = 1)\n",
    "    del X_tfidf_combined\n",
    "\n",
    "    check_model(LogisticRegression(random_state = SEED), X_tf_idf_final, y)\n",
    "    check_model(RandomForestClassifier(random_state = SEED), X_tf_idf_final, y)"
   ]
  },
  {
   "cell_type": "markdown",
   "metadata": {
    "id": "qCw7XtFipKuV"
   },
   "source": [
    "## Trial 1 - Testing different models with all features (750 words)\n",
    "\n",
    "We will use standardization on word vectors before using them as features"
   ]
  },
  {
   "cell_type": "code",
   "execution_count": 19,
   "metadata": {
    "id": "DkJpioYWNO7t"
   },
   "outputs": [],
   "source": [
    "# We got ~22k entries when we used vectorizer without any max limit set\n",
    "\n",
    "# We will take top 750 words for further use in modeling\n",
    "# max_word_features = 5000 \n",
    "\n",
    "max_word_features = 750\n",
    "\n",
    "# Base features\n",
    "\n",
    "base_non_txt_features = ['Revenue (Cr)', 'missing_revenue', 'missing_market_cap',  \n",
    "       'market_cap_large-cap', 'market_cap_mid-cap', 'market_cap_small-cap']\n",
    "\n",
    "# Generate the base file of features\n",
    "\n",
    "X_non_txt = masterdata.loc[:,base_non_txt_features]\n",
    "test_non_txt = test_data.loc[:,base_non_txt_features]\n",
    "# Replace the -999 for revenue with NAN values so we can feed it to standard scaler\n",
    "X_non_txt.loc[X_non_txt['Revenue (Cr)'] == -999, ['Revenue (Cr)']] = np.NaN\n",
    "test_non_txt.loc[test_non_txt['Revenue (Cr)'] == -999, ['Revenue (Cr)']] = np.NaN\n",
    "\n",
    "y = masterdata.loc[:,['Type', 'Product', 'industry']]"
   ]
  },
  {
   "cell_type": "markdown",
   "metadata": {
    "id": "OGVpJKHfi0Rp"
   },
   "source": [
    "### Run TF IDF to get features and predict clusters using global classifier"
   ]
  },
  {
   "cell_type": "code",
   "execution_count": 20,
   "metadata": {
    "id": "yNs0TQDnlNII"
   },
   "outputs": [],
   "source": [
    "tf_idf_v_combined = TfidfVectorizer(max_features = max_word_features)\n",
    "\n",
    "X_tfidf_combined = tf_idf_v_combined.fit_transform(masterdata['combined_string']).toarray()"
   ]
  },
  {
   "cell_type": "code",
   "execution_count": 21,
   "metadata": {
    "id": "zmmbPOuEOkyC"
   },
   "outputs": [],
   "source": [
    "std_scaler_txt = StandardScaler()\n",
    "std_scaler_non_txt = StandardScaler()\n",
    "\n",
    "X_tfidf_combined = std_scaler_txt.fit_transform(X_tfidf_combined)\n",
    "X_non_txt['Revenue (Cr)'] = std_scaler_non_txt.fit_transform(X_non_txt[['Revenue (Cr)']])\n",
    "\n",
    "X_non_txt['Revenue (Cr)'] = X_non_txt['Revenue (Cr)'].fillna(-999)"
   ]
  },
  {
   "cell_type": "code",
   "execution_count": 23,
   "metadata": {
    "id": "BN7CNzCUOkSO"
   },
   "outputs": [],
   "source": [
    "X_tf_idf_final = np.concatenate((X_non_txt.to_numpy(), X_tfidf_combined), axis = 1)"
   ]
  },
  {
   "cell_type": "code",
   "execution_count": 24,
   "metadata": {
    "id": "VqdTgPZQCSaZ"
   },
   "outputs": [],
   "source": [
    "del X_tfidf_combined"
   ]
  },
  {
   "cell_type": "code",
   "execution_count": 25,
   "metadata": {
    "colab": {
     "base_uri": "https://localhost:8080/"
    },
    "id": "RxpuOagpTMpy",
    "outputId": "ba26a9a2-80a1-4a7f-c170-e4fd7e1baec5"
   },
   "outputs": [
    {
     "data": {
      "text/plain": [
       "array([[-7.09886310e-02,  0.00000000e+00,  1.00000000e+00, ...,\n",
       "         2.62088626e+00, -3.84502917e-01, -1.57939003e-01],\n",
       "       [ 2.37070767e+00,  0.00000000e+00,  0.00000000e+00, ...,\n",
       "        -3.38657363e-01, -3.84502917e-01, -1.57939003e-01],\n",
       "       [-9.99000000e+02,  1.00000000e+00,  0.00000000e+00, ...,\n",
       "        -3.38657363e-01, -3.84502917e-01, -1.57939003e-01],\n",
       "       ...,\n",
       "       [ 7.26949499e-01,  0.00000000e+00,  0.00000000e+00, ...,\n",
       "        -3.38657363e-01,  2.49670920e+00, -1.57939003e-01],\n",
       "       [-8.25800761e-01,  0.00000000e+00,  0.00000000e+00, ...,\n",
       "        -3.38657363e-01,  3.44774720e+00, -1.57939003e-01],\n",
       "       [-9.00778538e-01,  0.00000000e+00,  0.00000000e+00, ...,\n",
       "         2.27528089e+00,  1.92448239e+00, -1.57939003e-01]])"
      ]
     },
     "execution_count": 25,
     "metadata": {
      "tags": []
     },
     "output_type": "execute_result"
    }
   ],
   "source": [
    "X_tf_idf_final"
   ]
  },
  {
   "cell_type": "code",
   "execution_count": 30,
   "metadata": {
    "colab": {
     "base_uri": "https://localhost:8080/"
    },
    "id": "_2xypOykFfxK",
    "outputId": "cba7e95e-9037-48ae-d322-46a2825a10a7"
   },
   "outputs": [
    {
     "name": "stdout",
     "output_type": "stream",
     "text": [
      "\n",
      " Model is : LogisticRegression(C=1.0, class_weight=None, dual=False, fit_intercept=True,\n",
      "                   intercept_scaling=1, l1_ratio=None, max_iter=100,\n",
      "                   multi_class='auto', n_jobs=None, penalty='l2',\n",
      "                   random_state=20, solver='lbfgs', tol=0.0001, verbose=0,\n",
      "                   warm_start=False)\n",
      "\n",
      "\n",
      " Score for Type :\n",
      "Mean : 0.68 | Min : 0.68 | Max : 0.68\n",
      "\n",
      " Score for Product :\n",
      "Mean : 0.94 | Min : 0.93 | Max : 0.94\n",
      "\n",
      " Score for industry :\n",
      "Mean : 0.86 | Min : 0.86 | Max : 0.86\n",
      "Final score : 0.82\n",
      "\n",
      " Model is : GaussianNB(priors=None, var_smoothing=1e-09)\n",
      "\n",
      "\n",
      " Score for Type :\n",
      "Mean : 0.62 | Min : 0.62 | Max : 0.62\n",
      "\n",
      " Score for Product :\n",
      "Mean : 0.88 | Min : 0.88 | Max : 0.89\n",
      "\n",
      " Score for industry :\n",
      "Mean : 0.83 | Min : 0.83 | Max : 0.84\n",
      "Final score : 0.78\n",
      "\n",
      " Model is : RandomForestClassifier(bootstrap=True, ccp_alpha=0.0, class_weight=None,\n",
      "                       criterion='gini', max_depth=None, max_features='auto',\n",
      "                       max_leaf_nodes=None, max_samples=None,\n",
      "                       min_impurity_decrease=0.0, min_impurity_split=None,\n",
      "                       min_samples_leaf=1, min_samples_split=2,\n",
      "                       min_weight_fraction_leaf=0.0, n_estimators=100,\n",
      "                       n_jobs=None, oob_score=False, random_state=20, verbose=0,\n",
      "                       warm_start=False)\n",
      "\n",
      "\n",
      " Score for Type :\n",
      "Mean : 0.73 | Min : 0.72 | Max : 0.73\n",
      "\n",
      " Score for Product :\n",
      "Mean : 0.92 | Min : 0.91 | Max : 0.92\n",
      "\n",
      " Score for industry :\n",
      "Mean : 0.89 | Min : 0.89 | Max : 0.9\n",
      "Final score : 0.85\n",
      "\n",
      " Model is : LGBMClassifier(boosting_type='gbdt', class_weight=None, colsample_bytree=1.0,\n",
      "               importance_type='split', learning_rate=0.1, max_depth=-1,\n",
      "               min_child_samples=20, min_child_weight=0.001, min_split_gain=0.0,\n",
      "               n_estimators=100, n_jobs=-1, num_leaves=31, objective=None,\n",
      "               random_state=20, reg_alpha=0.0, reg_lambda=0.0, silent=True,\n",
      "               subsample=1.0, subsample_for_bin=200000, subsample_freq=0)\n",
      "\n",
      "\n",
      " Score for Type :\n",
      "Mean : 0.75 | Min : 0.75 | Max : 0.76\n",
      "\n",
      " Score for Product :\n",
      "Mean : 0.93 | Min : 0.92 | Max : 0.93\n",
      "\n",
      " Score for industry :\n",
      "Mean : 0.91 | Min : 0.91 | Max : 0.92\n",
      "Final score : 0.87\n"
     ]
    }
   ],
   "source": [
    "# CHeck models using tfidf features\n",
    "\n",
    "lr_score = check_model(LogisticRegression(random_state = SEED), X_tf_idf_final, y)\n",
    "GNB_score = check_model(GaussianNB(), X_tf_idf_final, y)\n",
    "rf_score = check_model(RandomForestClassifier(random_state = SEED), X_tf_idf_final, y)\n",
    "lgbm_score = check_model(lgb.LGBMClassifier(random_state = SEED), X_tf_idf_final, y)"
   ]
  },
  {
   "cell_type": "code",
   "execution_count": 31,
   "metadata": {
    "colab": {
     "base_uri": "https://localhost:8080/",
     "height": 175
    },
    "id": "eGczhXKOeFsE",
    "outputId": "9e5280eb-909f-4c53-c386-04e1a5a31996"
   },
   "outputs": [
    {
     "data": {
      "text/html": [
       "<div>\n",
       "<style scoped>\n",
       "    .dataframe tbody tr th:only-of-type {\n",
       "        vertical-align: middle;\n",
       "    }\n",
       "\n",
       "    .dataframe tbody tr th {\n",
       "        vertical-align: top;\n",
       "    }\n",
       "\n",
       "    .dataframe thead th {\n",
       "        text-align: right;\n",
       "    }\n",
       "</style>\n",
       "<table border=\"1\" class=\"dataframe\">\n",
       "  <thead>\n",
       "    <tr style=\"text-align: right;\">\n",
       "      <th></th>\n",
       "      <th>Type</th>\n",
       "      <th>Product</th>\n",
       "      <th>Industry</th>\n",
       "      <th>Final score</th>\n",
       "      <th>Model</th>\n",
       "    </tr>\n",
       "  </thead>\n",
       "  <tbody>\n",
       "    <tr>\n",
       "      <th>0</th>\n",
       "      <td>0.68</td>\n",
       "      <td>0.94</td>\n",
       "      <td>0.86</td>\n",
       "      <td>0.82</td>\n",
       "      <td>LR</td>\n",
       "    </tr>\n",
       "    <tr>\n",
       "      <th>1</th>\n",
       "      <td>0.62</td>\n",
       "      <td>0.88</td>\n",
       "      <td>0.83</td>\n",
       "      <td>0.78</td>\n",
       "      <td>GNB</td>\n",
       "    </tr>\n",
       "    <tr>\n",
       "      <th>2</th>\n",
       "      <td>0.73</td>\n",
       "      <td>0.92</td>\n",
       "      <td>0.89</td>\n",
       "      <td>0.85</td>\n",
       "      <td>RF</td>\n",
       "    </tr>\n",
       "    <tr>\n",
       "      <th>3</th>\n",
       "      <td>0.75</td>\n",
       "      <td>0.93</td>\n",
       "      <td>0.91</td>\n",
       "      <td>0.87</td>\n",
       "      <td>LGBM</td>\n",
       "    </tr>\n",
       "  </tbody>\n",
       "</table>\n",
       "</div>"
      ],
      "text/plain": [
       "   Type Product Industry Final score Model\n",
       "0  0.68    0.94     0.86        0.82    LR\n",
       "1  0.62    0.88     0.83        0.78   GNB\n",
       "2  0.73    0.92     0.89        0.85    RF\n",
       "3  0.75    0.93     0.91        0.87  LGBM"
      ]
     },
     "execution_count": 31,
     "metadata": {
      "tags": []
     },
     "output_type": "execute_result"
    }
   ],
   "source": [
    "lr_score.append('LR')\n",
    "GNB_score.append('GNB')\n",
    "rf_score.append('RF')\n",
    "lgbm_score.append('LGBM')\n",
    "\n",
    "score_table = pd.DataFrame(data = np.row_stack([lr_score, GNB_score, rf_score, lgbm_score]), columns = ['Type','Product','Industry','Final score','Model'])\n",
    "score_table"
   ]
  },
  {
   "cell_type": "code",
   "execution_count": null,
   "metadata": {
    "id": "cCmAvChyo0Ue"
   },
   "outputs": [],
   "source": []
  },
  {
   "cell_type": "markdown",
   "metadata": {
    "id": "HVRWmk6Ho0u8"
   },
   "source": [
    "## Trial 2 - Testing different models with only text features (750 words)\n",
    "\n",
    "We will use standardization on word vectors before using them as features"
   ]
  },
  {
   "cell_type": "code",
   "execution_count": null,
   "metadata": {
    "id": "G8lyrlF3o0u-"
   },
   "outputs": [],
   "source": [
    "# We got ~22k entries when we used vectorizer without any max limit set\n",
    "\n",
    "# We will take top 750 words for further use in modeling\n",
    "# max_word_features = 5000 \n",
    "\n",
    "max_word_features = 750\n",
    "\n",
    "# Base features\n",
    "\n",
    "#base_non_txt_features = ['Revenue (Cr)', 'missing_revenue', 'missing_market_cap',  \n",
    "       'market_cap_large-cap', 'market_cap_mid-cap', 'market_cap_small-cap']\n",
    "\n",
    "# Generate the base file of features\n",
    "\n",
    "#X_non_txt = masterdata.loc[:,base_non_txt_features]\n",
    "#test_non_txt = test_data.loc[:,base_non_txt_features]\n",
    "# Replace the -999 for revenue with NAN values so we can feed it to standard scaler\n",
    "#X_non_txt.loc[X_non_txt['Revenue (Cr)'] == -999, ['Revenue (Cr)']] = np.NaN\n",
    "#test_non_txt.loc[test_non_txt['Revenue (Cr)'] == -999, ['Revenue (Cr)']] = np.NaN\n",
    "\n",
    "y = masterdata.loc[:,['Type', 'Product', 'industry']]"
   ]
  },
  {
   "cell_type": "markdown",
   "metadata": {
    "id": "RZBCSplCo0u-"
   },
   "source": [
    "### Run TF IDF to get features and predict clusters using global classifier"
   ]
  },
  {
   "cell_type": "code",
   "execution_count": null,
   "metadata": {
    "id": "0wWNrzQgo0vA"
   },
   "outputs": [],
   "source": [
    "tf_idf_v_combined = TfidfVectorizer(max_features = max_word_features)\n",
    "\n",
    "X_tfidf_combined = tf_idf_v_combined.fit_transform(masterdata['combined_string']).toarray()"
   ]
  },
  {
   "cell_type": "code",
   "execution_count": null,
   "metadata": {
    "id": "d8j1rDYTo0vA"
   },
   "outputs": [],
   "source": [
    "std_scaler_txt = StandardScaler()\n",
    "#std_scaler_non_txt = StandardScaler()\n",
    "\n",
    "X_tfidf_combined = std_scaler_txt.fit_transform(X_tfidf_combined)\n",
    "#X_non_txt['Revenue (Cr)'] = std_scaler_non_txt.fit_transform(X_non_txt[['Revenue (Cr)']])\n",
    "\n",
    "#X_non_txt['Revenue (Cr)'] = X_non_txt['Revenue (Cr)'].fillna(-999)"
   ]
  },
  {
   "cell_type": "code",
   "execution_count": null,
   "metadata": {
    "id": "68XZrGZTo0vC"
   },
   "outputs": [],
   "source": [
    "X_tf_idf_final =  X_tfidf_combined"
   ]
  },
  {
   "cell_type": "code",
   "execution_count": null,
   "metadata": {
    "id": "QANjvH0So0vC"
   },
   "outputs": [],
   "source": [
    "del X_tfidf_combined"
   ]
  },
  {
   "cell_type": "code",
   "execution_count": null,
   "metadata": {
    "id": "YwScSaino0vE"
   },
   "outputs": [],
   "source": [
    "# CHeck models using tfidf features\n",
    "\n",
    "lr_score = check_model(LogisticRegression(random_state = SEED), X_tf_idf_final, y)\n",
    "GNB_score = check_model(GaussianNB(), X_tf_idf_final, y)\n",
    "rf_score = check_model(RandomForestClassifier(random_state = SEED), X_tf_idf_final, y)\n",
    "lgbm_score = check_model(lgb.LGBMClassifier(random_state = SEED), X_tf_idf_final, y)"
   ]
  },
  {
   "cell_type": "code",
   "execution_count": null,
   "metadata": {
    "colab": {
     "base_uri": "https://localhost:8080/",
     "height": 175
    },
    "id": "-n1fh50Eo0vF",
    "outputId": "9e5280eb-909f-4c53-c386-04e1a5a31996"
   },
   "outputs": [
    {
     "data": {
      "text/html": [
       "<div>\n",
       "<style scoped>\n",
       "    .dataframe tbody tr th:only-of-type {\n",
       "        vertical-align: middle;\n",
       "    }\n",
       "\n",
       "    .dataframe tbody tr th {\n",
       "        vertical-align: top;\n",
       "    }\n",
       "\n",
       "    .dataframe thead th {\n",
       "        text-align: right;\n",
       "    }\n",
       "</style>\n",
       "<table border=\"1\" class=\"dataframe\">\n",
       "  <thead>\n",
       "    <tr style=\"text-align: right;\">\n",
       "      <th></th>\n",
       "      <th>Type</th>\n",
       "      <th>Product</th>\n",
       "      <th>Industry</th>\n",
       "      <th>Final score</th>\n",
       "      <th>Model</th>\n",
       "    </tr>\n",
       "  </thead>\n",
       "  <tbody>\n",
       "    <tr>\n",
       "      <th>0</th>\n",
       "      <td>0.68</td>\n",
       "      <td>0.94</td>\n",
       "      <td>0.86</td>\n",
       "      <td>0.82</td>\n",
       "      <td>LR</td>\n",
       "    </tr>\n",
       "    <tr>\n",
       "      <th>1</th>\n",
       "      <td>0.62</td>\n",
       "      <td>0.88</td>\n",
       "      <td>0.83</td>\n",
       "      <td>0.78</td>\n",
       "      <td>GNB</td>\n",
       "    </tr>\n",
       "    <tr>\n",
       "      <th>2</th>\n",
       "      <td>0.73</td>\n",
       "      <td>0.92</td>\n",
       "      <td>0.89</td>\n",
       "      <td>0.85</td>\n",
       "      <td>RF</td>\n",
       "    </tr>\n",
       "    <tr>\n",
       "      <th>3</th>\n",
       "      <td>0.75</td>\n",
       "      <td>0.93</td>\n",
       "      <td>0.91</td>\n",
       "      <td>0.87</td>\n",
       "      <td>LGBM</td>\n",
       "    </tr>\n",
       "  </tbody>\n",
       "</table>\n",
       "</div>"
      ],
      "text/plain": [
       "   Type Product Industry Final score Model\n",
       "0  0.68    0.94     0.86        0.82    LR\n",
       "1  0.62    0.88     0.83        0.78   GNB\n",
       "2  0.73    0.92     0.89        0.85    RF\n",
       "3  0.75    0.93     0.91        0.87  LGBM"
      ]
     },
     "execution_count": 31,
     "metadata": {
      "tags": []
     },
     "output_type": "execute_result"
    }
   ],
   "source": [
    "lr_score.append('LR')\n",
    "GNB_score.append('GNB')\n",
    "rf_score.append('RF')\n",
    "lgbm_score.append('LGBM')\n",
    "\n",
    "score_table = pd.DataFrame(data = np.row_stack([lr_score, GNB_score, rf_score, lgbm_score]), columns = ['Type','Product','Industry','Final score','Model'])\n",
    "score_table"
   ]
  },
  {
   "cell_type": "markdown",
   "metadata": {
    "id": "RAzvaYp9pef0"
   },
   "source": [
    "## Trial 3 - Testing different models with all features (1000 words)\n",
    "\n",
    "We will use standardization on word vectors before using them as features"
   ]
  },
  {
   "cell_type": "code",
   "execution_count": 32,
   "metadata": {
    "id": "VChCA0VQpef1"
   },
   "outputs": [],
   "source": [
    "# We got ~22k entries when we used vectorizer without any max limit set\n",
    "\n",
    "# We will take top 750 words for further use in modeling\n",
    "# max_word_features = 5000 \n",
    "\n",
    "max_word_features = 1000\n",
    "\n",
    "# Base features\n",
    "\n",
    "base_non_txt_features = ['Revenue (Cr)', 'missing_revenue', 'missing_market_cap',  \n",
    "       'market_cap_large-cap', 'market_cap_mid-cap', 'market_cap_small-cap']\n",
    "\n",
    "# Generate the base file of features\n",
    "\n",
    "X_non_txt = masterdata.loc[:,base_non_txt_features]\n",
    "test_non_txt = test_data.loc[:,base_non_txt_features]\n",
    "# Replace the -999 for revenue with NAN values so we can feed it to standard scaler\n",
    "X_non_txt.loc[X_non_txt['Revenue (Cr)'] == -999, ['Revenue (Cr)']] = np.NaN\n",
    "test_non_txt.loc[test_non_txt['Revenue (Cr)'] == -999, ['Revenue (Cr)']] = np.NaN\n",
    "\n",
    "y = masterdata.loc[:,['Type', 'Product', 'industry']]"
   ]
  },
  {
   "cell_type": "markdown",
   "metadata": {
    "id": "eV-M7_kApef1"
   },
   "source": [
    "### Run TF IDF to get features and predict clusters using global classifier"
   ]
  },
  {
   "cell_type": "code",
   "execution_count": 33,
   "metadata": {
    "id": "DkdZt_Gspef1"
   },
   "outputs": [],
   "source": [
    "tf_idf_v_combined = TfidfVectorizer(max_features = max_word_features)\n",
    "\n",
    "X_tfidf_combined = tf_idf_v_combined.fit_transform(masterdata['combined_string']).toarray()"
   ]
  },
  {
   "cell_type": "code",
   "execution_count": 34,
   "metadata": {
    "id": "Wk-EgOuspef1"
   },
   "outputs": [],
   "source": [
    "std_scaler_txt = StandardScaler()\n",
    "std_scaler_non_txt = StandardScaler()\n",
    "\n",
    "X_tfidf_combined = std_scaler_txt.fit_transform(X_tfidf_combined)\n",
    "X_non_txt['Revenue (Cr)'] = std_scaler_non_txt.fit_transform(X_non_txt[['Revenue (Cr)']])\n",
    "\n",
    "X_non_txt['Revenue (Cr)'] = X_non_txt['Revenue (Cr)'].fillna(-999)"
   ]
  },
  {
   "cell_type": "code",
   "execution_count": 35,
   "metadata": {
    "id": "y18xdBadpef2"
   },
   "outputs": [],
   "source": [
    "X_tf_idf_final = np.concatenate((X_non_txt.to_numpy(), X_tfidf_combined), axis = 1)"
   ]
  },
  {
   "cell_type": "code",
   "execution_count": 36,
   "metadata": {
    "id": "YdPv6us5pef3"
   },
   "outputs": [],
   "source": [
    "del X_tfidf_combined"
   ]
  },
  {
   "cell_type": "code",
   "execution_count": 37,
   "metadata": {
    "colab": {
     "base_uri": "https://localhost:8080/"
    },
    "id": "woRFv45Ipef3",
    "outputId": "07428642-ef51-45ea-cdc3-40345ac3572c"
   },
   "outputs": [
    {
     "name": "stdout",
     "output_type": "stream",
     "text": [
      "\n",
      " Model is : LogisticRegression(C=1.0, class_weight=None, dual=False, fit_intercept=True,\n",
      "                   intercept_scaling=1, l1_ratio=None, max_iter=100,\n",
      "                   multi_class='auto', n_jobs=None, penalty='l2',\n",
      "                   random_state=20, solver='lbfgs', tol=0.0001, verbose=0,\n",
      "                   warm_start=False)\n",
      "\n",
      "\n",
      " Score for Type :\n",
      "Mean : 0.68 | Min : 0.68 | Max : 0.69\n",
      "\n",
      " Score for Product :\n",
      "Mean : 0.95 | Min : 0.95 | Max : 0.95\n",
      "\n",
      " Score for industry :\n",
      "Mean : 0.86 | Min : 0.86 | Max : 0.86\n",
      "Final score : 0.82\n",
      "\n",
      " Model is : GaussianNB(priors=None, var_smoothing=1e-09)\n",
      "\n",
      "\n",
      " Score for Type :\n",
      "Mean : 0.63 | Min : 0.63 | Max : 0.63\n",
      "\n",
      " Score for Product :\n",
      "Mean : 0.91 | Min : 0.91 | Max : 0.92\n",
      "\n",
      " Score for industry :\n",
      "Mean : 0.85 | Min : 0.85 | Max : 0.85\n",
      "Final score : 0.8\n",
      "\n",
      " Model is : RandomForestClassifier(bootstrap=True, ccp_alpha=0.0, class_weight=None,\n",
      "                       criterion='gini', max_depth=None, max_features='auto',\n",
      "                       max_leaf_nodes=None, max_samples=None,\n",
      "                       min_impurity_decrease=0.0, min_impurity_split=None,\n",
      "                       min_samples_leaf=1, min_samples_split=2,\n",
      "                       min_weight_fraction_leaf=0.0, n_estimators=100,\n",
      "                       n_jobs=None, oob_score=False, random_state=20, verbose=0,\n",
      "                       warm_start=False)\n",
      "\n",
      "\n",
      " Score for Type :\n",
      "Mean : 0.73 | Min : 0.72 | Max : 0.74\n",
      "\n",
      " Score for Product :\n",
      "Mean : 0.93 | Min : 0.93 | Max : 0.94\n",
      "\n",
      " Score for industry :\n",
      "Mean : 0.89 | Min : 0.89 | Max : 0.89\n",
      "Final score : 0.85\n",
      "\n",
      " Model is : LGBMClassifier(boosting_type='gbdt', class_weight=None, colsample_bytree=1.0,\n",
      "               importance_type='split', learning_rate=0.1, max_depth=-1,\n",
      "               min_child_samples=20, min_child_weight=0.001, min_split_gain=0.0,\n",
      "               n_estimators=100, n_jobs=-1, num_leaves=31, objective=None,\n",
      "               random_state=20, reg_alpha=0.0, reg_lambda=0.0, silent=True,\n",
      "               subsample=1.0, subsample_for_bin=200000, subsample_freq=0)\n",
      "\n",
      "\n",
      " Score for Type :\n",
      "Mean : 0.76 | Min : 0.75 | Max : 0.76\n",
      "\n",
      " Score for Product :\n",
      "Mean : 0.94 | Min : 0.94 | Max : 0.94\n",
      "\n",
      " Score for industry :\n",
      "Mean : 0.91 | Min : 0.91 | Max : 0.92\n",
      "Final score : 0.87\n"
     ]
    }
   ],
   "source": [
    "# CHeck models using tfidf features\n",
    "\n",
    "lr_score = check_model(LogisticRegression(random_state = SEED), X_tf_idf_final, y)\n",
    "GNB_score = check_model(GaussianNB(), X_tf_idf_final, y)\n",
    "rf_score = check_model(RandomForestClassifier(random_state = SEED), X_tf_idf_final, y)\n",
    "lgbm_score = check_model(lgb.LGBMClassifier(random_state = SEED), X_tf_idf_final, y)"
   ]
  },
  {
   "cell_type": "code",
   "execution_count": 38,
   "metadata": {
    "colab": {
     "base_uri": "https://localhost:8080/",
     "height": 175
    },
    "id": "YLxcSGPZpef4",
    "outputId": "2d248f29-d825-43d4-895c-5baf03e765c0"
   },
   "outputs": [
    {
     "data": {
      "text/html": [
       "<div>\n",
       "<style scoped>\n",
       "    .dataframe tbody tr th:only-of-type {\n",
       "        vertical-align: middle;\n",
       "    }\n",
       "\n",
       "    .dataframe tbody tr th {\n",
       "        vertical-align: top;\n",
       "    }\n",
       "\n",
       "    .dataframe thead th {\n",
       "        text-align: right;\n",
       "    }\n",
       "</style>\n",
       "<table border=\"1\" class=\"dataframe\">\n",
       "  <thead>\n",
       "    <tr style=\"text-align: right;\">\n",
       "      <th></th>\n",
       "      <th>Type</th>\n",
       "      <th>Product</th>\n",
       "      <th>Industry</th>\n",
       "      <th>Final score</th>\n",
       "      <th>Model</th>\n",
       "    </tr>\n",
       "  </thead>\n",
       "  <tbody>\n",
       "    <tr>\n",
       "      <th>0</th>\n",
       "      <td>0.68</td>\n",
       "      <td>0.95</td>\n",
       "      <td>0.86</td>\n",
       "      <td>0.82</td>\n",
       "      <td>LR</td>\n",
       "    </tr>\n",
       "    <tr>\n",
       "      <th>1</th>\n",
       "      <td>0.63</td>\n",
       "      <td>0.91</td>\n",
       "      <td>0.85</td>\n",
       "      <td>0.8</td>\n",
       "      <td>GNB</td>\n",
       "    </tr>\n",
       "    <tr>\n",
       "      <th>2</th>\n",
       "      <td>0.73</td>\n",
       "      <td>0.93</td>\n",
       "      <td>0.89</td>\n",
       "      <td>0.85</td>\n",
       "      <td>RF</td>\n",
       "    </tr>\n",
       "    <tr>\n",
       "      <th>3</th>\n",
       "      <td>0.76</td>\n",
       "      <td>0.94</td>\n",
       "      <td>0.91</td>\n",
       "      <td>0.87</td>\n",
       "      <td>LGBM</td>\n",
       "    </tr>\n",
       "  </tbody>\n",
       "</table>\n",
       "</div>"
      ],
      "text/plain": [
       "   Type Product Industry Final score Model\n",
       "0  0.68    0.95     0.86        0.82    LR\n",
       "1  0.63    0.91     0.85         0.8   GNB\n",
       "2  0.73    0.93     0.89        0.85    RF\n",
       "3  0.76    0.94     0.91        0.87  LGBM"
      ]
     },
     "execution_count": 38,
     "metadata": {
      "tags": []
     },
     "output_type": "execute_result"
    }
   ],
   "source": [
    "lr_score.append('LR')\n",
    "GNB_score.append('GNB')\n",
    "rf_score.append('RF')\n",
    "lgbm_score.append('LGBM')\n",
    "\n",
    "score_table = pd.DataFrame(data = np.row_stack([lr_score, GNB_score, rf_score, lgbm_score]), columns = ['Type','Product','Industry','Final score','Model'])\n",
    "score_table"
   ]
  },
  {
   "cell_type": "markdown",
   "metadata": {
    "id": "Bgp0B75RpWfI"
   },
   "source": [
    "## Trial 4 - Testing different models with only text features (1000 words)\n",
    "\n",
    "We will use standardization on word vectors before using them as features"
   ]
  },
  {
   "cell_type": "code",
   "execution_count": null,
   "metadata": {
    "id": "fstsztCMpWfJ"
   },
   "outputs": [],
   "source": [
    "# We got ~22k entries when we used vectorizer without any max limit set\n",
    "\n",
    "# We will take top 750 words for further use in modeling\n",
    "# max_word_features = 5000 \n",
    "\n",
    "max_word_features = 1000\n",
    "\n",
    "# Base features\n",
    "\n",
    "#base_non_txt_features = ['Revenue (Cr)', 'missing_revenue', 'missing_market_cap',  \n",
    "       'market_cap_large-cap', 'market_cap_mid-cap', 'market_cap_small-cap']\n",
    "\n",
    "# Generate the base file of features\n",
    "\n",
    "#X_non_txt = masterdata.loc[:,base_non_txt_features]\n",
    "#test_non_txt = test_data.loc[:,base_non_txt_features]\n",
    "# Replace the -999 for revenue with NAN values so we can feed it to standard scaler\n",
    "#X_non_txt.loc[X_non_txt['Revenue (Cr)'] == -999, ['Revenue (Cr)']] = np.NaN\n",
    "#test_non_txt.loc[test_non_txt['Revenue (Cr)'] == -999, ['Revenue (Cr)']] = np.NaN\n",
    "\n",
    "y = masterdata.loc[:,['Type', 'Product', 'industry']]"
   ]
  },
  {
   "cell_type": "markdown",
   "metadata": {
    "id": "i91neaRVpWfJ"
   },
   "source": [
    "### Run TF IDF to get features and predict clusters using global classifier"
   ]
  },
  {
   "cell_type": "code",
   "execution_count": null,
   "metadata": {
    "id": "BAT0YauopWfK"
   },
   "outputs": [],
   "source": [
    "tf_idf_v_combined = TfidfVectorizer(max_features = max_word_features)\n",
    "\n",
    "X_tfidf_combined = tf_idf_v_combined.fit_transform(masterdata['combined_string']).toarray()"
   ]
  },
  {
   "cell_type": "code",
   "execution_count": null,
   "metadata": {
    "id": "jHEMDLUBpWfK"
   },
   "outputs": [],
   "source": [
    "std_scaler_txt = StandardScaler()\n",
    "#std_scaler_non_txt = StandardScaler()\n",
    "\n",
    "X_tfidf_combined = std_scaler_txt.fit_transform(X_tfidf_combined)\n",
    "#X_non_txt['Revenue (Cr)'] = std_scaler_non_txt.fit_transform(X_non_txt[['Revenue (Cr)']])\n",
    "\n",
    "#X_non_txt['Revenue (Cr)'] = X_non_txt['Revenue (Cr)'].fillna(-999)"
   ]
  },
  {
   "cell_type": "code",
   "execution_count": null,
   "metadata": {
    "id": "aqJ7zlYOpWfM"
   },
   "outputs": [],
   "source": [
    "X_tf_idf_final =  X_tfidf_combined"
   ]
  },
  {
   "cell_type": "code",
   "execution_count": null,
   "metadata": {
    "id": "X_z3QSKrpWfM"
   },
   "outputs": [],
   "source": [
    "del X_tfidf_combined"
   ]
  },
  {
   "cell_type": "code",
   "execution_count": null,
   "metadata": {
    "id": "Cc-HaRrlpWfM"
   },
   "outputs": [],
   "source": [
    "# CHeck models using tfidf features\n",
    "\n",
    "lr_score = check_model(LogisticRegression(random_state = SEED), X_tf_idf_final, y)\n",
    "GNB_score = check_model(GaussianNB(), X_tf_idf_final, y)\n",
    "rf_score = check_model(RandomForestClassifier(random_state = SEED), X_tf_idf_final, y)\n",
    "lgbm_score = check_model(lgb.LGBMClassifier(random_state = SEED), X_tf_idf_final, y)"
   ]
  },
  {
   "cell_type": "code",
   "execution_count": null,
   "metadata": {
    "colab": {
     "base_uri": "https://localhost:8080/",
     "height": 175
    },
    "id": "EOEGW3mUpWfN",
    "outputId": "9e5280eb-909f-4c53-c386-04e1a5a31996"
   },
   "outputs": [
    {
     "data": {
      "text/html": [
       "<div>\n",
       "<style scoped>\n",
       "    .dataframe tbody tr th:only-of-type {\n",
       "        vertical-align: middle;\n",
       "    }\n",
       "\n",
       "    .dataframe tbody tr th {\n",
       "        vertical-align: top;\n",
       "    }\n",
       "\n",
       "    .dataframe thead th {\n",
       "        text-align: right;\n",
       "    }\n",
       "</style>\n",
       "<table border=\"1\" class=\"dataframe\">\n",
       "  <thead>\n",
       "    <tr style=\"text-align: right;\">\n",
       "      <th></th>\n",
       "      <th>Type</th>\n",
       "      <th>Product</th>\n",
       "      <th>Industry</th>\n",
       "      <th>Final score</th>\n",
       "      <th>Model</th>\n",
       "    </tr>\n",
       "  </thead>\n",
       "  <tbody>\n",
       "    <tr>\n",
       "      <th>0</th>\n",
       "      <td>0.68</td>\n",
       "      <td>0.94</td>\n",
       "      <td>0.86</td>\n",
       "      <td>0.82</td>\n",
       "      <td>LR</td>\n",
       "    </tr>\n",
       "    <tr>\n",
       "      <th>1</th>\n",
       "      <td>0.62</td>\n",
       "      <td>0.88</td>\n",
       "      <td>0.83</td>\n",
       "      <td>0.78</td>\n",
       "      <td>GNB</td>\n",
       "    </tr>\n",
       "    <tr>\n",
       "      <th>2</th>\n",
       "      <td>0.73</td>\n",
       "      <td>0.92</td>\n",
       "      <td>0.89</td>\n",
       "      <td>0.85</td>\n",
       "      <td>RF</td>\n",
       "    </tr>\n",
       "    <tr>\n",
       "      <th>3</th>\n",
       "      <td>0.75</td>\n",
       "      <td>0.93</td>\n",
       "      <td>0.91</td>\n",
       "      <td>0.87</td>\n",
       "      <td>LGBM</td>\n",
       "    </tr>\n",
       "  </tbody>\n",
       "</table>\n",
       "</div>"
      ],
      "text/plain": [
       "   Type Product Industry Final score Model\n",
       "0  0.68    0.94     0.86        0.82    LR\n",
       "1  0.62    0.88     0.83        0.78   GNB\n",
       "2  0.73    0.92     0.89        0.85    RF\n",
       "3  0.75    0.93     0.91        0.87  LGBM"
      ]
     },
     "execution_count": 31,
     "metadata": {
      "tags": []
     },
     "output_type": "execute_result"
    }
   ],
   "source": [
    "lr_score.append('LR')\n",
    "GNB_score.append('GNB')\n",
    "rf_score.append('RF')\n",
    "lgbm_score.append('LGBM')\n",
    "\n",
    "score_table = pd.DataFrame(data = np.row_stack([lr_score, GNB_score, rf_score, lgbm_score]), columns = ['Type','Product','Industry','Final score','Model'])\n",
    "score_table"
   ]
  },
  {
   "cell_type": "markdown",
   "metadata": {
    "id": "ytWcwDrVvE_G"
   },
   "source": [
    "## Trial 5 - Final trial with PCA implemented\n",
    "\n",
    "From prev. 4 trials, we will use all features for Type and industry, and just use text for product"
   ]
  },
  {
   "cell_type": "code",
   "execution_count": null,
   "metadata": {
    "id": "webmWF7dwCnI"
   },
   "outputs": [],
   "source": [
    "# We got ~22k entries when we used vectorizer without any max limit set\n",
    "\n",
    "# We will take top 750 words for further use in modeling\n",
    "# max_word_features = 5000 \n",
    "\n",
    "max_word_features = 1000\n",
    "\n",
    "# Base features\n",
    "\n",
    "base_non_txt_features = ['Revenue (Cr)', 'missing_revenue', 'missing_market_cap',  \n",
    "       'market_cap_large-cap', 'market_cap_mid-cap', 'market_cap_small-cap']\n",
    "\n",
    "# Generate the base file of features\n",
    "\n",
    "X_non_txt = masterdata.loc[:,base_non_txt_features]\n",
    "test_non_txt = test_data.loc[:,base_non_txt_features]\n",
    "# Replace the -999 for revenue with NAN values so we can feed it to standard scaler\n",
    "X_non_txt.loc[X_non_txt['Revenue (Cr)'] == -999, ['Revenue (Cr)']] = np.NaN\n",
    "test_non_txt.loc[test_non_txt['Revenue (Cr)'] == -999, ['Revenue (Cr)']] = np.NaN\n",
    "\n",
    "y = masterdata.loc[:,['Type', 'Product', 'industry']]"
   ]
  },
  {
   "cell_type": "markdown",
   "metadata": {
    "id": "36_RP6_XwCnJ"
   },
   "source": [
    "### Run TF IDF to get features and predict clusters using global classifier"
   ]
  },
  {
   "cell_type": "code",
   "execution_count": null,
   "metadata": {
    "id": "Ncbw2-TWwCnK"
   },
   "outputs": [],
   "source": [
    "tf_idf_v_combined = TfidfVectorizer(max_features = max_word_features)\n",
    "\n",
    "X_tfidf_combined = tf_idf_v_combined.fit_transform(masterdata['combined_string']).toarray()"
   ]
  },
  {
   "cell_type": "code",
   "execution_count": null,
   "metadata": {
    "id": "riYSC5-VwCnM"
   },
   "outputs": [],
   "source": [
    "std_scaler_txt = StandardScaler()\n",
    "std_scaler_non_txt = StandardScaler()\n",
    "\n",
    "X_tfidf_combined = std_scaler_txt.fit_transform(X_tfidf_combined)\n",
    "X_non_txt['Revenue (Cr)'] = std_scaler_non_txt.fit_transform(X_non_txt[['Revenue (Cr)']])\n",
    "\n",
    "# PCA\n",
    "\n",
    "pca_txt = PCA(n_components=600, random_state = SEED)\n",
    "\n",
    "X_tfidf_combined = pca_txt.fit_transform(X_tfidf_combined)\n",
    "test_tfidf_combined = pca_txt.transform(test_tfidf_combined)\n",
    "\n",
    "\n",
    "X_non_txt['Revenue (Cr)'] = X_non_txt['Revenue (Cr)'].fillna(-999)"
   ]
  },
  {
   "cell_type": "code",
   "execution_count": null,
   "metadata": {
    "id": "BLRG9EazwCnN"
   },
   "outputs": [],
   "source": [
    "X_tf_idf_final = np.concatenate((X_non_txt.to_numpy(), X_tfidf_combined), axis = 1)"
   ]
  },
  {
   "cell_type": "code",
   "execution_count": null,
   "metadata": {
    "id": "YObnDHYRwCnN"
   },
   "outputs": [],
   "source": [
    "del X_tfidf_combined"
   ]
  },
  {
   "cell_type": "code",
   "execution_count": null,
   "metadata": {
    "colab": {
     "base_uri": "https://localhost:8080/"
    },
    "id": "pRQJk9n4wCnO",
    "outputId": "07428642-ef51-45ea-cdc3-40345ac3572c"
   },
   "outputs": [
    {
     "name": "stdout",
     "output_type": "stream",
     "text": [
      "\n",
      " Model is : LogisticRegression(C=1.0, class_weight=None, dual=False, fit_intercept=True,\n",
      "                   intercept_scaling=1, l1_ratio=None, max_iter=100,\n",
      "                   multi_class='auto', n_jobs=None, penalty='l2',\n",
      "                   random_state=20, solver='lbfgs', tol=0.0001, verbose=0,\n",
      "                   warm_start=False)\n",
      "\n",
      "\n",
      " Score for Type :\n",
      "Mean : 0.68 | Min : 0.68 | Max : 0.69\n",
      "\n",
      " Score for Product :\n",
      "Mean : 0.95 | Min : 0.95 | Max : 0.95\n",
      "\n",
      " Score for industry :\n",
      "Mean : 0.86 | Min : 0.86 | Max : 0.86\n",
      "Final score : 0.82\n",
      "\n",
      " Model is : GaussianNB(priors=None, var_smoothing=1e-09)\n",
      "\n",
      "\n",
      " Score for Type :\n",
      "Mean : 0.63 | Min : 0.63 | Max : 0.63\n",
      "\n",
      " Score for Product :\n",
      "Mean : 0.91 | Min : 0.91 | Max : 0.92\n",
      "\n",
      " Score for industry :\n",
      "Mean : 0.85 | Min : 0.85 | Max : 0.85\n",
      "Final score : 0.8\n",
      "\n",
      " Model is : RandomForestClassifier(bootstrap=True, ccp_alpha=0.0, class_weight=None,\n",
      "                       criterion='gini', max_depth=None, max_features='auto',\n",
      "                       max_leaf_nodes=None, max_samples=None,\n",
      "                       min_impurity_decrease=0.0, min_impurity_split=None,\n",
      "                       min_samples_leaf=1, min_samples_split=2,\n",
      "                       min_weight_fraction_leaf=0.0, n_estimators=100,\n",
      "                       n_jobs=None, oob_score=False, random_state=20, verbose=0,\n",
      "                       warm_start=False)\n",
      "\n",
      "\n",
      " Score for Type :\n",
      "Mean : 0.73 | Min : 0.72 | Max : 0.74\n",
      "\n",
      " Score for Product :\n",
      "Mean : 0.93 | Min : 0.93 | Max : 0.94\n",
      "\n",
      " Score for industry :\n",
      "Mean : 0.89 | Min : 0.89 | Max : 0.89\n",
      "Final score : 0.85\n",
      "\n",
      " Model is : LGBMClassifier(boosting_type='gbdt', class_weight=None, colsample_bytree=1.0,\n",
      "               importance_type='split', learning_rate=0.1, max_depth=-1,\n",
      "               min_child_samples=20, min_child_weight=0.001, min_split_gain=0.0,\n",
      "               n_estimators=100, n_jobs=-1, num_leaves=31, objective=None,\n",
      "               random_state=20, reg_alpha=0.0, reg_lambda=0.0, silent=True,\n",
      "               subsample=1.0, subsample_for_bin=200000, subsample_freq=0)\n",
      "\n",
      "\n",
      " Score for Type :\n",
      "Mean : 0.76 | Min : 0.75 | Max : 0.76\n",
      "\n",
      " Score for Product :\n",
      "Mean : 0.94 | Min : 0.94 | Max : 0.94\n",
      "\n",
      " Score for industry :\n",
      "Mean : 0.91 | Min : 0.91 | Max : 0.92\n",
      "Final score : 0.87\n"
     ]
    }
   ],
   "source": [
    "# CHeck models using tfidf features\n",
    "\n",
    "lr_score = check_model(LogisticRegression(random_state = SEED), X_tf_idf_final, y)\n",
    "GNB_score = check_model(GaussianNB(), X_tf_idf_final, y)\n",
    "rf_score = check_model(RandomForestClassifier(random_state = SEED), X_tf_idf_final, y)\n",
    "lgbm_score = check_model(lgb.LGBMClassifier(random_state = SEED), X_tf_idf_final, y)"
   ]
  },
  {
   "cell_type": "code",
   "execution_count": null,
   "metadata": {
    "colab": {
     "base_uri": "https://localhost:8080/",
     "height": 175
    },
    "id": "RcMstgQ1wCnP",
    "outputId": "2d248f29-d825-43d4-895c-5baf03e765c0"
   },
   "outputs": [
    {
     "data": {
      "text/html": [
       "<div>\n",
       "<style scoped>\n",
       "    .dataframe tbody tr th:only-of-type {\n",
       "        vertical-align: middle;\n",
       "    }\n",
       "\n",
       "    .dataframe tbody tr th {\n",
       "        vertical-align: top;\n",
       "    }\n",
       "\n",
       "    .dataframe thead th {\n",
       "        text-align: right;\n",
       "    }\n",
       "</style>\n",
       "<table border=\"1\" class=\"dataframe\">\n",
       "  <thead>\n",
       "    <tr style=\"text-align: right;\">\n",
       "      <th></th>\n",
       "      <th>Type</th>\n",
       "      <th>Product</th>\n",
       "      <th>Industry</th>\n",
       "      <th>Final score</th>\n",
       "      <th>Model</th>\n",
       "    </tr>\n",
       "  </thead>\n",
       "  <tbody>\n",
       "    <tr>\n",
       "      <th>0</th>\n",
       "      <td>0.68</td>\n",
       "      <td>0.95</td>\n",
       "      <td>0.86</td>\n",
       "      <td>0.82</td>\n",
       "      <td>LR</td>\n",
       "    </tr>\n",
       "    <tr>\n",
       "      <th>1</th>\n",
       "      <td>0.63</td>\n",
       "      <td>0.91</td>\n",
       "      <td>0.85</td>\n",
       "      <td>0.8</td>\n",
       "      <td>GNB</td>\n",
       "    </tr>\n",
       "    <tr>\n",
       "      <th>2</th>\n",
       "      <td>0.73</td>\n",
       "      <td>0.93</td>\n",
       "      <td>0.89</td>\n",
       "      <td>0.85</td>\n",
       "      <td>RF</td>\n",
       "    </tr>\n",
       "    <tr>\n",
       "      <th>3</th>\n",
       "      <td>0.76</td>\n",
       "      <td>0.94</td>\n",
       "      <td>0.91</td>\n",
       "      <td>0.87</td>\n",
       "      <td>LGBM</td>\n",
       "    </tr>\n",
       "  </tbody>\n",
       "</table>\n",
       "</div>"
      ],
      "text/plain": [
       "   Type Product Industry Final score Model\n",
       "0  0.68    0.95     0.86        0.82    LR\n",
       "1  0.63    0.91     0.85         0.8   GNB\n",
       "2  0.73    0.93     0.89        0.85    RF\n",
       "3  0.76    0.94     0.91        0.87  LGBM"
      ]
     },
     "execution_count": 38,
     "metadata": {
      "tags": []
     },
     "output_type": "execute_result"
    }
   ],
   "source": [
    "lr_score.append('LR')\n",
    "GNB_score.append('GNB')\n",
    "rf_score.append('RF')\n",
    "lgbm_score.append('LGBM')\n",
    "\n",
    "score_table = pd.DataFrame(data = np.row_stack([lr_score, GNB_score, rf_score, lgbm_score]), columns = ['Type','Product','Industry','Final score','Model'])\n",
    "score_table"
   ]
  },
  {
   "cell_type": "markdown",
   "metadata": {
    "id": "s3IfK5b4yEgG"
   },
   "source": [
    "# Final combination model\n",
    "\n",
    "Based on observations, we will use 1000 max text features for predictions.\n",
    "\n",
    "Based on results, we will use below models for ensemble predictions\n",
    "\n",
    "- Industry - Light GBM\n",
    "- Type - Light GBM\n",
    "- Product - Logistic regression (Maybe Light GBM can be tested)\n",
    "\n",
    "We will increase folds to 5 folds and check the predictions.\n",
    "\n",
    "Hierarchy function: Utilize the probablity output of models to remap output to allowed values based on hierarchy"
   ]
  },
  {
   "cell_type": "markdown",
   "metadata": {
    "id": "AjNKYwIs52y6"
   },
   "source": [
    "## Reimport Files"
   ]
  },
  {
   "cell_type": "code",
   "execution_count": 5,
   "metadata": {
    "id": "wK0x-Rj25t5Q"
   },
   "outputs": [],
   "source": [
    "masterdata = pd.read_pickle(save_path + 'masterdata.pk1')\n",
    "test_data = pd.read_pickle(save_path + 'test_data.pk1')"
   ]
  },
  {
   "cell_type": "code",
   "execution_count": 6,
   "metadata": {
    "id": "zMmwZKn-EBP2"
   },
   "outputs": [],
   "source": [
    "# Removing entries where product is None. Should improve predictions as None may be invalid entry\n",
    "\n",
    "masterdata = masterdata.loc[masterdata['Product'] != \"None\",:]"
   ]
  },
  {
   "cell_type": "markdown",
   "metadata": {
    "id": "9wUbgkH7BJDZ"
   },
   "source": [
    "###Hierarchy files"
   ]
  },
  {
   "cell_type": "code",
   "execution_count": 7,
   "metadata": {
    "id": "sjq6J_wnBIXP"
   },
   "outputs": [],
   "source": [
    "hier_industry_type = {\n",
    "    'Automobile Industry':['Heavy Vehicles','Light Vehicles'],\n",
    "    'Computer Industry':['Hardware','Security','Software'],\n",
    "    'Health Industry':['Diagnostic','Pharma'],\n",
    "    'Manufacturing Industry':['Food','Mechanical','Production','Toys'],\n",
    "    'Power Industry':['green energy','non green energy']\n",
    "    }\n",
    "\n",
    "hier_type_product = {\n",
    "    'Heavy Vehicles':['JCP','Truck'],\n",
    "    'Light Vehicles':['AI','Bike','Car','Truck'],\n",
    "    'Hardware':['AI','Gaming hardware','Hardware accelerator'],\n",
    "    'Security':['Cyber-security','antivirus-security'],\n",
    "    'Software':['AI','Cyber-security','Hardware accelerator','IT','antivirus-security'],\n",
    "    'Diagnostic':['Medical devices','allopathy'],\n",
    "    'Pharma':['Organicfood','allopathy','homeopathic','siddha'],\n",
    "    'Food':['Beverage','Fastfood','Organicfood'],\n",
    "    'Mechanical':['Kids toys','Wiring tools'],\n",
    "    'Production':['Bike','Gaming hardware','Medical devices'],\n",
    "    'Toys':['Kids toys'],\n",
    "    'green energy':['Hydro','Solar','Wind'],\n",
    "    'non green energy':['Fuel','charcoal']\n",
    "  }"
   ]
  },
  {
   "cell_type": "code",
   "execution_count": 8,
   "metadata": {
    "id": "0OMJhrh4aiS7"
   },
   "outputs": [],
   "source": [
    "# Valid combinations\n",
    "valid_industry = masterdata['industry']\n",
    "valid_type = masterdata['Type']\n",
    "valid_product = masterdata['Product']\n",
    "\n",
    "valid_industry_type_prod = valid_industry.str.cat(others = (valid_type, valid_product), sep = \"-\")\n",
    "valid_industry_type_prod = valid_industry_type_prod.unique()\n",
    "\n",
    "valid_type_prod = valid_type.str.cat(others = (valid_product), sep = \"-\")\n",
    "valid_type_prod = valid_type_prod.unique()\n"
   ]
  },
  {
   "cell_type": "markdown",
   "metadata": {
    "id": "Zy3ZLwBW5t5Q"
   },
   "source": [
    "### Onehot encode the categorical features\n",
    "\n",
    "We already know that market cap has only 4 values. We can use pandas dummies to simplify things"
   ]
  },
  {
   "cell_type": "code",
   "execution_count": 9,
   "metadata": {
    "id": "5NQCRd7_5t5R"
   },
   "outputs": [],
   "source": [
    "cat_columns = ['market_cap']\n",
    "\n",
    "masterdata = pd.get_dummies(masterdata, columns = cat_columns)\n",
    "masterdata.drop(columns = ['market_cap_N/A'], inplace = True)\n",
    "\n",
    "\n",
    "test_data = pd.get_dummies(test_data, columns = cat_columns)\n",
    "test_data.drop(columns = ['market_cap_N/A'], inplace = True)"
   ]
  },
  {
   "cell_type": "code",
   "execution_count": 10,
   "metadata": {
    "id": "KlpFXUBr2wEv"
   },
   "outputs": [],
   "source": [
    "max_word_features = 1000\n",
    "\n",
    "# Base features\n",
    "\n",
    "base_non_txt_features = ['Revenue (Cr)', 'missing_revenue', 'missing_market_cap',  \n",
    "       'market_cap_large-cap', 'market_cap_mid-cap', 'market_cap_small-cap']\n",
    "\n",
    "# Generate the base file of features\n",
    "\n",
    "X_non_txt = masterdata.loc[:,base_non_txt_features]\n",
    "test_non_txt = test_data.loc[:,base_non_txt_features]\n",
    "# Replace the -999 for revenue with NAN values so we can feed it to standard scaler\n",
    "X_non_txt.loc[X_non_txt['Revenue (Cr)'] == -999, ['Revenue (Cr)']] = np.NaN\n",
    "test_non_txt.loc[test_non_txt['Revenue (Cr)'] == -999, ['Revenue (Cr)']] = np.NaN\n",
    "\n",
    "y = masterdata.loc[:,['Type', 'Product', 'industry']]"
   ]
  },
  {
   "cell_type": "markdown",
   "metadata": {
    "id": "uV-GVIvi2wEw"
   },
   "source": [
    "### Run TF IDF to get features and predict clusters using global classifier"
   ]
  },
  {
   "cell_type": "code",
   "execution_count": 11,
   "metadata": {
    "id": "f5BE3doH2wEw"
   },
   "outputs": [],
   "source": [
    "tf_idf_v_combined = TfidfVectorizer(max_features = max_word_features)\n",
    "\n",
    "X_tfidf_combined = tf_idf_v_combined.fit_transform(masterdata['combined_string']).toarray()\n",
    "test_tfidf_combined = tf_idf_v_combined.transform(test_data['combined_string']).toarray()\n"
   ]
  },
  {
   "cell_type": "code",
   "execution_count": 12,
   "metadata": {
    "id": "KUDI2cX22wEy"
   },
   "outputs": [],
   "source": [
    "# Standard Scaling\n",
    "std_scaler_txt = StandardScaler()\n",
    "std_scaler_non_txt = StandardScaler()\n",
    "\n",
    "X_tfidf_combined = std_scaler_txt.fit_transform(X_tfidf_combined)\n",
    "test_tfidf_combined = std_scaler_txt.transform(test_tfidf_combined)\n",
    "\n",
    "# PCA\n",
    "\n",
    "pca_txt = PCA(n_components=600, random_state = SEED)\n",
    "\n",
    "X_tfidf_combined = pca_txt.fit_transform(X_tfidf_combined)\n",
    "test_tfidf_combined = pca_txt.transform(test_tfidf_combined)\n",
    "\n",
    "\n",
    "# Impute other features\n",
    "X_non_txt['Revenue (Cr)'] = std_scaler_non_txt.fit_transform(X_non_txt[['Revenue (Cr)']])\n",
    "test_non_txt['Revenue (Cr)'] = std_scaler_non_txt.transform(test_non_txt[['Revenue (Cr)']])\n",
    "\n",
    "X_non_txt['Revenue (Cr)'] = X_non_txt['Revenue (Cr)'].fillna(-999)\n",
    "test_non_txt['Revenue (Cr)'] = test_non_txt['Revenue (Cr)'].fillna(-999)\n"
   ]
  },
  {
   "cell_type": "code",
   "execution_count": 13,
   "metadata": {
    "id": "PfLv3zTT2wE0"
   },
   "outputs": [],
   "source": [
    "X_tf_idf_final = np.concatenate((X_non_txt.to_numpy(), X_tfidf_combined), axis = 1)\n",
    "test_tf_idf_final = np.concatenate((test_non_txt.to_numpy(), test_tfidf_combined), axis = 1)\n"
   ]
  },
  {
   "cell_type": "code",
   "execution_count": 14,
   "metadata": {
    "id": "WGGjxHu93jHi"
   },
   "outputs": [],
   "source": [
    "X_for_type_industry = X_tf_idf_final\n",
    "X_for_product = X_tfidf_combined\n",
    "\n",
    "test_for_type_industry = test_tf_idf_final\n",
    "test_for_product = test_tfidf_combined"
   ]
  },
  {
   "cell_type": "markdown",
   "metadata": {
    "id": "7ssGyB0S5GDi"
   },
   "source": [
    "## Initial Model training"
   ]
  },
  {
   "cell_type": "code",
   "execution_count": 15,
   "metadata": {
    "id": "YPmEv_PV5Hea"
   },
   "outputs": [],
   "source": [
    "industry_model = lgb.LGBMClassifier(random_state = SEED)\n",
    "type_model = lgb.LGBMClassifier(random_state = SEED)\n",
    "product_model = LogisticRegression(random_state = SEED)\n",
    "\n",
    "cross_validation_folds = 3\n",
    "\n",
    "score_arr = [0 ,0 ,0, 0]"
   ]
  },
  {
   "cell_type": "code",
   "execution_count": 16,
   "metadata": {
    "colab": {
     "base_uri": "https://localhost:8080/",
     "height": 404
    },
    "id": "70tsPcOG2wE2",
    "outputId": "e7a07c69-1a8f-4bb5-9ed4-ebba6d0dec78"
   },
   "outputs": [
    {
     "ename": "KeyboardInterrupt",
     "evalue": "ignored",
     "output_type": "error",
     "traceback": [
      "\u001b[0;31m---------------------------------------------------------------------------\u001b[0m",
      "\u001b[0;31mKeyboardInterrupt\u001b[0m                         Traceback (most recent call last)",
      "\u001b[0;32m<ipython-input-16-13b37be51306>\u001b[0m in \u001b[0;36m<module>\u001b[0;34m()\u001b[0m\n\u001b[1;32m      1\u001b[0m \u001b[0;34m\u001b[0m\u001b[0m\n\u001b[1;32m      2\u001b[0m \u001b[0;31m# Train Type\u001b[0m\u001b[0;34m\u001b[0m\u001b[0;34m\u001b[0m\u001b[0;34m\u001b[0m\u001b[0m\n\u001b[0;32m----> 3\u001b[0;31m \u001b[0mscores\u001b[0m \u001b[0;34m=\u001b[0m \u001b[0mcross_val_score\u001b[0m\u001b[0;34m(\u001b[0m\u001b[0mtype_model\u001b[0m\u001b[0;34m,\u001b[0m \u001b[0mX_for_type_industry\u001b[0m\u001b[0;34m,\u001b[0m \u001b[0my\u001b[0m\u001b[0;34m[\u001b[0m\u001b[0;34m'Type'\u001b[0m\u001b[0;34m]\u001b[0m\u001b[0;34m,\u001b[0m \u001b[0mcv\u001b[0m\u001b[0;34m=\u001b[0m\u001b[0mcross_validation_folds\u001b[0m\u001b[0;34m,\u001b[0m\u001b[0mscoring\u001b[0m \u001b[0;34m=\u001b[0m \u001b[0;34m'f1_weighted'\u001b[0m\u001b[0;34m)\u001b[0m\u001b[0;34m\u001b[0m\u001b[0;34m\u001b[0m\u001b[0m\n\u001b[0m\u001b[1;32m      4\u001b[0m \u001b[0mscore_arr\u001b[0m\u001b[0;34m[\u001b[0m\u001b[0;36m0\u001b[0m\u001b[0;34m]\u001b[0m \u001b[0;34m=\u001b[0m \u001b[0;34m(\u001b[0m\u001b[0mnp\u001b[0m\u001b[0;34m.\u001b[0m\u001b[0mround\u001b[0m\u001b[0;34m(\u001b[0m\u001b[0mnp\u001b[0m\u001b[0;34m.\u001b[0m\u001b[0mmean\u001b[0m\u001b[0;34m(\u001b[0m\u001b[0mscores\u001b[0m\u001b[0;34m)\u001b[0m\u001b[0;34m,\u001b[0m\u001b[0;36m2\u001b[0m\u001b[0;34m)\u001b[0m\u001b[0;34m)\u001b[0m\u001b[0;34m\u001b[0m\u001b[0;34m\u001b[0m\u001b[0m\n\u001b[1;32m      5\u001b[0m \u001b[0mprint\u001b[0m\u001b[0;34m(\u001b[0m\u001b[0;34m\"Model for Type:\"\u001b[0m\u001b[0;34m)\u001b[0m\u001b[0;34m\u001b[0m\u001b[0;34m\u001b[0m\u001b[0m\n",
      "\u001b[0;32m/usr/local/lib/python3.7/dist-packages/sklearn/model_selection/_validation.py\u001b[0m in \u001b[0;36mcross_val_score\u001b[0;34m(estimator, X, y, groups, scoring, cv, n_jobs, verbose, fit_params, pre_dispatch, error_score)\u001b[0m\n\u001b[1;32m    388\u001b[0m                                 \u001b[0mfit_params\u001b[0m\u001b[0;34m=\u001b[0m\u001b[0mfit_params\u001b[0m\u001b[0;34m,\u001b[0m\u001b[0;34m\u001b[0m\u001b[0;34m\u001b[0m\u001b[0m\n\u001b[1;32m    389\u001b[0m                                 \u001b[0mpre_dispatch\u001b[0m\u001b[0;34m=\u001b[0m\u001b[0mpre_dispatch\u001b[0m\u001b[0;34m,\u001b[0m\u001b[0;34m\u001b[0m\u001b[0;34m\u001b[0m\u001b[0m\n\u001b[0;32m--> 390\u001b[0;31m                                 error_score=error_score)\n\u001b[0m\u001b[1;32m    391\u001b[0m     \u001b[0;32mreturn\u001b[0m \u001b[0mcv_results\u001b[0m\u001b[0;34m[\u001b[0m\u001b[0;34m'test_score'\u001b[0m\u001b[0;34m]\u001b[0m\u001b[0;34m\u001b[0m\u001b[0;34m\u001b[0m\u001b[0m\n\u001b[1;32m    392\u001b[0m \u001b[0;34m\u001b[0m\u001b[0m\n",
      "\u001b[0;32m/usr/local/lib/python3.7/dist-packages/sklearn/model_selection/_validation.py\u001b[0m in \u001b[0;36mcross_validate\u001b[0;34m(estimator, X, y, groups, scoring, cv, n_jobs, verbose, fit_params, pre_dispatch, return_train_score, return_estimator, error_score)\u001b[0m\n\u001b[1;32m    234\u001b[0m             \u001b[0mreturn_times\u001b[0m\u001b[0;34m=\u001b[0m\u001b[0;32mTrue\u001b[0m\u001b[0;34m,\u001b[0m \u001b[0mreturn_estimator\u001b[0m\u001b[0;34m=\u001b[0m\u001b[0mreturn_estimator\u001b[0m\u001b[0;34m,\u001b[0m\u001b[0;34m\u001b[0m\u001b[0;34m\u001b[0m\u001b[0m\n\u001b[1;32m    235\u001b[0m             error_score=error_score)\n\u001b[0;32m--> 236\u001b[0;31m         for train, test in cv.split(X, y, groups))\n\u001b[0m\u001b[1;32m    237\u001b[0m \u001b[0;34m\u001b[0m\u001b[0m\n\u001b[1;32m    238\u001b[0m     \u001b[0mzipped_scores\u001b[0m \u001b[0;34m=\u001b[0m \u001b[0mlist\u001b[0m\u001b[0;34m(\u001b[0m\u001b[0mzip\u001b[0m\u001b[0;34m(\u001b[0m\u001b[0;34m*\u001b[0m\u001b[0mscores\u001b[0m\u001b[0;34m)\u001b[0m\u001b[0;34m)\u001b[0m\u001b[0;34m\u001b[0m\u001b[0;34m\u001b[0m\u001b[0m\n",
      "\u001b[0;32m/usr/local/lib/python3.7/dist-packages/joblib/parallel.py\u001b[0m in \u001b[0;36m__call__\u001b[0;34m(self, iterable)\u001b[0m\n\u001b[1;32m   1039\u001b[0m             \u001b[0;31m# remaining jobs.\u001b[0m\u001b[0;34m\u001b[0m\u001b[0;34m\u001b[0m\u001b[0;34m\u001b[0m\u001b[0m\n\u001b[1;32m   1040\u001b[0m             \u001b[0mself\u001b[0m\u001b[0;34m.\u001b[0m\u001b[0m_iterating\u001b[0m \u001b[0;34m=\u001b[0m \u001b[0;32mFalse\u001b[0m\u001b[0;34m\u001b[0m\u001b[0;34m\u001b[0m\u001b[0m\n\u001b[0;32m-> 1041\u001b[0;31m             \u001b[0;32mif\u001b[0m \u001b[0mself\u001b[0m\u001b[0;34m.\u001b[0m\u001b[0mdispatch_one_batch\u001b[0m\u001b[0;34m(\u001b[0m\u001b[0miterator\u001b[0m\u001b[0;34m)\u001b[0m\u001b[0;34m:\u001b[0m\u001b[0;34m\u001b[0m\u001b[0;34m\u001b[0m\u001b[0m\n\u001b[0m\u001b[1;32m   1042\u001b[0m                 \u001b[0mself\u001b[0m\u001b[0;34m.\u001b[0m\u001b[0m_iterating\u001b[0m \u001b[0;34m=\u001b[0m \u001b[0mself\u001b[0m\u001b[0;34m.\u001b[0m\u001b[0m_original_iterator\u001b[0m \u001b[0;32mis\u001b[0m \u001b[0;32mnot\u001b[0m \u001b[0;32mNone\u001b[0m\u001b[0;34m\u001b[0m\u001b[0;34m\u001b[0m\u001b[0m\n\u001b[1;32m   1043\u001b[0m \u001b[0;34m\u001b[0m\u001b[0m\n",
      "\u001b[0;32m/usr/local/lib/python3.7/dist-packages/joblib/parallel.py\u001b[0m in \u001b[0;36mdispatch_one_batch\u001b[0;34m(self, iterator)\u001b[0m\n\u001b[1;32m    857\u001b[0m                 \u001b[0;32mreturn\u001b[0m \u001b[0;32mFalse\u001b[0m\u001b[0;34m\u001b[0m\u001b[0;34m\u001b[0m\u001b[0m\n\u001b[1;32m    858\u001b[0m             \u001b[0;32melse\u001b[0m\u001b[0;34m:\u001b[0m\u001b[0;34m\u001b[0m\u001b[0;34m\u001b[0m\u001b[0m\n\u001b[0;32m--> 859\u001b[0;31m                 \u001b[0mself\u001b[0m\u001b[0;34m.\u001b[0m\u001b[0m_dispatch\u001b[0m\u001b[0;34m(\u001b[0m\u001b[0mtasks\u001b[0m\u001b[0;34m)\u001b[0m\u001b[0;34m\u001b[0m\u001b[0;34m\u001b[0m\u001b[0m\n\u001b[0m\u001b[1;32m    860\u001b[0m                 \u001b[0;32mreturn\u001b[0m \u001b[0;32mTrue\u001b[0m\u001b[0;34m\u001b[0m\u001b[0;34m\u001b[0m\u001b[0m\n\u001b[1;32m    861\u001b[0m \u001b[0;34m\u001b[0m\u001b[0m\n",
      "\u001b[0;32m/usr/local/lib/python3.7/dist-packages/joblib/parallel.py\u001b[0m in \u001b[0;36m_dispatch\u001b[0;34m(self, batch)\u001b[0m\n\u001b[1;32m    775\u001b[0m         \u001b[0;32mwith\u001b[0m \u001b[0mself\u001b[0m\u001b[0;34m.\u001b[0m\u001b[0m_lock\u001b[0m\u001b[0;34m:\u001b[0m\u001b[0;34m\u001b[0m\u001b[0;34m\u001b[0m\u001b[0m\n\u001b[1;32m    776\u001b[0m             \u001b[0mjob_idx\u001b[0m \u001b[0;34m=\u001b[0m \u001b[0mlen\u001b[0m\u001b[0;34m(\u001b[0m\u001b[0mself\u001b[0m\u001b[0;34m.\u001b[0m\u001b[0m_jobs\u001b[0m\u001b[0;34m)\u001b[0m\u001b[0;34m\u001b[0m\u001b[0;34m\u001b[0m\u001b[0m\n\u001b[0;32m--> 777\u001b[0;31m             \u001b[0mjob\u001b[0m \u001b[0;34m=\u001b[0m \u001b[0mself\u001b[0m\u001b[0;34m.\u001b[0m\u001b[0m_backend\u001b[0m\u001b[0;34m.\u001b[0m\u001b[0mapply_async\u001b[0m\u001b[0;34m(\u001b[0m\u001b[0mbatch\u001b[0m\u001b[0;34m,\u001b[0m \u001b[0mcallback\u001b[0m\u001b[0;34m=\u001b[0m\u001b[0mcb\u001b[0m\u001b[0;34m)\u001b[0m\u001b[0;34m\u001b[0m\u001b[0;34m\u001b[0m\u001b[0m\n\u001b[0m\u001b[1;32m    778\u001b[0m             \u001b[0;31m# A job can complete so quickly than its callback is\u001b[0m\u001b[0;34m\u001b[0m\u001b[0;34m\u001b[0m\u001b[0;34m\u001b[0m\u001b[0m\n\u001b[1;32m    779\u001b[0m             \u001b[0;31m# called before we get here, causing self._jobs to\u001b[0m\u001b[0;34m\u001b[0m\u001b[0;34m\u001b[0m\u001b[0;34m\u001b[0m\u001b[0m\n",
      "\u001b[0;32m/usr/local/lib/python3.7/dist-packages/joblib/_parallel_backends.py\u001b[0m in \u001b[0;36mapply_async\u001b[0;34m(self, func, callback)\u001b[0m\n\u001b[1;32m    206\u001b[0m     \u001b[0;32mdef\u001b[0m \u001b[0mapply_async\u001b[0m\u001b[0;34m(\u001b[0m\u001b[0mself\u001b[0m\u001b[0;34m,\u001b[0m \u001b[0mfunc\u001b[0m\u001b[0;34m,\u001b[0m \u001b[0mcallback\u001b[0m\u001b[0;34m=\u001b[0m\u001b[0;32mNone\u001b[0m\u001b[0;34m)\u001b[0m\u001b[0;34m:\u001b[0m\u001b[0;34m\u001b[0m\u001b[0;34m\u001b[0m\u001b[0m\n\u001b[1;32m    207\u001b[0m         \u001b[0;34m\"\"\"Schedule a func to be run\"\"\"\u001b[0m\u001b[0;34m\u001b[0m\u001b[0;34m\u001b[0m\u001b[0m\n\u001b[0;32m--> 208\u001b[0;31m         \u001b[0mresult\u001b[0m \u001b[0;34m=\u001b[0m \u001b[0mImmediateResult\u001b[0m\u001b[0;34m(\u001b[0m\u001b[0mfunc\u001b[0m\u001b[0;34m)\u001b[0m\u001b[0;34m\u001b[0m\u001b[0;34m\u001b[0m\u001b[0m\n\u001b[0m\u001b[1;32m    209\u001b[0m         \u001b[0;32mif\u001b[0m \u001b[0mcallback\u001b[0m\u001b[0;34m:\u001b[0m\u001b[0;34m\u001b[0m\u001b[0;34m\u001b[0m\u001b[0m\n\u001b[1;32m    210\u001b[0m             \u001b[0mcallback\u001b[0m\u001b[0;34m(\u001b[0m\u001b[0mresult\u001b[0m\u001b[0;34m)\u001b[0m\u001b[0;34m\u001b[0m\u001b[0;34m\u001b[0m\u001b[0m\n",
      "\u001b[0;32m/usr/local/lib/python3.7/dist-packages/joblib/_parallel_backends.py\u001b[0m in \u001b[0;36m__init__\u001b[0;34m(self, batch)\u001b[0m\n\u001b[1;32m    570\u001b[0m         \u001b[0;31m# Don't delay the application, to avoid keeping the input\u001b[0m\u001b[0;34m\u001b[0m\u001b[0;34m\u001b[0m\u001b[0;34m\u001b[0m\u001b[0m\n\u001b[1;32m    571\u001b[0m         \u001b[0;31m# arguments in memory\u001b[0m\u001b[0;34m\u001b[0m\u001b[0;34m\u001b[0m\u001b[0;34m\u001b[0m\u001b[0m\n\u001b[0;32m--> 572\u001b[0;31m         \u001b[0mself\u001b[0m\u001b[0;34m.\u001b[0m\u001b[0mresults\u001b[0m \u001b[0;34m=\u001b[0m \u001b[0mbatch\u001b[0m\u001b[0;34m(\u001b[0m\u001b[0;34m)\u001b[0m\u001b[0;34m\u001b[0m\u001b[0;34m\u001b[0m\u001b[0m\n\u001b[0m\u001b[1;32m    573\u001b[0m \u001b[0;34m\u001b[0m\u001b[0m\n\u001b[1;32m    574\u001b[0m     \u001b[0;32mdef\u001b[0m \u001b[0mget\u001b[0m\u001b[0;34m(\u001b[0m\u001b[0mself\u001b[0m\u001b[0;34m)\u001b[0m\u001b[0;34m:\u001b[0m\u001b[0;34m\u001b[0m\u001b[0;34m\u001b[0m\u001b[0m\n",
      "\u001b[0;32m/usr/local/lib/python3.7/dist-packages/joblib/parallel.py\u001b[0m in \u001b[0;36m__call__\u001b[0;34m(self)\u001b[0m\n\u001b[1;32m    261\u001b[0m         \u001b[0;32mwith\u001b[0m \u001b[0mparallel_backend\u001b[0m\u001b[0;34m(\u001b[0m\u001b[0mself\u001b[0m\u001b[0;34m.\u001b[0m\u001b[0m_backend\u001b[0m\u001b[0;34m,\u001b[0m \u001b[0mn_jobs\u001b[0m\u001b[0;34m=\u001b[0m\u001b[0mself\u001b[0m\u001b[0;34m.\u001b[0m\u001b[0m_n_jobs\u001b[0m\u001b[0;34m)\u001b[0m\u001b[0;34m:\u001b[0m\u001b[0;34m\u001b[0m\u001b[0;34m\u001b[0m\u001b[0m\n\u001b[1;32m    262\u001b[0m             return [func(*args, **kwargs)\n\u001b[0;32m--> 263\u001b[0;31m                     for func, args, kwargs in self.items]\n\u001b[0m\u001b[1;32m    264\u001b[0m \u001b[0;34m\u001b[0m\u001b[0m\n\u001b[1;32m    265\u001b[0m     \u001b[0;32mdef\u001b[0m \u001b[0m__reduce__\u001b[0m\u001b[0;34m(\u001b[0m\u001b[0mself\u001b[0m\u001b[0;34m)\u001b[0m\u001b[0;34m:\u001b[0m\u001b[0;34m\u001b[0m\u001b[0;34m\u001b[0m\u001b[0m\n",
      "\u001b[0;32m/usr/local/lib/python3.7/dist-packages/joblib/parallel.py\u001b[0m in \u001b[0;36m<listcomp>\u001b[0;34m(.0)\u001b[0m\n\u001b[1;32m    261\u001b[0m         \u001b[0;32mwith\u001b[0m \u001b[0mparallel_backend\u001b[0m\u001b[0;34m(\u001b[0m\u001b[0mself\u001b[0m\u001b[0;34m.\u001b[0m\u001b[0m_backend\u001b[0m\u001b[0;34m,\u001b[0m \u001b[0mn_jobs\u001b[0m\u001b[0;34m=\u001b[0m\u001b[0mself\u001b[0m\u001b[0;34m.\u001b[0m\u001b[0m_n_jobs\u001b[0m\u001b[0;34m)\u001b[0m\u001b[0;34m:\u001b[0m\u001b[0;34m\u001b[0m\u001b[0;34m\u001b[0m\u001b[0m\n\u001b[1;32m    262\u001b[0m             return [func(*args, **kwargs)\n\u001b[0;32m--> 263\u001b[0;31m                     for func, args, kwargs in self.items]\n\u001b[0m\u001b[1;32m    264\u001b[0m \u001b[0;34m\u001b[0m\u001b[0m\n\u001b[1;32m    265\u001b[0m     \u001b[0;32mdef\u001b[0m \u001b[0m__reduce__\u001b[0m\u001b[0;34m(\u001b[0m\u001b[0mself\u001b[0m\u001b[0;34m)\u001b[0m\u001b[0;34m:\u001b[0m\u001b[0;34m\u001b[0m\u001b[0;34m\u001b[0m\u001b[0m\n",
      "\u001b[0;32m/usr/local/lib/python3.7/dist-packages/sklearn/model_selection/_validation.py\u001b[0m in \u001b[0;36m_fit_and_score\u001b[0;34m(estimator, X, y, scorer, train, test, verbose, parameters, fit_params, return_train_score, return_parameters, return_n_test_samples, return_times, return_estimator, error_score)\u001b[0m\n\u001b[1;32m    513\u001b[0m             \u001b[0mestimator\u001b[0m\u001b[0;34m.\u001b[0m\u001b[0mfit\u001b[0m\u001b[0;34m(\u001b[0m\u001b[0mX_train\u001b[0m\u001b[0;34m,\u001b[0m \u001b[0;34m**\u001b[0m\u001b[0mfit_params\u001b[0m\u001b[0;34m)\u001b[0m\u001b[0;34m\u001b[0m\u001b[0;34m\u001b[0m\u001b[0m\n\u001b[1;32m    514\u001b[0m         \u001b[0;32melse\u001b[0m\u001b[0;34m:\u001b[0m\u001b[0;34m\u001b[0m\u001b[0;34m\u001b[0m\u001b[0m\n\u001b[0;32m--> 515\u001b[0;31m             \u001b[0mestimator\u001b[0m\u001b[0;34m.\u001b[0m\u001b[0mfit\u001b[0m\u001b[0;34m(\u001b[0m\u001b[0mX_train\u001b[0m\u001b[0;34m,\u001b[0m \u001b[0my_train\u001b[0m\u001b[0;34m,\u001b[0m \u001b[0;34m**\u001b[0m\u001b[0mfit_params\u001b[0m\u001b[0;34m)\u001b[0m\u001b[0;34m\u001b[0m\u001b[0;34m\u001b[0m\u001b[0m\n\u001b[0m\u001b[1;32m    516\u001b[0m \u001b[0;34m\u001b[0m\u001b[0m\n\u001b[1;32m    517\u001b[0m     \u001b[0;32mexcept\u001b[0m \u001b[0mException\u001b[0m \u001b[0;32mas\u001b[0m \u001b[0me\u001b[0m\u001b[0;34m:\u001b[0m\u001b[0;34m\u001b[0m\u001b[0;34m\u001b[0m\u001b[0m\n",
      "\u001b[0;32m/usr/local/lib/python3.7/dist-packages/lightgbm/sklearn.py\u001b[0m in \u001b[0;36mfit\u001b[0;34m(self, X, y, sample_weight, init_score, eval_set, eval_names, eval_sample_weight, eval_class_weight, eval_init_score, eval_metric, early_stopping_rounds, verbose, feature_name, categorical_feature, callbacks)\u001b[0m\n\u001b[1;32m    742\u001b[0m                                         \u001b[0mverbose\u001b[0m\u001b[0;34m=\u001b[0m\u001b[0mverbose\u001b[0m\u001b[0;34m,\u001b[0m \u001b[0mfeature_name\u001b[0m\u001b[0;34m=\u001b[0m\u001b[0mfeature_name\u001b[0m\u001b[0;34m,\u001b[0m\u001b[0;34m\u001b[0m\u001b[0;34m\u001b[0m\u001b[0m\n\u001b[1;32m    743\u001b[0m                                         \u001b[0mcategorical_feature\u001b[0m\u001b[0;34m=\u001b[0m\u001b[0mcategorical_feature\u001b[0m\u001b[0;34m,\u001b[0m\u001b[0;34m\u001b[0m\u001b[0;34m\u001b[0m\u001b[0m\n\u001b[0;32m--> 744\u001b[0;31m                                         callbacks=callbacks)\n\u001b[0m\u001b[1;32m    745\u001b[0m         \u001b[0;32mreturn\u001b[0m \u001b[0mself\u001b[0m\u001b[0;34m\u001b[0m\u001b[0;34m\u001b[0m\u001b[0m\n\u001b[1;32m    746\u001b[0m \u001b[0;34m\u001b[0m\u001b[0m\n",
      "\u001b[0;32m/usr/local/lib/python3.7/dist-packages/lightgbm/sklearn.py\u001b[0m in \u001b[0;36mfit\u001b[0;34m(self, X, y, sample_weight, init_score, group, eval_set, eval_names, eval_sample_weight, eval_class_weight, eval_init_score, eval_group, eval_metric, early_stopping_rounds, verbose, feature_name, categorical_feature, callbacks)\u001b[0m\n\u001b[1;32m    542\u001b[0m                               \u001b[0mverbose_eval\u001b[0m\u001b[0;34m=\u001b[0m\u001b[0mverbose\u001b[0m\u001b[0;34m,\u001b[0m \u001b[0mfeature_name\u001b[0m\u001b[0;34m=\u001b[0m\u001b[0mfeature_name\u001b[0m\u001b[0;34m,\u001b[0m\u001b[0;34m\u001b[0m\u001b[0;34m\u001b[0m\u001b[0m\n\u001b[1;32m    543\u001b[0m                               \u001b[0mcategorical_feature\u001b[0m\u001b[0;34m=\u001b[0m\u001b[0mcategorical_feature\u001b[0m\u001b[0;34m,\u001b[0m\u001b[0;34m\u001b[0m\u001b[0;34m\u001b[0m\u001b[0m\n\u001b[0;32m--> 544\u001b[0;31m                               callbacks=callbacks)\n\u001b[0m\u001b[1;32m    545\u001b[0m \u001b[0;34m\u001b[0m\u001b[0m\n\u001b[1;32m    546\u001b[0m         \u001b[0;32mif\u001b[0m \u001b[0mevals_result\u001b[0m\u001b[0;34m:\u001b[0m\u001b[0;34m\u001b[0m\u001b[0;34m\u001b[0m\u001b[0m\n",
      "\u001b[0;32m/usr/local/lib/python3.7/dist-packages/lightgbm/engine.py\u001b[0m in \u001b[0;36mtrain\u001b[0;34m(params, train_set, num_boost_round, valid_sets, valid_names, fobj, feval, init_model, feature_name, categorical_feature, early_stopping_rounds, evals_result, verbose_eval, learning_rates, keep_training_booster, callbacks)\u001b[0m\n\u001b[1;32m    216\u001b[0m                                     evaluation_result_list=None))\n\u001b[1;32m    217\u001b[0m \u001b[0;34m\u001b[0m\u001b[0m\n\u001b[0;32m--> 218\u001b[0;31m         \u001b[0mbooster\u001b[0m\u001b[0;34m.\u001b[0m\u001b[0mupdate\u001b[0m\u001b[0;34m(\u001b[0m\u001b[0mfobj\u001b[0m\u001b[0;34m=\u001b[0m\u001b[0mfobj\u001b[0m\u001b[0;34m)\u001b[0m\u001b[0;34m\u001b[0m\u001b[0;34m\u001b[0m\u001b[0m\n\u001b[0m\u001b[1;32m    219\u001b[0m \u001b[0;34m\u001b[0m\u001b[0m\n\u001b[1;32m    220\u001b[0m         \u001b[0mevaluation_result_list\u001b[0m \u001b[0;34m=\u001b[0m \u001b[0;34m[\u001b[0m\u001b[0;34m]\u001b[0m\u001b[0;34m\u001b[0m\u001b[0;34m\u001b[0m\u001b[0m\n",
      "\u001b[0;32m/usr/local/lib/python3.7/dist-packages/lightgbm/basic.py\u001b[0m in \u001b[0;36mupdate\u001b[0;34m(self, train_set, fobj)\u001b[0m\n\u001b[1;32m   1800\u001b[0m             _safe_call(_LIB.LGBM_BoosterUpdateOneIter(\n\u001b[1;32m   1801\u001b[0m                 \u001b[0mself\u001b[0m\u001b[0;34m.\u001b[0m\u001b[0mhandle\u001b[0m\u001b[0;34m,\u001b[0m\u001b[0;34m\u001b[0m\u001b[0;34m\u001b[0m\u001b[0m\n\u001b[0;32m-> 1802\u001b[0;31m                 ctypes.byref(is_finished)))\n\u001b[0m\u001b[1;32m   1803\u001b[0m             \u001b[0mself\u001b[0m\u001b[0;34m.\u001b[0m\u001b[0m__is_predicted_cur_iter\u001b[0m \u001b[0;34m=\u001b[0m \u001b[0;34m[\u001b[0m\u001b[0;32mFalse\u001b[0m \u001b[0;32mfor\u001b[0m \u001b[0m_\u001b[0m \u001b[0;32min\u001b[0m \u001b[0mrange_\u001b[0m\u001b[0;34m(\u001b[0m\u001b[0mself\u001b[0m\u001b[0;34m.\u001b[0m\u001b[0m__num_dataset\u001b[0m\u001b[0;34m)\u001b[0m\u001b[0;34m]\u001b[0m\u001b[0;34m\u001b[0m\u001b[0;34m\u001b[0m\u001b[0m\n\u001b[1;32m   1804\u001b[0m             \u001b[0;32mreturn\u001b[0m \u001b[0mis_finished\u001b[0m\u001b[0;34m.\u001b[0m\u001b[0mvalue\u001b[0m \u001b[0;34m==\u001b[0m \u001b[0;36m1\u001b[0m\u001b[0;34m\u001b[0m\u001b[0;34m\u001b[0m\u001b[0m\n",
      "\u001b[0;31mKeyboardInterrupt\u001b[0m: "
     ]
    }
   ],
   "source": [
    "# Train Type\n",
    "scores = cross_val_score(type_model, X_for_type_industry, y['Type'], cv=cross_validation_folds,scoring = 'f1_weighted')\n",
    "score_arr[0] = (np.round(np.mean(scores),2))\n",
    "print(\"Model for Type:\")\n",
    "print(\"Mean : \"+str(np.round(np.mean(scores),2)) + \" | \" + \"Min : \" + str(np.round(np.min(scores),2)) + \" | \" + \"Max : \" + str(np.round(np.max(scores),2)))\n",
    "\n",
    "\n",
    "# Train Product\n",
    "scores = cross_val_score(product_model, X_for_product, y['Product'], cv=cross_validation_folds,scoring = 'f1_weighted')\n",
    "score_arr[1] = (np.round(np.mean(scores),2))\n",
    "print(\"Model for Product:\")\n",
    "print(\"Mean : \"+str(np.round(np.mean(scores),2)) + \" | \" + \"Min : \" + str(np.round(np.min(scores),2)) + \" | \" + \"Max : \" + str(np.round(np.max(scores),2)))\n",
    "\n",
    "# Train Industry\n",
    "scores = cross_val_score(industry_model, X_for_type_industry, y['industry'], cv=cross_validation_folds,scoring = 'f1_weighted')\n",
    "score_arr[2] = (np.round(np.mean(scores),2))\n",
    "print(\"Model for Industry:\")\n",
    "print(\"Mean : \"+str(np.round(np.mean(scores),2)) + \" | \" + \"Min : \" + str(np.round(np.min(scores),2)) + \" | \" + \"Max : \" + str(np.round(np.max(scores),2)))\n",
    "\n",
    "score_arr[3] = (np.round(0.3*score_arr[0] + 0.2*score_arr[1] + 0.5*score_arr[2], 2))\n",
    "print(\"Final score : \" + str(score_arr[3]))\n"
   ]
  },
  {
   "cell_type": "markdown",
   "metadata": {
    "id": "ICqS6Ni4SYvU"
   },
   "source": [
    "## Tuning parameters\n",
    "\n",
    "First, we tune model for predicting industry. More accuracy will allow for better increase in score"
   ]
  },
  {
   "cell_type": "code",
   "execution_count": 17,
   "metadata": {
    "id": "dAVoaIeLTtAl"
   },
   "outputs": [],
   "source": [
    "industry_model.get_params\n",
    "industry_param_grid = {\n",
    "    'learning_rate':[0.05, 0.1],\n",
    "    'reg_alpha': [0.01, 0.05],\n",
    "    'reg_lambda': [0.01, 0.05],\n",
    "    'num_leaves': [30, 40],\n",
    "    'subsample':[0.7,0.8,0.9]\n",
    "}\n",
    "\n",
    "\n",
    "type_param_grid = {\n",
    "    'learning_rate':[0.05, 0.1],\n",
    "    'reg_alpha': [0.01, 0.05],\n",
    "    'reg_lambda': [0.01, 0.05],\n",
    "    'num_leaves': [30, 40],\n",
    "    'subsample':[0.7,0.8,0.9]\n",
    "}\n",
    "\n",
    "product_param_grid = {\n",
    "    'penalty':['l2', 'elasticnet'],\n",
    "    'C':[0.1, 0.5, 0.7, 1.0],\n",
    "    'l1_ratio':[0.1, 0.5, 0.8]\n",
    "}\n"
   ]
  },
  {
   "cell_type": "code",
   "execution_count": 18,
   "metadata": {
    "id": "Ltd28tk-2GZp"
   },
   "outputs": [],
   "source": [
    "industry_model_tune = RandomizedSearchCV(industry_model,industry_param_grid,cv = 3, random_state = SEED,n_jobs =-1)\n",
    "\n",
    "type_model_tune = RandomizedSearchCV(type_model,type_param_grid,cv = 3, random_state = SEED,n_jobs =-1)\n",
    "\n",
    "product_model_tune = RandomizedSearchCV(product_model,product_param_grid,cv = 3, random_state = SEED,n_jobs =-1)"
   ]
  },
  {
   "cell_type": "code",
   "execution_count": 19,
   "metadata": {
    "colab": {
     "base_uri": "https://localhost:8080/"
    },
    "id": "ovo1M6eV2dTk",
    "outputId": "0737687b-5b95-4d42-9841-fbe8d0eadd16"
   },
   "outputs": [
    {
     "data": {
      "text/plain": [
       "{'learning_rate': 0.1,\n",
       " 'num_leaves': 40,\n",
       " 'reg_alpha': 0.05,\n",
       " 'reg_lambda': 0.05,\n",
       " 'subsample': 0.9}"
      ]
     },
     "execution_count": 19,
     "metadata": {
      "tags": []
     },
     "output_type": "execute_result"
    }
   ],
   "source": [
    "industry_model_tune.fit(X_for_type_industry, y['industry'])\n",
    "industry_model_tune.best_params_"
   ]
  },
  {
   "cell_type": "code",
   "execution_count": 20,
   "metadata": {
    "colab": {
     "base_uri": "https://localhost:8080/",
     "height": 348
    },
    "id": "1es1Pnuuw79G",
    "outputId": "708a0db5-d4ad-4cd3-bc09-dda24d011452"
   },
   "outputs": [
    {
     "ename": "KeyboardInterrupt",
     "evalue": "ignored",
     "output_type": "error",
     "traceback": [
      "\u001b[0;31m---------------------------------------------------------------------------\u001b[0m",
      "\u001b[0;31mKeyboardInterrupt\u001b[0m                         Traceback (most recent call last)",
      "\u001b[0;32m<ipython-input-20-dae23f16b348>\u001b[0m in \u001b[0;36m<module>\u001b[0;34m()\u001b[0m\n\u001b[0;32m----> 1\u001b[0;31m \u001b[0mtype_model_tune\u001b[0m\u001b[0;34m.\u001b[0m\u001b[0mfit\u001b[0m\u001b[0;34m(\u001b[0m\u001b[0mX_for_type_industry\u001b[0m\u001b[0;34m,\u001b[0m \u001b[0my\u001b[0m\u001b[0;34m[\u001b[0m\u001b[0;34m'Type'\u001b[0m\u001b[0;34m]\u001b[0m\u001b[0;34m)\u001b[0m\u001b[0;34m\u001b[0m\u001b[0;34m\u001b[0m\u001b[0m\n\u001b[0m\u001b[1;32m      2\u001b[0m \u001b[0mtype_model_tune\u001b[0m\u001b[0;34m.\u001b[0m\u001b[0mbest_params_\u001b[0m\u001b[0;34m\u001b[0m\u001b[0;34m\u001b[0m\u001b[0m\n",
      "\u001b[0;32m/usr/local/lib/python3.7/dist-packages/sklearn/model_selection/_search.py\u001b[0m in \u001b[0;36mfit\u001b[0;34m(self, X, y, groups, **fit_params)\u001b[0m\n\u001b[1;32m    708\u001b[0m                 \u001b[0;32mreturn\u001b[0m \u001b[0mresults\u001b[0m\u001b[0;34m\u001b[0m\u001b[0;34m\u001b[0m\u001b[0m\n\u001b[1;32m    709\u001b[0m \u001b[0;34m\u001b[0m\u001b[0m\n\u001b[0;32m--> 710\u001b[0;31m             \u001b[0mself\u001b[0m\u001b[0;34m.\u001b[0m\u001b[0m_run_search\u001b[0m\u001b[0;34m(\u001b[0m\u001b[0mevaluate_candidates\u001b[0m\u001b[0;34m)\u001b[0m\u001b[0;34m\u001b[0m\u001b[0;34m\u001b[0m\u001b[0m\n\u001b[0m\u001b[1;32m    711\u001b[0m \u001b[0;34m\u001b[0m\u001b[0m\n\u001b[1;32m    712\u001b[0m         \u001b[0;31m# For multi-metric evaluation, store the best_index_, best_params_ and\u001b[0m\u001b[0;34m\u001b[0m\u001b[0;34m\u001b[0m\u001b[0;34m\u001b[0m\u001b[0m\n",
      "\u001b[0;32m/usr/local/lib/python3.7/dist-packages/sklearn/model_selection/_search.py\u001b[0m in \u001b[0;36m_run_search\u001b[0;34m(self, evaluate_candidates)\u001b[0m\n\u001b[1;32m   1482\u001b[0m         evaluate_candidates(ParameterSampler(\n\u001b[1;32m   1483\u001b[0m             \u001b[0mself\u001b[0m\u001b[0;34m.\u001b[0m\u001b[0mparam_distributions\u001b[0m\u001b[0;34m,\u001b[0m \u001b[0mself\u001b[0m\u001b[0;34m.\u001b[0m\u001b[0mn_iter\u001b[0m\u001b[0;34m,\u001b[0m\u001b[0;34m\u001b[0m\u001b[0;34m\u001b[0m\u001b[0m\n\u001b[0;32m-> 1484\u001b[0;31m             random_state=self.random_state))\n\u001b[0m",
      "\u001b[0;32m/usr/local/lib/python3.7/dist-packages/sklearn/model_selection/_search.py\u001b[0m in \u001b[0;36mevaluate_candidates\u001b[0;34m(candidate_params)\u001b[0m\n\u001b[1;32m    687\u001b[0m                                \u001b[0;32mfor\u001b[0m \u001b[0mparameters\u001b[0m\u001b[0;34m,\u001b[0m \u001b[0;34m(\u001b[0m\u001b[0mtrain\u001b[0m\u001b[0;34m,\u001b[0m \u001b[0mtest\u001b[0m\u001b[0;34m)\u001b[0m\u001b[0;34m\u001b[0m\u001b[0;34m\u001b[0m\u001b[0m\n\u001b[1;32m    688\u001b[0m                                in product(candidate_params,\n\u001b[0;32m--> 689\u001b[0;31m                                           cv.split(X, y, groups)))\n\u001b[0m\u001b[1;32m    690\u001b[0m \u001b[0;34m\u001b[0m\u001b[0m\n\u001b[1;32m    691\u001b[0m                 \u001b[0;32mif\u001b[0m \u001b[0mlen\u001b[0m\u001b[0;34m(\u001b[0m\u001b[0mout\u001b[0m\u001b[0;34m)\u001b[0m \u001b[0;34m<\u001b[0m \u001b[0;36m1\u001b[0m\u001b[0;34m:\u001b[0m\u001b[0;34m\u001b[0m\u001b[0;34m\u001b[0m\u001b[0m\n",
      "\u001b[0;32m/usr/local/lib/python3.7/dist-packages/joblib/parallel.py\u001b[0m in \u001b[0;36m__call__\u001b[0;34m(self, iterable)\u001b[0m\n\u001b[1;32m   1052\u001b[0m \u001b[0;34m\u001b[0m\u001b[0m\n\u001b[1;32m   1053\u001b[0m             \u001b[0;32mwith\u001b[0m \u001b[0mself\u001b[0m\u001b[0;34m.\u001b[0m\u001b[0m_backend\u001b[0m\u001b[0;34m.\u001b[0m\u001b[0mretrieval_context\u001b[0m\u001b[0;34m(\u001b[0m\u001b[0;34m)\u001b[0m\u001b[0;34m:\u001b[0m\u001b[0;34m\u001b[0m\u001b[0;34m\u001b[0m\u001b[0m\n\u001b[0;32m-> 1054\u001b[0;31m                 \u001b[0mself\u001b[0m\u001b[0;34m.\u001b[0m\u001b[0mretrieve\u001b[0m\u001b[0;34m(\u001b[0m\u001b[0;34m)\u001b[0m\u001b[0;34m\u001b[0m\u001b[0;34m\u001b[0m\u001b[0m\n\u001b[0m\u001b[1;32m   1055\u001b[0m             \u001b[0;31m# Make sure that we get a last message telling us we are done\u001b[0m\u001b[0;34m\u001b[0m\u001b[0;34m\u001b[0m\u001b[0;34m\u001b[0m\u001b[0m\n\u001b[1;32m   1056\u001b[0m             \u001b[0melapsed_time\u001b[0m \u001b[0;34m=\u001b[0m \u001b[0mtime\u001b[0m\u001b[0;34m.\u001b[0m\u001b[0mtime\u001b[0m\u001b[0;34m(\u001b[0m\u001b[0;34m)\u001b[0m \u001b[0;34m-\u001b[0m \u001b[0mself\u001b[0m\u001b[0;34m.\u001b[0m\u001b[0m_start_time\u001b[0m\u001b[0;34m\u001b[0m\u001b[0;34m\u001b[0m\u001b[0m\n",
      "\u001b[0;32m/usr/local/lib/python3.7/dist-packages/joblib/parallel.py\u001b[0m in \u001b[0;36mretrieve\u001b[0;34m(self)\u001b[0m\n\u001b[1;32m    931\u001b[0m             \u001b[0;32mtry\u001b[0m\u001b[0;34m:\u001b[0m\u001b[0;34m\u001b[0m\u001b[0;34m\u001b[0m\u001b[0m\n\u001b[1;32m    932\u001b[0m                 \u001b[0;32mif\u001b[0m \u001b[0mgetattr\u001b[0m\u001b[0;34m(\u001b[0m\u001b[0mself\u001b[0m\u001b[0;34m.\u001b[0m\u001b[0m_backend\u001b[0m\u001b[0;34m,\u001b[0m \u001b[0;34m'supports_timeout'\u001b[0m\u001b[0;34m,\u001b[0m \u001b[0;32mFalse\u001b[0m\u001b[0;34m)\u001b[0m\u001b[0;34m:\u001b[0m\u001b[0;34m\u001b[0m\u001b[0;34m\u001b[0m\u001b[0m\n\u001b[0;32m--> 933\u001b[0;31m                     \u001b[0mself\u001b[0m\u001b[0;34m.\u001b[0m\u001b[0m_output\u001b[0m\u001b[0;34m.\u001b[0m\u001b[0mextend\u001b[0m\u001b[0;34m(\u001b[0m\u001b[0mjob\u001b[0m\u001b[0;34m.\u001b[0m\u001b[0mget\u001b[0m\u001b[0;34m(\u001b[0m\u001b[0mtimeout\u001b[0m\u001b[0;34m=\u001b[0m\u001b[0mself\u001b[0m\u001b[0;34m.\u001b[0m\u001b[0mtimeout\u001b[0m\u001b[0;34m)\u001b[0m\u001b[0;34m)\u001b[0m\u001b[0;34m\u001b[0m\u001b[0;34m\u001b[0m\u001b[0m\n\u001b[0m\u001b[1;32m    934\u001b[0m                 \u001b[0;32melse\u001b[0m\u001b[0;34m:\u001b[0m\u001b[0;34m\u001b[0m\u001b[0;34m\u001b[0m\u001b[0m\n\u001b[1;32m    935\u001b[0m                     \u001b[0mself\u001b[0m\u001b[0;34m.\u001b[0m\u001b[0m_output\u001b[0m\u001b[0;34m.\u001b[0m\u001b[0mextend\u001b[0m\u001b[0;34m(\u001b[0m\u001b[0mjob\u001b[0m\u001b[0;34m.\u001b[0m\u001b[0mget\u001b[0m\u001b[0;34m(\u001b[0m\u001b[0;34m)\u001b[0m\u001b[0;34m)\u001b[0m\u001b[0;34m\u001b[0m\u001b[0;34m\u001b[0m\u001b[0m\n",
      "\u001b[0;32m/usr/local/lib/python3.7/dist-packages/joblib/_parallel_backends.py\u001b[0m in \u001b[0;36mwrap_future_result\u001b[0;34m(future, timeout)\u001b[0m\n\u001b[1;32m    540\u001b[0m         AsyncResults.get from multiprocessing.\"\"\"\n\u001b[1;32m    541\u001b[0m         \u001b[0;32mtry\u001b[0m\u001b[0;34m:\u001b[0m\u001b[0;34m\u001b[0m\u001b[0;34m\u001b[0m\u001b[0m\n\u001b[0;32m--> 542\u001b[0;31m             \u001b[0;32mreturn\u001b[0m \u001b[0mfuture\u001b[0m\u001b[0;34m.\u001b[0m\u001b[0mresult\u001b[0m\u001b[0;34m(\u001b[0m\u001b[0mtimeout\u001b[0m\u001b[0;34m=\u001b[0m\u001b[0mtimeout\u001b[0m\u001b[0;34m)\u001b[0m\u001b[0;34m\u001b[0m\u001b[0;34m\u001b[0m\u001b[0m\n\u001b[0m\u001b[1;32m    543\u001b[0m         \u001b[0;32mexcept\u001b[0m \u001b[0mCfTimeoutError\u001b[0m \u001b[0;32mas\u001b[0m \u001b[0me\u001b[0m\u001b[0;34m:\u001b[0m\u001b[0;34m\u001b[0m\u001b[0;34m\u001b[0m\u001b[0m\n\u001b[1;32m    544\u001b[0m             \u001b[0;32mraise\u001b[0m \u001b[0mTimeoutError\u001b[0m \u001b[0;32mfrom\u001b[0m \u001b[0me\u001b[0m\u001b[0;34m\u001b[0m\u001b[0;34m\u001b[0m\u001b[0m\n",
      "\u001b[0;32m/usr/lib/python3.7/concurrent/futures/_base.py\u001b[0m in \u001b[0;36mresult\u001b[0;34m(self, timeout)\u001b[0m\n\u001b[1;32m    428\u001b[0m                 \u001b[0;32mreturn\u001b[0m \u001b[0mself\u001b[0m\u001b[0;34m.\u001b[0m\u001b[0m__get_result\u001b[0m\u001b[0;34m(\u001b[0m\u001b[0;34m)\u001b[0m\u001b[0;34m\u001b[0m\u001b[0;34m\u001b[0m\u001b[0m\n\u001b[1;32m    429\u001b[0m \u001b[0;34m\u001b[0m\u001b[0m\n\u001b[0;32m--> 430\u001b[0;31m             \u001b[0mself\u001b[0m\u001b[0;34m.\u001b[0m\u001b[0m_condition\u001b[0m\u001b[0;34m.\u001b[0m\u001b[0mwait\u001b[0m\u001b[0;34m(\u001b[0m\u001b[0mtimeout\u001b[0m\u001b[0;34m)\u001b[0m\u001b[0;34m\u001b[0m\u001b[0;34m\u001b[0m\u001b[0m\n\u001b[0m\u001b[1;32m    431\u001b[0m \u001b[0;34m\u001b[0m\u001b[0m\n\u001b[1;32m    432\u001b[0m             \u001b[0;32mif\u001b[0m \u001b[0mself\u001b[0m\u001b[0;34m.\u001b[0m\u001b[0m_state\u001b[0m \u001b[0;32min\u001b[0m \u001b[0;34m[\u001b[0m\u001b[0mCANCELLED\u001b[0m\u001b[0;34m,\u001b[0m \u001b[0mCANCELLED_AND_NOTIFIED\u001b[0m\u001b[0;34m]\u001b[0m\u001b[0;34m:\u001b[0m\u001b[0;34m\u001b[0m\u001b[0;34m\u001b[0m\u001b[0m\n",
      "\u001b[0;32m/usr/lib/python3.7/threading.py\u001b[0m in \u001b[0;36mwait\u001b[0;34m(self, timeout)\u001b[0m\n\u001b[1;32m    294\u001b[0m         \u001b[0;32mtry\u001b[0m\u001b[0;34m:\u001b[0m    \u001b[0;31m# restore state no matter what (e.g., KeyboardInterrupt)\u001b[0m\u001b[0;34m\u001b[0m\u001b[0;34m\u001b[0m\u001b[0m\n\u001b[1;32m    295\u001b[0m             \u001b[0;32mif\u001b[0m \u001b[0mtimeout\u001b[0m \u001b[0;32mis\u001b[0m \u001b[0;32mNone\u001b[0m\u001b[0;34m:\u001b[0m\u001b[0;34m\u001b[0m\u001b[0;34m\u001b[0m\u001b[0m\n\u001b[0;32m--> 296\u001b[0;31m                 \u001b[0mwaiter\u001b[0m\u001b[0;34m.\u001b[0m\u001b[0macquire\u001b[0m\u001b[0;34m(\u001b[0m\u001b[0;34m)\u001b[0m\u001b[0;34m\u001b[0m\u001b[0;34m\u001b[0m\u001b[0m\n\u001b[0m\u001b[1;32m    297\u001b[0m                 \u001b[0mgotit\u001b[0m \u001b[0;34m=\u001b[0m \u001b[0;32mTrue\u001b[0m\u001b[0;34m\u001b[0m\u001b[0;34m\u001b[0m\u001b[0m\n\u001b[1;32m    298\u001b[0m             \u001b[0;32melse\u001b[0m\u001b[0;34m:\u001b[0m\u001b[0;34m\u001b[0m\u001b[0;34m\u001b[0m\u001b[0m\n",
      "\u001b[0;31mKeyboardInterrupt\u001b[0m: "
     ]
    }
   ],
   "source": [
    "type_model_tune.fit(X_for_type_industry, y['Type'])\n",
    "type_model_tune.best_params_\n"
   ]
  },
  {
   "cell_type": "code",
   "execution_count": null,
   "metadata": {
    "id": "bgwp6ysCxDkc"
   },
   "outputs": [],
   "source": [
    "product_model_tune.fit(X_for_product, y['Product'])\n",
    "product_model_tune.best_params_"
   ]
  },
  {
   "cell_type": "code",
   "execution_count": 59,
   "metadata": {
    "colab": {
     "base_uri": "https://localhost:8080/"
    },
    "id": "7LY84R06WggL",
    "outputId": "dedc34a6-dc54-4e80-fb19-1a2003747fbf"
   },
   "outputs": [
    {
     "data": {
      "text/plain": [
       "RandomizedSearchCV(cv=3, error_score=nan,\n",
       "                   estimator=LGBMClassifier(boosting_type='gbdt',\n",
       "                                            class_weight=None,\n",
       "                                            colsample_bytree=1.0,\n",
       "                                            importance_type='split',\n",
       "                                            learning_rate=0.1, max_depth=-1,\n",
       "                                            min_child_samples=20,\n",
       "                                            min_child_weight=0.001,\n",
       "                                            min_split_gain=0.0,\n",
       "                                            n_estimators=100, n_jobs=-1,\n",
       "                                            num_leaves=31, objective=None,\n",
       "                                            random_state=20, reg_alpha=0.0,\n",
       "                                            reg_lambda=0.0, silent=True,\n",
       "                                            subsample=1.0,\n",
       "                                            subsample_for_bin=200000,\n",
       "                                            subsample_freq=0),\n",
       "                   iid='deprecated', n_iter=10, n_jobs=-1,\n",
       "                   param_distributions={'num_leaves': [10, 15, 30],\n",
       "                                        'reg_alpha ': [0.01, 0.1],\n",
       "                                        'subsample': [0.8]},\n",
       "                   pre_dispatch='2*n_jobs', random_state=20, refit=True,\n",
       "                   return_train_score=False, scoring=None, verbose=0)"
      ]
     },
     "execution_count": 59,
     "metadata": {
      "tags": []
     },
     "output_type": "execute_result"
    }
   ],
   "source": [
    "best_industry_params = industry_model_tune.best_params_\n",
    "best_type_params = type_model_tune.best_params_\n",
    "best_product_params = product_model_tune.best_params_"
   ]
  },
  {
   "cell_type": "markdown",
   "metadata": {
    "id": "CJuB6sMqGBgm"
   },
   "source": [
    "## Retrain on best parameters\n",
    "\n",
    "industry\n",
    "{'subsample': 0.9,\n",
    " 'reg_lambda': 0.05,\n",
    " 'reg_alpha': 0.05,\n",
    " 'num_leaves': 40,\n",
    " 'learning_rate': 0.1}\n",
    "\n",
    " type: {'subsample': 0.8,\n",
    " 'reg_lambda': 0.05,\n",
    " 'reg_alpha': 0.01,\n",
    " 'num_leaves': 40,\n",
    " 'learning_rate': 0.1}\n",
    "\n",
    " product: {'penalty': 'l2', 'l1_ratio': 0.8, 'C': 0.1}"
   ]
  },
  {
   "cell_type": "code",
   "execution_count": 16,
   "metadata": {
    "id": "_1yWFqRUnjXt"
   },
   "outputs": [],
   "source": [
    "best_industry_model = lgb.LGBMClassifier(subsample= 0.9,reg_lambda= 0.05, reg_alpha= 0.05, num_leaves= 40, learning_rate= 0.1,random_state = SEED)\n",
    "best_type_model = lgb.LGBMClassifier(subsample= 0.8,reg_lambda= 0.05, reg_alpha= 0.01, num_leaves= 40, learning_rate= 0.1,random_state = SEED)\n",
    "\n",
    "best_product_model = LogisticRegression(penalty= 'l2', l1_ratio= 0.8, C= 0.1, random_state = SEED)\n",
    "\n",
    "cross_validation_folds = 3\n",
    "\n",
    "score_arr = [0 ,0 ,0, 0]"
   ]
  },
  {
   "cell_type": "code",
   "execution_count": 17,
   "metadata": {
    "colab": {
     "base_uri": "https://localhost:8080/"
    },
    "id": "L56VrDDBHMtR",
    "outputId": "938f0cb8-a4dd-4d1d-9217-8050cb75559e"
   },
   "outputs": [
    {
     "name": "stdout",
     "output_type": "stream",
     "text": [
      "Model for Type:\n",
      "Mean : 0.75 | Min : 0.75 | Max : 0.75\n",
      "Model for Product:\n",
      "Mean : 0.96 | Min : 0.96 | Max : 0.96\n",
      "Model for Industry:\n",
      "Mean : 0.92 | Min : 0.91 | Max : 0.92\n",
      "Final score : 0.88\n"
     ]
    }
   ],
   "source": [
    "# Train Type\n",
    "\n",
    "scores = cross_val_score(best_type_model, X_for_type_industry, y['Type'], cv=cross_validation_folds,scoring = 'f1_weighted')\n",
    "score_arr[0] = (np.round(np.mean(scores),2))\n",
    "print(\"Model for Type:\")\n",
    "print(\"Mean : \"+str(np.round(np.mean(scores),2)) + \" | \" + \"Min : \" + str(np.round(np.min(scores),2)) + \" | \" + \"Max : \" + str(np.round(np.max(scores),2)))\n",
    "\n",
    "\n",
    "# Train Product\n",
    "scores = cross_val_score(best_product_model, X_for_product, y['Product'], cv=cross_validation_folds,scoring = 'f1_weighted')\n",
    "score_arr[1] = (np.round(np.mean(scores),2))\n",
    "print(\"Model for Product:\")\n",
    "print(\"Mean : \"+str(np.round(np.mean(scores),2)) + \" | \" + \"Min : \" + str(np.round(np.min(scores),2)) + \" | \" + \"Max : \" + str(np.round(np.max(scores),2)))\n",
    "\n",
    "# Train Industry\n",
    "scores = cross_val_score(best_industry_model, X_for_type_industry, y['industry'], cv=cross_validation_folds,scoring = 'f1_weighted')\n",
    "score_arr[2] = (np.round(np.mean(scores),2))\n",
    "print(\"Model for Industry:\")\n",
    "print(\"Mean : \"+str(np.round(np.mean(scores),2)) + \" | \" + \"Min : \" + str(np.round(np.min(scores),2)) + \" | \" + \"Max : \" + str(np.round(np.max(scores),2)))\n",
    "\n",
    "score_arr[3] = (np.round(0.3*score_arr[0] + 0.2*score_arr[1] + 0.5*score_arr[2], 2))\n",
    "print(\"Final score : \" + str(score_arr[3]))"
   ]
  },
  {
   "cell_type": "markdown",
   "metadata": {
    "id": "b64DXBkgLiHA"
   },
   "source": [
    "## Generate submission"
   ]
  },
  {
   "cell_type": "code",
   "execution_count": 18,
   "metadata": {
    "colab": {
     "base_uri": "https://localhost:8080/"
    },
    "id": "ZwpwxQbnJP_Z",
    "outputId": "1ccfceb4-3d7b-48ff-d185-c27d60151e80"
   },
   "outputs": [
    {
     "data": {
      "text/plain": [
       "LogisticRegression(C=0.1, class_weight=None, dual=False, fit_intercept=True,\n",
       "                   intercept_scaling=1, l1_ratio=0.8, max_iter=100,\n",
       "                   multi_class='auto', n_jobs=None, penalty='l2',\n",
       "                   random_state=20, solver='lbfgs', tol=0.0001, verbose=0,\n",
       "                   warm_start=False)"
      ]
     },
     "execution_count": 18,
     "metadata": {
      "tags": []
     },
     "output_type": "execute_result"
    }
   ],
   "source": [
    "best_industry_model.fit(X_for_type_industry,y['industry'])\n",
    "best_type_model.fit(X_for_type_industry,y['Type'])\n",
    "best_product_model.fit(X_for_product,y['Product'])"
   ]
  },
  {
   "cell_type": "code",
   "execution_count": 20,
   "metadata": {
    "id": "AdA3BQhzMCo1"
   },
   "outputs": [],
   "source": [
    "industry_pred = best_industry_model.predict(test_for_type_industry)\n",
    "type_pred = best_type_model.predict(test_for_type_industry)\n",
    "\n",
    "product_pred = best_product_model.predict(test_for_product)"
   ]
  },
  {
   "cell_type": "code",
   "execution_count": null,
   "metadata": {
    "id": "5T69ODdKOCBp"
   },
   "outputs": [],
   "source": [
    "prediction_df = pd.DataFrame(data = test_data['ID'], columns = ['ID'])\n",
    "\n",
    "prediction_df['Industry'] = industry_pred\n",
    "prediction_df['Type'] = updated_type_pred\n",
    "prediction_df['Product'] = product_pred\n",
    "prediction_df"
   ]
  },
  {
   "cell_type": "code",
   "execution_count": null,
   "metadata": {
    "id": "CDR4FqfdYmJT"
   },
   "outputs": [],
   "source": [
    "prediction_df.to_csv(save_path + 'submission_final.csv', index = False)"
   ]
  },
  {
   "cell_type": "markdown",
   "metadata": {
    "id": "tXKDTS9HKxQj"
   },
   "source": [
    "# Update type predictions - (Not used. Slightly Lower score due to error propogation.)\n",
    "\n",
    "Since Type model is the weakest compared to other targets, we can introduce hierarchy and reassign the type based on most probable outcome derived from combination of possible types for product-industry"
   ]
  },
  {
   "cell_type": "code",
   "execution_count": null,
   "metadata": {
    "id": "JyPmZaofKtmc"
   },
   "outputs": [],
   "source": [
    "temp = prediction_df.copy()\n",
    "valid_type_matrix = np.zeros((type_pred.shape[0],best_type_model.classes_.shape[0]))\n",
    "type_class_array = best_type_model.classes_.tolist()\n",
    "\n",
    "for idx, industry in enumerate(industry_pred):\n",
    "    for ind_type in hier_industry_type[industry]:\n",
    "        valid_type_matrix[idx, type_class_array.index(ind_type)] = 1\n",
    "\n",
    "valid_type_matrix\n",
    "updated_type_pred_matrix = np.multiply(valid_type_matrix,best_type_model.predict_proba(test_for_type_industry))\n",
    "updated_type_index = np.argmax(updated_type_pred_matrix, axis = 1)\n",
    "updated_type_index\n",
    "\n",
    "updated_type_pred = []\n",
    "\n",
    "for idx in updated_type_index:\n",
    "    updated_type_pred.append(type_class_array[idx])\n",
    "    \n",
    "updated_type_pred"
   ]
  },
  {
   "cell_type": "code",
   "execution_count": 21,
   "metadata": {
    "colab": {
     "base_uri": "https://localhost:8080/",
     "height": 424
    },
    "id": "FbDOD9OZZzLS",
    "outputId": "31d9d48e-36df-451f-e726-fc5900c1d0f1"
   },
   "outputs": [
    {
     "data": {
      "text/html": [
       "<div>\n",
       "<style scoped>\n",
       "    .dataframe tbody tr th:only-of-type {\n",
       "        vertical-align: middle;\n",
       "    }\n",
       "\n",
       "    .dataframe tbody tr th {\n",
       "        vertical-align: top;\n",
       "    }\n",
       "\n",
       "    .dataframe thead th {\n",
       "        text-align: right;\n",
       "    }\n",
       "</style>\n",
       "<table border=\"1\" class=\"dataframe\">\n",
       "  <thead>\n",
       "    <tr style=\"text-align: right;\">\n",
       "      <th></th>\n",
       "      <th>ID</th>\n",
       "      <th>Industry</th>\n",
       "      <th>Type</th>\n",
       "      <th>Product</th>\n",
       "    </tr>\n",
       "  </thead>\n",
       "  <tbody>\n",
       "    <tr>\n",
       "      <th>0</th>\n",
       "      <td>PROJ0x51fa</td>\n",
       "      <td>Health Industry</td>\n",
       "      <td>Pharma</td>\n",
       "      <td>Organicfood</td>\n",
       "    </tr>\n",
       "    <tr>\n",
       "      <th>1</th>\n",
       "      <td>PROJ0x3c88</td>\n",
       "      <td>Power Industry</td>\n",
       "      <td>green energy</td>\n",
       "      <td>Wind</td>\n",
       "    </tr>\n",
       "    <tr>\n",
       "      <th>2</th>\n",
       "      <td>PROJ0x3e72</td>\n",
       "      <td>Automobile Industry</td>\n",
       "      <td>Light Vehicles</td>\n",
       "      <td>IT</td>\n",
       "    </tr>\n",
       "    <tr>\n",
       "      <th>3</th>\n",
       "      <td>PROJ0x1129</td>\n",
       "      <td>Automobile Industry</td>\n",
       "      <td>Light Vehicles</td>\n",
       "      <td>AI</td>\n",
       "    </tr>\n",
       "    <tr>\n",
       "      <th>4</th>\n",
       "      <td>PROJ0x9029</td>\n",
       "      <td>Automobile Industry</td>\n",
       "      <td>Heavy Vehicles</td>\n",
       "      <td>JCP</td>\n",
       "    </tr>\n",
       "    <tr>\n",
       "      <th>...</th>\n",
       "      <td>...</td>\n",
       "      <td>...</td>\n",
       "      <td>...</td>\n",
       "      <td>...</td>\n",
       "    </tr>\n",
       "    <tr>\n",
       "      <th>15885</th>\n",
       "      <td>PROJ0x27fb</td>\n",
       "      <td>Computer Industry</td>\n",
       "      <td>Software</td>\n",
       "      <td>Hardware accelerator</td>\n",
       "    </tr>\n",
       "    <tr>\n",
       "      <th>15886</th>\n",
       "      <td>PROJ0x3261</td>\n",
       "      <td>Automobile Industry</td>\n",
       "      <td>Heavy Vehicles</td>\n",
       "      <td>Truck</td>\n",
       "    </tr>\n",
       "    <tr>\n",
       "      <th>15887</th>\n",
       "      <td>PROJ0x3aff</td>\n",
       "      <td>Computer Industry</td>\n",
       "      <td>Security</td>\n",
       "      <td>Cyber-security</td>\n",
       "    </tr>\n",
       "    <tr>\n",
       "      <th>15888</th>\n",
       "      <td>PROJ0x1082</td>\n",
       "      <td>Power Industry</td>\n",
       "      <td>green energy</td>\n",
       "      <td>Wind</td>\n",
       "    </tr>\n",
       "    <tr>\n",
       "      <th>15889</th>\n",
       "      <td>PROJ0x7cf7</td>\n",
       "      <td>Health Industry</td>\n",
       "      <td>Pharma</td>\n",
       "      <td>allopathy</td>\n",
       "    </tr>\n",
       "  </tbody>\n",
       "</table>\n",
       "<p>15890 rows × 4 columns</p>\n",
       "</div>"
      ],
      "text/plain": [
       "               ID             Industry            Type               Product\n",
       "0      PROJ0x51fa      Health Industry          Pharma           Organicfood\n",
       "1      PROJ0x3c88       Power Industry    green energy                  Wind\n",
       "2      PROJ0x3e72  Automobile Industry  Light Vehicles                    IT\n",
       "3      PROJ0x1129  Automobile Industry  Light Vehicles                    AI\n",
       "4      PROJ0x9029  Automobile Industry  Heavy Vehicles                   JCP\n",
       "...           ...                  ...             ...                   ...\n",
       "15885  PROJ0x27fb    Computer Industry        Software  Hardware accelerator\n",
       "15886  PROJ0x3261  Automobile Industry  Heavy Vehicles                 Truck\n",
       "15887  PROJ0x3aff    Computer Industry        Security        Cyber-security\n",
       "15888  PROJ0x1082       Power Industry    green energy                  Wind\n",
       "15889  PROJ0x7cf7      Health Industry          Pharma             allopathy\n",
       "\n",
       "[15890 rows x 4 columns]"
      ]
     },
     "execution_count": 21,
     "metadata": {
      "tags": []
     },
     "output_type": "execute_result"
    }
   ],
   "source": [
    "prediction_df = pd.DataFrame(data = test_data['ID'], columns = ['ID'])\n",
    "\n",
    "prediction_df['Industry'] = industry_pred\n",
    "prediction_df['Type'] = updated_type_pred\n",
    "prediction_df['Product'] = product_pred\n",
    "#prediction_df.to_csv(save_path + 'submission_final.csv', index = False)\n",
    "prediction_df"
   ]
  },
  {
   "cell_type": "code",
   "execution_count": 22,
   "metadata": {
    "id": "g6ioLBZCi2Ks"
   },
   "outputs": [],
   "source": []
  }
 ],
 "metadata": {
  "colab": {
   "collapsed_sections": [
    "jPa6xdyuYyVn",
    "4sA7VA95yMDO",
    "rbwvQ31ry3WU",
    "VcShHqBh6sRF",
    "H-y8l2XBgKA0",
    "gu8q1wkdgYf9",
    "Z7sznMzi9myQ",
    "38Db6v1y9qjZ",
    "Cv84qDru6MHP",
    "snNpmCB61JN3",
    "q00gBlXspUXe",
    "qCw7XtFipKuV",
    "RAzvaYp9pef0",
    "s3IfK5b4yEgG",
    "9wUbgkH7BJDZ",
    "7ssGyB0S5GDi",
    "ICqS6Ni4SYvU",
    "tXKDTS9HKxQj"
   ],
   "name": "Multi classification v2.ipynb",
   "provenance": [],
   "toc_visible": true
  },
  "kernelspec": {
   "display_name": "Python 3 (ipykernel)",
   "language": "python",
   "name": "python3"
  },
  "language_info": {
   "codemirror_mode": {
    "name": "ipython",
    "version": 3
   },
   "file_extension": ".py",
   "mimetype": "text/x-python",
   "name": "python",
   "nbconvert_exporter": "python",
   "pygments_lexer": "ipython3",
   "version": "3.8.10"
  }
 },
 "nbformat": 4,
 "nbformat_minor": 1
}
